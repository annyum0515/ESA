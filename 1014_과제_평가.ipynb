{
  "nbformat": 4,
  "nbformat_minor": 0,
  "metadata": {
    "colab": {
      "provenance": [],
      "collapsed_sections": [],
      "authorship_tag": "ABX9TyP+ut45IEHWUjmUBdYkQkmS",
      "include_colab_link": true
    },
    "kernelspec": {
      "name": "python3",
      "display_name": "Python 3"
    },
    "language_info": {
      "name": "python"
    }
  },
  "cells": [
    {
      "cell_type": "markdown",
      "metadata": {
        "id": "view-in-github",
        "colab_type": "text"
      },
      "source": [
        "<a href=\"https://colab.research.google.com/github/anwishn/ESAA/blob/main/1014_%EA%B3%BC%EC%A0%9C_%ED%8F%89%EA%B0%80.ipynb\" target=\"_parent\"><img src=\"https://colab.research.google.com/assets/colab-badge.svg\" alt=\"Open In Colab\"/></a>"
      ]
    },
    {
      "cell_type": "markdown",
      "source": [
        "파이썬 머신러닝 완벽 가이드 p.147-174"
      ],
      "metadata": {
        "id": "uNByp2_Y0yV9"
      }
    },
    {
      "cell_type": "markdown",
      "source": [
        "# 3단원. 평가\n",
        "\n"
      ],
      "metadata": {
        "id": "o2dAb9oB09YV"
      }
    },
    {
      "cell_type": "markdown",
      "source": [
        "머신러닝의 프로세스 : 데이터 가공/변환 -> 모델 학습/예측 -> 평가\n",
        ">머신러닝 모델은 여러 가지 방법으로 예측 성능 평가\n",
        "\n",
        "* 회귀 : 실제값과 예측값의 오차 평균값에 기반 / 예측 오차를 가지고 정규화 수준 재가공하는 방법\n",
        "\n",
        "ex) 오차에 절댓값 씌워 또는 오차의 제곱 값에 루트 씌워 평균 오차 구하는 방식 \n",
        "\n",
        "* 분류 : 일반적으로는 실제 결과 데이터와 예측 결과 데이터가 얼마나 정확하고 오류가 적게 발생하는가에 기반 but 잘못된 평가 결과에 빠질 수도\n",
        " \n",
        " - 0과 1로 결정값이 한정되는 이진 분류의 성능 평가 지표\n",
        "\n",
        " - **정확도, 오차행렬, 정밀도, 재현율, F1 스코어, ROC AUC**\n",
        " - 결정 클래스 값 종류의 유형에 따라 이진분류와 멀티분류로 나뉘어"
      ],
      "metadata": {
        "id": "7g_dn5v02Mzo"
      }
    },
    {
      "cell_type": "markdown",
      "source": [
        "## 01.정확도(Accuracy)\n",
        "\n",
        "\n",
        "---\n",
        "\n"
      ],
      "metadata": {
        "id": "x9c2MqaW5Fo7"
      }
    },
    {
      "cell_type": "markdown",
      "source": [
        ">**정확도 = (예측 결과가 동일한 데이터 건수) / (전체 예측 데이터 건수)**\n",
        "\n",
        ": 직관적으로 모델 예측 성능을 나타내는 평가 지표\n",
        "\n",
        ": 이진 분류의 경우 데이터의 구성에 따라 ML 모델의 성능을 왜곡할 수 있기 때문에 정확도 수치 하나만 가지고 성능 평가 x\n",
        "\n",
        "ex) 타이타닉 예제 수행 결과 - 성별 조건 하나만을 가지고 결정하는 별거 아닌 알고리즘도 높은 정확도를 나타내는 상황 발생"
      ],
      "metadata": {
        "id": "ggSh-uW85XsP"
      }
    },
    {
      "cell_type": "code",
      "execution_count": null,
      "metadata": {
        "id": "0Q-xBrci0QhS"
      },
      "outputs": [],
      "source": [
        "# 정확도 지표가 어떻게 ML 모델의 성능을 왜곡하는지 확인\n",
        "# 사이킷런의 BaseEstimator 클래스 상속받아 아무런 학습하지 않고, 성별에 따라 생존자를 예측하는 단순한 Classifier 생성\n",
        "from sklearn.base import BaseEstimator\n",
        "\n",
        "class MyDummyClassifier(BaseEstimator):\n",
        "  #fit()메서드는 아무것도 학습하지 않음\n",
        "  def fit(self, X, y=None):\n",
        "    pass\n",
        "  #predict() 메서드는 단순히 Sex 피처가 1이면 0, 그렇지 않으면 1로 예측함.\n",
        "  def predict(self,X):\n",
        "    pred=np.zeros((X.shape[0],1))\n",
        "    for i in range(X.shape[0]):\n",
        "      if X['Sex'].iloc[i]==1:\n",
        "        pred[i]=0\n",
        "      else:\n",
        "        pred[i]=1\n",
        "    return pred"
      ]
    },
    {
      "cell_type": "code",
      "source": [
        "import numpy as np\n",
        "import pandas as pd\n",
        "from sklearn.model_selection import train_test_split\n",
        "from sklearn.metrics import accuracy_score\n",
        "from sklearn import preprocessing\n",
        "\n",
        "# Null 처리 함수\n",
        "def fillna(df):\n",
        "  df['Age'].fillna(df['Age'].mean(), inplace=True)\n",
        "  df['Cabin'].fillna('N', inplace=True)\n",
        "  df['Embarked'].fillna('N', inplace=True)\n",
        "  df['Fare'].fillna(0, inplace=True)\n",
        "  return df\n",
        "\n",
        "# 머신러닝 알고리즘에 불필요한 속성 제거\n",
        "def drop_features(df):\n",
        "  df.drop(['PassengerId','Name','Ticket'], axis=1, inplace=True)\n",
        "  return df\n",
        "\n",
        "# 레이블 인코딩 수행\n",
        "from sklearn.preprocessing import LabelEncoder\n",
        "def format_features(df):\n",
        "  df['Cabin'] = df['Cabin'].str[:1]\n",
        "  features = ['Cabin','Sex','Embarked']\n",
        "  for feature in features:\n",
        "    le = LabelEncoder()\n",
        "    le = le.fit(df[feature])\n",
        "    df[feature] = le.transform(df[feature])\n",
        "  return df\n",
        "\n",
        "# 앞에서 설정한 데이터 전처리 함수 호출\n",
        "def transform_features(df):\n",
        "  df = fillna(df)\n",
        "  df = drop_features(df)\n",
        "  df = format_features(df)\n",
        "  return df"
      ],
      "metadata": {
        "id": "UaTngZ5R8Otr"
      },
      "execution_count": null,
      "outputs": []
    },
    {
      "cell_type": "code",
      "source": [
        "from google.colab import files\n",
        "uploaded = files.upload()\n",
        "\n",
        "# 원본 데이터 재로딩, 데이터 가공, 학습 데이터/테스트 데이터 분할\n",
        "titanic_df = pd.read_csv('./titanic_train.csv')\n",
        "y_titanic_df = titanic_df['Survived']\n",
        "X_titanic_df = titanic_df.drop('Survived',axis=1)\n",
        "X_titanic_df = transform_features(X_titanic_df)\n",
        "X_train, X_test, y_train, y_test = train_test_split(X_titanic_df, y_titanic_df, test_size=0.2, random_state=0)"
      ],
      "metadata": {
        "colab": {
          "base_uri": "https://localhost:8080/",
          "height": 77
        },
        "id": "E39k5CnZ89kd",
        "outputId": "0c30d003-c097-482f-93b5-b571417395a9"
      },
      "execution_count": null,
      "outputs": [
        {
          "output_type": "display_data",
          "data": {
            "text/plain": [
              "<IPython.core.display.HTML object>"
            ],
            "text/html": [
              "\n",
              "     <input type=\"file\" id=\"files-b5c9fc86-ab73-4e63-a5f4-95c189f7e1ed\" name=\"files[]\" multiple disabled\n",
              "        style=\"border:none\" />\n",
              "     <output id=\"result-b5c9fc86-ab73-4e63-a5f4-95c189f7e1ed\">\n",
              "      Upload widget is only available when the cell has been executed in the\n",
              "      current browser session. Please rerun this cell to enable.\n",
              "      </output>\n",
              "      <script>// Copyright 2017 Google LLC\n",
              "//\n",
              "// Licensed under the Apache License, Version 2.0 (the \"License\");\n",
              "// you may not use this file except in compliance with the License.\n",
              "// You may obtain a copy of the License at\n",
              "//\n",
              "//      http://www.apache.org/licenses/LICENSE-2.0\n",
              "//\n",
              "// Unless required by applicable law or agreed to in writing, software\n",
              "// distributed under the License is distributed on an \"AS IS\" BASIS,\n",
              "// WITHOUT WARRANTIES OR CONDITIONS OF ANY KIND, either express or implied.\n",
              "// See the License for the specific language governing permissions and\n",
              "// limitations under the License.\n",
              "\n",
              "/**\n",
              " * @fileoverview Helpers for google.colab Python module.\n",
              " */\n",
              "(function(scope) {\n",
              "function span(text, styleAttributes = {}) {\n",
              "  const element = document.createElement('span');\n",
              "  element.textContent = text;\n",
              "  for (const key of Object.keys(styleAttributes)) {\n",
              "    element.style[key] = styleAttributes[key];\n",
              "  }\n",
              "  return element;\n",
              "}\n",
              "\n",
              "// Max number of bytes which will be uploaded at a time.\n",
              "const MAX_PAYLOAD_SIZE = 100 * 1024;\n",
              "\n",
              "function _uploadFiles(inputId, outputId) {\n",
              "  const steps = uploadFilesStep(inputId, outputId);\n",
              "  const outputElement = document.getElementById(outputId);\n",
              "  // Cache steps on the outputElement to make it available for the next call\n",
              "  // to uploadFilesContinue from Python.\n",
              "  outputElement.steps = steps;\n",
              "\n",
              "  return _uploadFilesContinue(outputId);\n",
              "}\n",
              "\n",
              "// This is roughly an async generator (not supported in the browser yet),\n",
              "// where there are multiple asynchronous steps and the Python side is going\n",
              "// to poll for completion of each step.\n",
              "// This uses a Promise to block the python side on completion of each step,\n",
              "// then passes the result of the previous step as the input to the next step.\n",
              "function _uploadFilesContinue(outputId) {\n",
              "  const outputElement = document.getElementById(outputId);\n",
              "  const steps = outputElement.steps;\n",
              "\n",
              "  const next = steps.next(outputElement.lastPromiseValue);\n",
              "  return Promise.resolve(next.value.promise).then((value) => {\n",
              "    // Cache the last promise value to make it available to the next\n",
              "    // step of the generator.\n",
              "    outputElement.lastPromiseValue = value;\n",
              "    return next.value.response;\n",
              "  });\n",
              "}\n",
              "\n",
              "/**\n",
              " * Generator function which is called between each async step of the upload\n",
              " * process.\n",
              " * @param {string} inputId Element ID of the input file picker element.\n",
              " * @param {string} outputId Element ID of the output display.\n",
              " * @return {!Iterable<!Object>} Iterable of next steps.\n",
              " */\n",
              "function* uploadFilesStep(inputId, outputId) {\n",
              "  const inputElement = document.getElementById(inputId);\n",
              "  inputElement.disabled = false;\n",
              "\n",
              "  const outputElement = document.getElementById(outputId);\n",
              "  outputElement.innerHTML = '';\n",
              "\n",
              "  const pickedPromise = new Promise((resolve) => {\n",
              "    inputElement.addEventListener('change', (e) => {\n",
              "      resolve(e.target.files);\n",
              "    });\n",
              "  });\n",
              "\n",
              "  const cancel = document.createElement('button');\n",
              "  inputElement.parentElement.appendChild(cancel);\n",
              "  cancel.textContent = 'Cancel upload';\n",
              "  const cancelPromise = new Promise((resolve) => {\n",
              "    cancel.onclick = () => {\n",
              "      resolve(null);\n",
              "    };\n",
              "  });\n",
              "\n",
              "  // Wait for the user to pick the files.\n",
              "  const files = yield {\n",
              "    promise: Promise.race([pickedPromise, cancelPromise]),\n",
              "    response: {\n",
              "      action: 'starting',\n",
              "    }\n",
              "  };\n",
              "\n",
              "  cancel.remove();\n",
              "\n",
              "  // Disable the input element since further picks are not allowed.\n",
              "  inputElement.disabled = true;\n",
              "\n",
              "  if (!files) {\n",
              "    return {\n",
              "      response: {\n",
              "        action: 'complete',\n",
              "      }\n",
              "    };\n",
              "  }\n",
              "\n",
              "  for (const file of files) {\n",
              "    const li = document.createElement('li');\n",
              "    li.append(span(file.name, {fontWeight: 'bold'}));\n",
              "    li.append(span(\n",
              "        `(${file.type || 'n/a'}) - ${file.size} bytes, ` +\n",
              "        `last modified: ${\n",
              "            file.lastModifiedDate ? file.lastModifiedDate.toLocaleDateString() :\n",
              "                                    'n/a'} - `));\n",
              "    const percent = span('0% done');\n",
              "    li.appendChild(percent);\n",
              "\n",
              "    outputElement.appendChild(li);\n",
              "\n",
              "    const fileDataPromise = new Promise((resolve) => {\n",
              "      const reader = new FileReader();\n",
              "      reader.onload = (e) => {\n",
              "        resolve(e.target.result);\n",
              "      };\n",
              "      reader.readAsArrayBuffer(file);\n",
              "    });\n",
              "    // Wait for the data to be ready.\n",
              "    let fileData = yield {\n",
              "      promise: fileDataPromise,\n",
              "      response: {\n",
              "        action: 'continue',\n",
              "      }\n",
              "    };\n",
              "\n",
              "    // Use a chunked sending to avoid message size limits. See b/62115660.\n",
              "    let position = 0;\n",
              "    do {\n",
              "      const length = Math.min(fileData.byteLength - position, MAX_PAYLOAD_SIZE);\n",
              "      const chunk = new Uint8Array(fileData, position, length);\n",
              "      position += length;\n",
              "\n",
              "      const base64 = btoa(String.fromCharCode.apply(null, chunk));\n",
              "      yield {\n",
              "        response: {\n",
              "          action: 'append',\n",
              "          file: file.name,\n",
              "          data: base64,\n",
              "        },\n",
              "      };\n",
              "\n",
              "      let percentDone = fileData.byteLength === 0 ?\n",
              "          100 :\n",
              "          Math.round((position / fileData.byteLength) * 100);\n",
              "      percent.textContent = `${percentDone}% done`;\n",
              "\n",
              "    } while (position < fileData.byteLength);\n",
              "  }\n",
              "\n",
              "  // All done.\n",
              "  yield {\n",
              "    response: {\n",
              "      action: 'complete',\n",
              "    }\n",
              "  };\n",
              "}\n",
              "\n",
              "scope.google = scope.google || {};\n",
              "scope.google.colab = scope.google.colab || {};\n",
              "scope.google.colab._files = {\n",
              "  _uploadFiles,\n",
              "  _uploadFilesContinue,\n",
              "};\n",
              "})(self);\n",
              "</script> "
            ]
          },
          "metadata": {}
        },
        {
          "output_type": "stream",
          "name": "stdout",
          "text": [
            "Saving titanic_train.csv to titanic_train.csv\n"
          ]
        }
      ]
    },
    {
      "cell_type": "code",
      "source": [
        "# 위에서 생성한 Dummy Classifier를 이용해 학습/예측/평가 수행.\n",
        "myclf = MyDummyClassifier()\n",
        "myclf.fit(X_train, y_train)\n",
        "\n",
        "mypredictions = myclf.predict(X_test)\n",
        "print('Dummy Classifier의 정확도는:{0:.4f}'.format(accuracy_score(y_test, mypredictions)))"
      ],
      "metadata": {
        "colab": {
          "base_uri": "https://localhost:8080/"
        },
        "id": "ezfKd8rZ-uRC",
        "outputId": "a09b8833-654c-4eef-d01e-8a0960cfacca"
      },
      "execution_count": null,
      "outputs": [
        {
          "output_type": "stream",
          "name": "stdout",
          "text": [
            "Dummy Classifier의 정확도는:0.7877\n"
          ]
        }
      ]
    },
    {
      "cell_type": "markdown",
      "source": [
        "=> 단순한 알고리즘으로 예측하더라도 정확도 결과 꽤 높은 수치 => 정확도를 평가 지표로 사용할 때는 매우 신중\n",
        "\n",
        "* 특히 정확도는 불균형한 레이블 값 분포에서 ML 모델의 성능을 판단할 겨우, 적합한 평가 지표가 아니다!\n",
        "\n"
      ],
      "metadata": {
        "id": "B85RZm9Y_Ad7"
      }
    },
    {
      "cell_type": "markdown",
      "source": [
        "* MNIST 데이터 세트를 변환해 불균형한 데이터 세트로 만든 뒤 정확도 지표 적용 시 어떤 문제가 발생할 수 있는지 확인\n",
        "\n",
        " - 사이킷런은 **load_digits()** API를 통해 MNIST 데이터 세트 제공\n",
        "\n",
        " - MNIST 데이터 세트는 0부터 9까지의 숫자 이미지의 픽셀 정보 o -> 숫자 Digit 예측하는 데 사용\n",
        "    \n",
        "   -> 레이블 값이 7인 것만 True, 나머지 값은 False(전체 데이터의 10%만 True, 나머지 90% False)인 불균형한 데이터 세트로 변형"
      ],
      "metadata": {
        "id": "Q3JyWMHoCQ1-"
      }
    },
    {
      "cell_type": "code",
      "source": [
        "from sklearn.datasets import load_digits\n",
        "from sklearn.model_selection import train_test_split\n",
        "from sklearn.base import BaseEstimator\n",
        "from sklearn.metrics import accuracy_score\n",
        "import numpy as np\n",
        "import pandas as pd\n",
        "\n",
        "# 불균형한 데이터 세트와 Dummy Classifier 생성\n",
        "class MyFakeClassifier(BaseEstimator):\n",
        "  def fit(self, X, y):\n",
        "    pass\n",
        "\n",
        "  # 입력값으로 들어오는 X 데이터 세트의 크기만큼 모두 0값으로 만들어서 반환\n",
        "  def predict(self, X):\n",
        "    return np.zeros( (len(X), 1), dtype=bool )\n",
        "\n",
        "# 사이킷런의 내장 데이터 세트인 load_digits()를 이용해 MNIST 데이터 로딩\n",
        "digits = load_digits()\n",
        "\n",
        "# digits 번호가 7번이면 True이고 이를 astype(int)로 1로 변환, 7번이 아니면 False이고 0으로 변환.\n",
        "y = (digits.target==7).astype(int)\n",
        "X_train, X_test, y_train, y_test = train_test_split(digits.data, y, random_state=11)"
      ],
      "metadata": {
        "id": "9Xgmu0V3DgXQ"
      },
      "execution_count": null,
      "outputs": []
    },
    {
      "cell_type": "code",
      "source": [
        "# 불균형한 레이블 데이터 분포도 확인\n",
        "print('레이블 테스트 세트 크기 :', y_test.shape)\n",
        "print('테스트 세트 레이블 0과 1의 분포도')\n",
        "print(pd.Series(y_test).value_counts())\n",
        "\n",
        "# Dummy Classifier로 학습/예측/정확도 평가\n",
        "fakeclf = MyFakeClassifier()\n",
        "fakeclf.fit(X_train, y_train)\n",
        "fakepred = fakeclf.predict(X_test)\n",
        "print('모든 예측을 0으로 하여도 정확도는:{:.3f}'.format(accuracy_score(y_test,fakepred)))"
      ],
      "metadata": {
        "colab": {
          "base_uri": "https://localhost:8080/"
        },
        "id": "vZufw6QMFl1d",
        "outputId": "6fdc6e84-067c-4b21-8c16-7d0fe4c3ea55"
      },
      "execution_count": null,
      "outputs": [
        {
          "output_type": "stream",
          "name": "stdout",
          "text": [
            "레이블 테스트 세트 크기 : (450,)\n",
            "테스트 세트 레이블 0과 1의 분포도\n",
            "0    405\n",
            "1     45\n",
            "dtype: int64\n",
            "모든 예측을 0으로 하여도 정확도는:0.900\n"
          ]
        }
      ]
    },
    {
      "cell_type": "markdown",
      "source": [
        "=> 모든 것을 0으로만 에측해도 정확도가 90% \n",
        "\n",
        "-> 정확도 평가 지표는 불균형한 레이블 데이터 세트에서는 성능 수치로 사용돼서는 안된다 ! -> 여러 가지 분류 지표와 함께 적용하기"
      ],
      "metadata": {
        "id": "JU2xXtmFHIq8"
      }
    },
    {
      "cell_type": "markdown",
      "source": [
        "## 02. 오차 행렬\n",
        "\n",
        "\n",
        "\n",
        "---\n",
        "\n"
      ],
      "metadata": {
        "id": "w_g6HHNHHuL_"
      }
    },
    {
      "cell_type": "markdown",
      "source": [
        "**오차행렬(=혼동행렬)** : 이진 분류의 예측 오류가 얼마인지와 더불어 어떠한 유형의 예측 오류가 발생하고 있는지를 함께 나타내는 지표\n",
        "\n",
        "* 4분면 행렬에서 실제 레이블 클래스 값과 예측 레이블 클래스 값이 어떠한 유형을 가지고 매핑되는지 나타내\n",
        " + 왼쪽, 오른쪽을 예측된 클래스 값 기준으로 Negative와 Positive로 분류\n",
        " + 위, 아래를 실제 클래스 값 기준으로 Negative와 Positive로 분류\n",
        "\n",
        "* **TN, FP, FN, TP**는 예측 클래스와 실제 클래스의 Positive 결정값(값 1)와 Negative 결정 값(값 0)의 결합에 따라 결정돼\n",
        " + 앞 문자 Ture/False는 예측값과 실제값이 '같은가/틀린가' 의미\n",
        " + 뒤 문자 Negative/Positive는 예측 결과 값이 부정(0)/긍정(1) 의미\n"
      ],
      "metadata": {
        "id": "tAGiqYn_ImBr"
      }
    },
    {
      "cell_type": "markdown",
      "source": [
        "사이킷런은 오차 행렬 구하기 위해 **confusion_matrix()** API 제공"
      ],
      "metadata": {
        "id": "Nfp0QN7jK0Rr"
      }
    },
    {
      "cell_type": "code",
      "source": [
        "from sklearn.metrics import confusion_matrix\n",
        "\n",
        "confusion_matrix(y_test, fakepred)           # y_test는 실제 결과, fakepred는 예측 결과"
      ],
      "metadata": {
        "colab": {
          "base_uri": "https://localhost:8080/"
        },
        "id": "E0P3cCFjLTdC",
        "outputId": "429bfe18-9d75-47e3-bcf7-f89dafad755e"
      },
      "execution_count": null,
      "outputs": [
        {
          "output_type": "execute_result",
          "data": {
            "text/plain": [
              "array([[405,   0],\n",
              "       [ 45,   0]])"
            ]
          },
          "metadata": {},
          "execution_count": 7
        }
      ]
    },
    {
      "cell_type": "markdown",
      "source": [
        "=> TN : array[0,0]로 405, FP는 array[0,1]로 0, FN은 array[1,0]로 45, TP는 array[1,1]로 0\n",
        "\n",
        "-> TP, TN, FP, TN 값을 조합해 성능 지표인 정확도, 정밀도, 재현율 값 알 수 있다\n",
        "\n",
        "* 정확도 = 예측 결과와 실제 값이 동일한 건수 / 전체 데이터 수 = (TN + TP) / (TN + FP + FN + TP)\n",
        "\n",
        "* 일반적으로 불균형한 레이블 클래스를 가지는 이진 분류 모델에서는 많은 데이터 중에서 중점적으로 찾아야 하는 매우 적은 수의 결괏값에 Positive를 설정해 1값 부여하고, 그렇지 않은 경우는 Negative로 0값 부여하는 경우 많아\n",
        "\n",
        "-> Negative로 예측 정확도가 높아지는 경향 발생 -> 정확도 지표는 비대칭한 데이터 세트에서 수치적인 판단 오류(TN은 커지고 TP는 작아진다, FN와 FP는 작아져)"
      ],
      "metadata": {
        "id": "6VloJZ1WLep2"
      }
    },
    {
      "cell_type": "markdown",
      "source": [
        "## 03. 정밀도와 재현율\n",
        "\n",
        "\n",
        "\n",
        "---\n",
        "\n"
      ],
      "metadata": {
        "id": "3E45FsNUdPVS"
      }
    },
    {
      "cell_type": "markdown",
      "source": [
        "정밀도와 재현율 : Positive 데이터 세트의 예측 성능에 좀 더 초점을 맞춘 평가 지표\n",
        "\n",
        ">**정밀도 = TP / (FP + TP)** = 양성 예측도\n",
        "\n",
        "  : 예측을 Positive로 한 대상 중에 예측과 실제 값이 Positive로 일치한 데이터의 비율\n",
        "\n",
        "  * 정밀도가 중요 지표인 경우 : 실제 Negative 음성 데이터를 Positive로 잘못 판단하게 되면 업무상 큰 영향이 발생하는 경우\n",
        "\n",
        "  ex) 스팸 메일 여부를 판단하는 모델\n",
        "\n",
        "\n",
        ">**재현율 = TP / (FN + TP)** = 민감도(Sensitivity) 또는 TPR(True Positive Rate)\n",
        "\n",
        "  : 실제 값이 Positive인 대상 중에 예측과 실제 값이 Positive로 일치한 데이터의 비율\n",
        "\n",
        "  * 재현율이 중요 지표인 경우 : 실제 Positive 양성 데이터를 Negative로 잘못 판단하게 되면 업무상 큰 영향이 발생하는 경우\n",
        "  \n",
        "  (보통 재현율이 정밀도보다 상대적으로 중요한 업무가 많음)\n",
        "\n",
        "   ex) 암 판단 모델, 보험 사기와 같은 금융 사기 적발 모델 \n"
      ],
      "metadata": {
        "id": "_dff54sddba4"
      }
    },
    {
      "cell_type": "markdown",
      "source": [
        "* 재현율과 정밀도 모두 TP 높이는데 동일하게 초점 but 재현율은 FN 낮추는데, 정밀도는 FP 낮추는데 초점\n",
        "\n",
        "   -> 재현율과 정밀도는 서로 보완적인 지표로 분류의 성능 평가하는 데 적용\n",
        "\n",
        "* 가장 좋은 성능 평가는 재현율과 정밀도 모두 높은 수치 얻는 것(한 평가 지표만 높고 낮은건 바람직 x)"
      ],
      "metadata": {
        "id": "VTgq4gKfgixc"
      }
    },
    {
      "cell_type": "markdown",
      "source": [
        "사이킷런은 정밀도 계산 위해 **precision_score()**를, 재현율 계산을 위해 **recall_score()** API 제공"
      ],
      "metadata": {
        "id": "WNOkHKWrhb5H"
      }
    },
    {
      "cell_type": "code",
      "source": [
        "# 정확도 뿐만 아니라 오차 행렬 및 정밀도, 재현율 모두 구해 예측 성능 평가\n",
        "from sklearn.metrics import accuracy_score, precision_score, recall_score, confusion_matrix\n",
        "\n",
        "def get_clf_eval(y_test, pred):\n",
        "  confusion = confusion_matrix(y_test,pred)\n",
        "  accuracy = accuracy_score(y_test, pred)\n",
        "  precision = precision_score(y_test, pred)\n",
        "  recall = recall_score(y_test, pred)\n",
        "  print('오차 행렬')\n",
        "  print(confusion)\n",
        "  print('정확도: {0:.4f}, 정밀도: {1:.4f}, 재현율: {2:.4f}'.format(accuracy, precision, recall))"
      ],
      "metadata": {
        "id": "fUfcb22ShsVQ"
      },
      "execution_count": null,
      "outputs": []
    },
    {
      "cell_type": "code",
      "source": [
        "# 로지스틱 회귀 기반으로 분류 수행\n",
        "import pandas as pd\n",
        "from sklearn.model_selection import train_test_split\n",
        "from sklearn.linear_model import LogisticRegression\n",
        "\n",
        "# 원본 데이터를 재로딩, 데이터 가공, 학습 데이터/테스트 데이터 분할.\n",
        "titanic_df = pd.read_csv('./titanic_train.csv')\n",
        "y_titanic_df = titanic_df['Survived']\n",
        "X_titanic_df = titanic_df.drop('Survived',axis=1)\n",
        "X_titanic_df = transform_features(X_titanic_df)\n",
        "\n",
        "X_train, X_test, y_train, y_test = train_test_split(X_titanic_df, y_titanic_df, test_size=0.20, random_state=11)\n",
        "\n",
        "lr_clf = LogisticRegression()\n",
        "\n",
        "lr_clf.fit(X_train, y_train)\n",
        "pred = lr_clf.predict(X_test)\n",
        "get_clf_eval(y_test,pred)"
      ],
      "metadata": {
        "colab": {
          "base_uri": "https://localhost:8080/"
        },
        "id": "vv1u8aFFiXDG",
        "outputId": "cd233ed6-a201-4e34-dedb-48367902ce89"
      },
      "execution_count": null,
      "outputs": [
        {
          "output_type": "stream",
          "name": "stdout",
          "text": [
            "오차 행렬\n",
            "[[104  14]\n",
            " [ 13  48]]\n",
            "정확도: 0.8492, 정밀도: 0.7742, 재현율: 0.7869\n"
          ]
        },
        {
          "output_type": "stream",
          "name": "stderr",
          "text": [
            "/usr/local/lib/python3.7/dist-packages/sklearn/linear_model/_logistic.py:818: ConvergenceWarning: lbfgs failed to converge (status=1):\n",
            "STOP: TOTAL NO. of ITERATIONS REACHED LIMIT.\n",
            "\n",
            "Increase the number of iterations (max_iter) or scale the data as shown in:\n",
            "    https://scikit-learn.org/stable/modules/preprocessing.html\n",
            "Please also refer to the documentation for alternative solver options:\n",
            "    https://scikit-learn.org/stable/modules/linear_model.html#logistic-regression\n",
            "  extra_warning_msg=_LOGISTIC_SOLVER_CONVERGENCE_MSG,\n"
          ]
        }
      ]
    },
    {
      "cell_type": "markdown",
      "source": [
        "### 정밀도/재현율 트레이드오프\n",
        "\n",
        "**분류의 결정 임곗값 조정해 정밀도 또는 재현율의 수치 높일 수 있다**\n",
        "\n",
        "but 정밀도,재현율은 상호 보완적인 평가 지표 -> 어느 한쪽을 강제로 높이면 다른 하나의 수치는 떨어지기 쉽다 = <u>정밀도/재현율의 트레이드오프</u>\n",
        "\n",
        "개별 레이블별로 결정 확률 계산 -> 예측 데이터가 특정 레이블에 속하는지 계산 -> 예측 확률이 큰 레이블값으로 예측\n",
        "\n",
        "* 일반적으로 이진 분류에서는 임곗값을 0.5, 즉 50%로 정하고 이 기준 값보다 확률이 크면 Positive, 작으면 Negative로 결정\n",
        "\n",
        "사이킷런은 개별 데이터별로 예측 확률 반환하는 메서드인 **predict_proba()** 제공\n",
        "\n",
        ": 학습이 완료된 사이킷런 Classifier 객체에서 호출 가능\n",
        "\n",
        ": 테스트 피처 데이터 세트를 파라미터로 입력해주면 테스트 피처 레코드의 개별 클래스 예측 확률 반환\n",
        "\n",
        ": predict()와 유사하지만 반환결과가 예측 결과 클래스값이 아닌 예측 확률 결과\n",
        "\n",
        ">* 입력 파라미터 : predict()메서드와 동일하게 테스트 피처 데이터 세트 입력\n",
        ">* 반환값 : 개별 클래스의 예측 확률을 ndarray m x n (m : 입력 값의 레코드 수, n : 클래스 값 유형) 형태로 반환 \n",
        " + 각 열은 개별 클래스의 예측 확률(이진 분류에서 첫 번째 칼럼은 0 Negative의 확률, 두 번째 칼럼은 1 Positive의 확률)\n"
      ],
      "metadata": {
        "id": "qeV1Rvz6md3z"
      }
    },
    {
      "cell_type": "code",
      "source": [
        "pred_proba = lr_clf.predict_proba(X_test)\n",
        "pred = lr_clf.predict(X_test)\n",
        "print('pred_proba() 결과 Shape : {0}'.format(pred_proba.shape))\n",
        "print('pred_proba array에서 앞 3개만 샘플로 추출 \\n:', pred_proba[:3])\n",
        "\n",
        "# 예측 확률 array와 예측 결괏값 array를 병합(concatenate)해 예측 확률과 결괏값을 한눈에 확인\n",
        "pred_proba_result = np.concatenate([pred_proba, pred.reshape(-1,1)], axis=1)\n",
        "print('두 개의 class 중에서 더 큰 확률을 클래스 값으로 예측 \\n', pred_proba_result[:3])"
      ],
      "metadata": {
        "colab": {
          "base_uri": "https://localhost:8080/"
        },
        "id": "3IK3RPwI4Ysy",
        "outputId": "aa5d97b3-11c8-4d3f-e37d-ef8bcf50c8f4"
      },
      "execution_count": null,
      "outputs": [
        {
          "output_type": "stream",
          "name": "stdout",
          "text": [
            "pred_proba() 결과 Shape : (179, 2)\n",
            "pred_proba array에서 앞 3개만 샘플로 추출 \n",
            ": [[0.46191519 0.53808481]\n",
            " [0.878675   0.121325  ]\n",
            " [0.87716185 0.12283815]]\n",
            "두 개의 class 중에서 더 큰 확률을 클래스 값으로 예측 \n",
            " [[0.46191519 0.53808481 1.        ]\n",
            " [0.878675   0.121325   0.        ]\n",
            " [0.87716185 0.12283815 0.        ]]\n"
          ]
        }
      ]
    },
    {
      "cell_type": "markdown",
      "source": [
        "* predict() 메서드 : predict_proba() 메서드에 기반해 생성된 API\n",
        "\n",
        ": predict_proba() 호출 결과로 반환된 배열에서 분류 결정 임계값보다 큰 값이 들어 있는 칼럼의 위치를 받아서 최종적으로 예측 클래스를 결정하는 API\n",
        "\n",
        "=> 사이킷런은 분류 결정 임곗값을 조절해 정밀도와 재현율의 성능 수치를 상호 보완적으로 조정 가능"
      ],
      "metadata": {
        "id": "auW3dZ_06Rj1"
      }
    },
    {
      "cell_type": "markdown",
      "source": [
        "* 사이킷런의 정밀도/재현율 트레이드오프 방식 구현 -> 사이킷런의 **Binarizer**클래스 이용"
      ],
      "metadata": {
        "id": "9GjcCvH67RTf"
      }
    },
    {
      "cell_type": "code",
      "source": [
        "from sklearn.preprocessing import Binarizer\n",
        "\n",
        "X = [[1,-1,2],\n",
        "     [2,0,0],\n",
        "     [0,1.1,1.2]]\n",
        "\n",
        "# X의 개별 원소들이 threshold값보다 같거나 작으면 0을, 크면 1을 반환\n",
        "binarizer = Binarizer(threshold=1.1)\n",
        "print(binarizer.fit_transform(X))"
      ],
      "metadata": {
        "colab": {
          "base_uri": "https://localhost:8080/"
        },
        "id": "joJfP9nG7XqP",
        "outputId": "4313adf0-217b-47e5-fa76-abd636cdb71c"
      },
      "execution_count": null,
      "outputs": [
        {
          "output_type": "stream",
          "name": "stdout",
          "text": [
            "[[0. 0. 1.]\n",
            " [1. 0. 0.]\n",
            " [0. 0. 1.]]\n"
          ]
        }
      ]
    },
    {
      "cell_type": "markdown",
      "source": [
        "* 사이킷런 predict()의 의사(pseudo) 코드"
      ],
      "metadata": {
        "id": "L4-8Sa148Avb"
      }
    },
    {
      "cell_type": "code",
      "source": [
        "from sklearn.preprocessing import Binarizer\n",
        "\n",
        "# Binarizer의 threshold 설정값. 분류 결정 임곗값임.\n",
        "custom_threshold = 0.5\n",
        "\n",
        "# predict_proba() 반환값의 두 번째 칼럼, 즉 Positive 클래스 칼럼 하나만 추출해 Binarizer를 적용\n",
        "pred_proba_1 = pred_proba[:,1].reshape(-1,1)\n",
        "\n",
        "binarizer = Binarizer(threshold=custom_threshold).fit(pred_proba_1)\n",
        "custom_predict = binarizer.transform(pred_proba_1)\n",
        "\n",
        "get_clf_eval(y_test, custom_predict)        # 평가 지표 출력"
      ],
      "metadata": {
        "colab": {
          "base_uri": "https://localhost:8080/"
        },
        "id": "pfjJftKG7_JV",
        "outputId": "8a73269e-3ee9-49e1-feb1-ce184034374d"
      },
      "execution_count": null,
      "outputs": [
        {
          "output_type": "stream",
          "name": "stdout",
          "text": [
            "오차 행렬\n",
            "[[104  14]\n",
            " [ 13  48]]\n",
            "정확도: 0.8492, 정밀도: 0.7742, 재현율: 0.7869\n"
          ]
        }
      ]
    },
    {
      "cell_type": "markdown",
      "source": [
        "=> predict()로 계산된 지표 값과 동일 -> predict()가 predict_proba()에 기반함을 알 수 있다"
      ],
      "metadata": {
        "id": "AHC4kNQr9jOI"
      }
    },
    {
      "cell_type": "markdown",
      "source": [
        "* 분류 결정 임곗값을 낮추면 평가 지표가 어떻게 변할까? "
      ],
      "metadata": {
        "id": "bHny4kBr-q7O"
      }
    },
    {
      "cell_type": "code",
      "source": [
        "# Binarizer의 threshold 설정값을 0.4로 설정. 즉 분류 결정 임곗값을 0.5에서 0.4로 낮춤\n",
        "custom_threshold = 0.4\n",
        "pred_proba_1 = pred_proba[:,1].reshape(-1,1)\n",
        "binarizer = Binarizer(threshold=custom_threshold).fit(pred_proba_1)\n",
        "custom_predict = binarizer.transform(pred_proba_1)\n",
        "\n",
        "get_clf_eval(y_test, custom_predict)"
      ],
      "metadata": {
        "colab": {
          "base_uri": "https://localhost:8080/"
        },
        "id": "DQXdLJz-9rRn",
        "outputId": "d2157880-dfbd-4ce1-9f8b-dc7e059abb1b"
      },
      "execution_count": null,
      "outputs": [
        {
          "output_type": "stream",
          "name": "stdout",
          "text": [
            "오차 행렬\n",
            "[[98 20]\n",
            " [10 51]]\n",
            "정확도: 0.8324, 정밀도: 0.7183, 재현율: 0.8361\n"
          ]
        }
      ]
    },
    {
      "cell_type": "markdown",
      "source": [
        "=> 임곗값을 낮추니 -> True값(Positive 예측값)이 많아져 -> 재현율 값이 올라가고 정밀도가 떨어졌다"
      ],
      "metadata": {
        "id": "hfD1B5Mj-wn-"
      }
    },
    {
      "cell_type": "code",
      "source": [
        "# 임곗값을 0.4에서부터 0.6까지 0.05씩 증가시키며 평가 지표 조사\n",
        "# 테스트를 수행할 모든 임곗값을 리스트 객체로 저장.\n",
        "thresholds = [0.4,0.45,0.50,0.55,0.60]\n",
        "\n",
        "def get_eval_by_threshold(y_test, pred_proba_c1, thresholds):\n",
        "  # thresholds list객체 내의 값을 차례로 iteration하면서 Evaluation 수행.\n",
        "  for custom_threshold in thresholds:\n",
        "    binarizer = Binarizer(threshold=custom_threshold).fit(pred_proba_c1)\n",
        "    custom_predict = binarizer.transform(pred_proba_c1)\n",
        "    print('임곗값:', custom_threshold)\n",
        "    get_clf_eval(y_test, custom_predict)\n",
        "\n",
        "get_eval_by_threshold(y_test, pred_proba[:,1].reshape(-1,1), thresholds)"
      ],
      "metadata": {
        "colab": {
          "base_uri": "https://localhost:8080/"
        },
        "id": "fiayT-NK_huS",
        "outputId": "bcf9205c-b1cf-4eb8-e8e8-db6a886e4fa8"
      },
      "execution_count": null,
      "outputs": [
        {
          "output_type": "stream",
          "name": "stdout",
          "text": [
            "임곗값: 0.4\n",
            "오차 행렬\n",
            "[[98 20]\n",
            " [10 51]]\n",
            "정확도: 0.8324, 정밀도: 0.7183, 재현율: 0.8361\n",
            "임곗값: 0.45\n",
            "오차 행렬\n",
            "[[103  15]\n",
            " [ 12  49]]\n",
            "정확도: 0.8492, 정밀도: 0.7656, 재현율: 0.8033\n",
            "임곗값: 0.5\n",
            "오차 행렬\n",
            "[[104  14]\n",
            " [ 13  48]]\n",
            "정확도: 0.8492, 정밀도: 0.7742, 재현율: 0.7869\n",
            "임곗값: 0.55\n",
            "오차 행렬\n",
            "[[109   9]\n",
            " [ 15  46]]\n",
            "정확도: 0.8659, 정밀도: 0.8364, 재현율: 0.7541\n",
            "임곗값: 0.6\n",
            "오차 행렬\n",
            "[[112   6]\n",
            " [ 16  45]]\n",
            "정확도: 0.8771, 정밀도: 0.8824, 재현율: 0.7377\n"
          ]
        }
      ]
    },
    {
      "cell_type": "markdown",
      "source": [
        "=> 임곗값이 0.45일 경우에 디폴트 0.5와 비교해 정확도는 동일, 정밀도는 약간 떨어졌으나 재현율 오름 \n",
        "\n",
        "   -> 재현율 향상시키면서 다른 수치 어느정도 감소하는 희생해야한다면 임곗값 0.45가 가장 적당"
      ],
      "metadata": {
        "id": "jPZEMkuuBQpR"
      }
    },
    {
      "cell_type": "markdown",
      "source": [
        "사이킷런은 임곗값 변화에 따른 평가 지표 값 **precision_recall_curve()** API 제공\n",
        "\n",
        ">* 입력 파타미터\n",
        ">  + y_true : 실제 클래스값 배열 (배열 크기=[데이터 건수])\n",
        ">  + probas_pred : Positive 칼럼의 예측 확률 배열 (배열 크기=[데이터 건수])\n",
        ">* 반환 값\n",
        ">  + 정밀도 : 임곗값별 정밀도 값을 배열로 반환\n",
        ">  + 재현율 : 임곗값별 재현율 값을 배열로 반환"
      ],
      "metadata": {
        "id": "ZylzMv4xBlC9"
      }
    },
    {
      "cell_type": "code",
      "source": [
        "# precision_recall_curve()이용해 타이타닉 예측 모델의 임곗값별 정밀도와 재현율 구하기\n",
        "from sklearn.metrics import precision_recall_curve\n",
        "\n",
        "# 레이블 값이 1일 때의 예측 확률을 추출\n",
        "pred_proba_class1 = lr_clf.predict_proba(X_test)[:,1]    # 두 번째 칼럼 값에 해당하는 데이터 세트\n",
        "\n",
        "# 실제값 데이터 세트와 레이블 값이 1일 때의 예측 확률을 precision_recall_curve 인자로 입력\n",
        "precisions, recalls, thresholds = precision_recall_curve(y_test,pred_proba_class1)\n",
        "print('반환된 분류 결정 임곗값 배열의 Shape:', thresholds.shape)\n",
        "\n",
        "# 반환된 임곗값 배열 로우가 147건이므로 샘플로 10건만 추출하되, 임곗값을 15 Step으로 추출.\n",
        "thr_index = np.arange(0, thresholds.shape[0],15)\n",
        "print('샘플 추출을 위한 임곗값 배열의 index 10개:',thr_index)\n",
        "print('샘플용 10개의 임곗값: ',np.round(thresholds[thr_index],2))\n",
        "\n",
        "# 15 step 단위로 추출된 임곗값에 따른 정밀도와 재현율 값\n",
        "print('샘플 임곗값별 정밀도: ',np.round(precisions[thr_index],3))\n",
        "print('샘플 임곗값별 재현율: ',np.round(recalls[thr_index],3))"
      ],
      "metadata": {
        "colab": {
          "base_uri": "https://localhost:8080/"
        },
        "id": "B0nx9ztDC39e",
        "outputId": "9f0a8be0-9876-4d47-a631-196a03ee1267"
      },
      "execution_count": null,
      "outputs": [
        {
          "output_type": "stream",
          "name": "stdout",
          "text": [
            "반환된 분류 결정 임곗값 배열의 Shape: (143,)\n",
            "샘플 추출을 위한 임곗값 배열의 index 10개: [  0  15  30  45  60  75  90 105 120 135]\n",
            "샘플용 10개의 임곗값:  [0.1  0.12 0.14 0.19 0.28 0.4  0.56 0.67 0.82 0.95]\n",
            "샘플 임곗값별 정밀도:  [0.389 0.44  0.466 0.539 0.647 0.729 0.836 0.949 0.958 1.   ]\n",
            "샘플 임곗값별 재현율:  [1.    0.967 0.902 0.902 0.902 0.836 0.754 0.607 0.377 0.148]\n"
          ]
        }
      ]
    },
    {
      "cell_type": "markdown",
      "source": [
        "=> 임곗값이 증가할수록 정밀도값은 동시에 높아지나 재현율 값은 낮아짐"
      ],
      "metadata": {
        "id": "vc5aTYVlELxW"
      }
    },
    {
      "cell_type": "markdown",
      "source": [
        "* 정밀도와 재현율 곡선 시각화"
      ],
      "metadata": {
        "id": "fSHKlpQHEQ0q"
      }
    },
    {
      "cell_type": "code",
      "source": [
        "import matplotlib.pyplot as plt\n",
        "import matplotlib.ticker as ticker\n",
        "%matplotlib inline\n",
        "\n",
        "def precision_recall_curve_plot(y_test, pred_proba_c1):\n",
        "  # threshold ndarray와 이 threshold에 따른 정밀도, 재현율 ndarray 추출.\n",
        "  precisions, recalls, thresholds = precision_recall_curve(y_test, pred_proba_c1)\n",
        "\n",
        "  # X축을 threshold값으로, Y축은 정밀도, 재현율 값으로 각각 Plot 수행. 정밀도는 점선으로 표시\n",
        "  plt.figure(figsize=(8,6))\n",
        "  threshold_boundary = thresholds.shape[0]\n",
        "  plt.plot(thresholds, precisions[0:threshold_boundary], linestyle='-', label='precision')\n",
        "  plt.plot(thresholds, recalls[0:threshold_boundary],label='recall')\n",
        "\n",
        "  # threshold 값 X축의 Scale을 0.1 단위로 변경\n",
        "  start, end = plt.xlim()\n",
        "  plt.xticks(np.round(np.arange(start,end,0.1),2))\n",
        "\n",
        "  # x축, y축 label과 legend, 그리고 grid 설정\n",
        "  plt.xlabel('Threshold value'); plt.ylabel('Precision and Recall value')\n",
        "  plt.legend(); plt.grid()\n",
        "  plt.show()\n",
        "\n",
        "precision_recall_curve_plot(y_test, lr_clf.predict_proba(X_test)[:,1])"
      ],
      "metadata": {
        "colab": {
          "base_uri": "https://localhost:8080/",
          "height": 388
        },
        "id": "f0zOT1GbETsM",
        "outputId": "6b1ac279-d99b-41c9-a48d-e4926ccfc810"
      },
      "execution_count": null,
      "outputs": [
        {
          "output_type": "display_data",
          "data": {
            "text/plain": [
              "<Figure size 576x432 with 1 Axes>"
            ],
            "image/png": "[encoded data removed]"
          },
          "metadata": {
            "needs_background": "light"
          }
        }
      ]
    },
    {
      "cell_type": "markdown",
      "source": [
        "=> 임곗값이 낮을수록 많은 수의 양성 예측으로 인해 재현율 값이 극도로 높아지고 정밀도 값이 극도로 낮아진다\n",
        "\n",
        "=> 임곗값을 계속 증가시킬수록 재현율 값이 낮아지고 정밀도 값이 높아지는 반대 양상\n",
        "\n",
        "=> 앞 예제의 로지스틱 회귀 기반의 타이타닉 생존자 에측 모델의 경우 임곗값이 약 0.45 지점에서 재현율과 정밀도가 비슷해지는 모습 보여"
      ],
      "metadata": {
        "id": "0_QKsQorG8sM"
      }
    },
    {
      "cell_type": "markdown",
      "source": [
        "### 정밀도와 재현율의 맹점\n",
        "\n",
        "\n",
        "Positive 예측의 임곗값을 변경함에 따라 정밀도와 재현율의 수치 변경돼\n",
        "\n",
        "-> 업무 환경에 맞게 두 개의 수치를 상호 보완할 수 있는 수준에서 적용돼야 해\n",
        "\n",
        "* 정밀도가 100%가 되는 방법\n",
        "\n",
        ": 확실한 기준이 되는 경우만 Positive로 예측하고 나머지는 모두 Negative로 예측\n",
        "\n",
        "정밀도=TP/(TP+FP)=100% <- FP=0, TP=1\n",
        "\n",
        "* 재현율이 100%가 되는 방법\n",
        "\n",
        ": 모든 경우를 Positive로 예측\n",
        "\n",
        "재현율=TP/(TP+FN)=100% <- FN=0\n",
        "\n",
        "=> 극단적인 수치 조작 가능\n",
        "\n",
        "=> 분류가 정밀도, 재현율 중 하나에 상대적 중요도를 부여해 각 예측 상황에 맞는 분류 알고리즘 튜닝 가능 but 정밀도/재현율 중 하나만 강조 x"
      ],
      "metadata": {
        "id": "EzioW6XcHeis"
      }
    },
    {
      "cell_type": "markdown",
      "source": [
        "## 04. F1 스코어\n",
        "\n",
        "\n",
        "\n",
        "---\n",
        "\n"
      ],
      "metadata": {
        "id": "aX8OpCpgnViS"
      }
    },
    {
      "cell_type": "markdown",
      "source": [
        "**F1 스코어** : 정밀도와 재현율을 결합한 지표\n",
        "\n",
        "* 정밀도와 재현율이 어느 한 쪽으로 치우치지 않는 수치를 나타낼 때 상대적으로 높은 값\n",
        "\n",
        "> **F1 = 2 / (1/recall + 1/precision) = 2 * (precision*recall) / (precision+recall)**\n",
        "\n",
        "* 사이킷런은 **f1_score()** API 제공"
      ],
      "metadata": {
        "id": "Do90evOnnZ0l"
      }
    },
    {
      "cell_type": "code",
      "source": [
        "from sklearn.metrics import f1_score\n",
        "f1 = f1_score(y_test, pred)\n",
        "print('F1 스코어: {0:.4f}'.format(f1))"
      ],
      "metadata": {
        "colab": {
          "base_uri": "https://localhost:8080/"
        },
        "id": "Qvf8xhgQoGB0",
        "outputId": "c8adb4e0-2acf-49b2-ff26-574a47f32816"
      },
      "execution_count": null,
      "outputs": [
        {
          "output_type": "stream",
          "name": "stdout",
          "text": [
            "F1 스코어: 0.7805\n"
          ]
        }
      ]
    },
    {
      "cell_type": "code",
      "source": [
        "# 임곗값 0.4~0.6별로 정확도, 정밀도, 재현율, F1 스코어 알아보기\n",
        "def get_clf_eval(y_test, pred):\n",
        "  confusion = confusion_matrix(y_test,pred)\n",
        "  accuracy = accuracy_score(y_test, pred)\n",
        "  precision = precision_score(y_test, pred)\n",
        "  recall = recall_score(y_test, pred)\n",
        "  # F1 스코어 추가\n",
        "  f1 = f1_score(y_test, pred)\n",
        "  print('오차 행렬')\n",
        "  print(confusion)\n",
        "  # f1 score print 추가\n",
        "  print('정확도: {0:.4f}, 정밀도: {1:.4f}, 재현율: {2:.4f}, F1:{3:.4f}'.format(accuracy, precision, recall, f1))\n",
        "\n",
        "thresholds = [0.4, 0.45, 0.50, 0.55, 0.60]\n",
        "pred_proba = lr_clf.predict_proba(X_test)\n",
        "get_eval_by_threshold(y_test, pred_proba[:,1].reshape(-1,1), thresholds)"
      ],
      "metadata": {
        "colab": {
          "base_uri": "https://localhost:8080/"
        },
        "id": "nZNLKUtdoi3j",
        "outputId": "1bc8dc88-169a-47c8-9750-e83ea603ecea"
      },
      "execution_count": null,
      "outputs": [
        {
          "output_type": "stream",
          "name": "stdout",
          "text": [
            "임곗값: 0.4\n",
            "오차 행렬\n",
            "[[98 20]\n",
            " [10 51]]\n",
            "정확도: 0.8324, 정밀도: 0.7183, 재현율: 0.8361, F1:0.7727\n",
            "임곗값: 0.45\n",
            "오차 행렬\n",
            "[[103  15]\n",
            " [ 12  49]]\n",
            "정확도: 0.8492, 정밀도: 0.7656, 재현율: 0.8033, F1:0.7840\n",
            "임곗값: 0.5\n",
            "오차 행렬\n",
            "[[104  14]\n",
            " [ 13  48]]\n",
            "정확도: 0.8492, 정밀도: 0.7742, 재현율: 0.7869, F1:0.7805\n",
            "임곗값: 0.55\n",
            "오차 행렬\n",
            "[[109   9]\n",
            " [ 15  46]]\n",
            "정확도: 0.8659, 정밀도: 0.8364, 재현율: 0.7541, F1:0.7931\n",
            "임곗값: 0.6\n",
            "오차 행렬\n",
            "[[112   6]\n",
            " [ 16  45]]\n",
            "정확도: 0.8771, 정밀도: 0.8824, 재현율: 0.7377, F1:0.8036\n"
          ]
        }
      ]
    },
    {
      "cell_type": "markdown",
      "source": [
        "=> F1 스코어는 임곗값이 0.6일 때 가장 좋은 값 but 재현율이 크게 감소하고 있으니 주지"
      ],
      "metadata": {
        "id": "t5scwNHsp13O"
      }
    },
    {
      "cell_type": "markdown",
      "source": [
        "## 05. ROC 곡선과 AUC\n",
        "\n",
        "\n",
        "\n",
        "---\n",
        "\n"
      ],
      "metadata": {
        "id": "DYVKjd24p-WL"
      }
    },
    {
      "cell_type": "markdown",
      "source": [
        ">**ROC 곡선** (=수신자 판단 곡선)\n",
        "\n",
        ": 머신러닝의 이진 분류 모델의 예측 성능 판단하는 중요한 평가 지표\n",
        "\n",
        ": FPR(False Positive Rate)이 변화에 따른 TPR(True Positive Rate)의 변화를 나타낸 곡선\n",
        "\n",
        "* TPR(True Positive Rate) 재현율 (= 민감도)\n",
        "\n",
        ": 실제값 Positive(양성)가 정확히 예측돼야 하는 수준\n",
        "\n",
        "TPR = TP / (FN + TP)\n",
        "\n",
        "* TNR(True Negative Rate) 특이성\n",
        "\n",
        ": 실제값 Negative(음성)가 정확히 예측돼야 하는 수준\n",
        "\n",
        "TNR = TN / (FP + TN)\n",
        "\n",
        "=> ROC 곡선의 X축 기준인 FPR = FP / (FP + TN) -> 1-TNR 또는 1-특이성\n",
        "\n",
        "* ROC 곡선이 가운데 직선(ROC 곡선의 최저 값)에 가까울수록 성능이 떨어지는 것, 멀어질수록 성능이 뛰어난 것\n",
        "\n",
        ">* 분류 결정 임곗값(Positive 예측값을 결정하는 확률 기준) / FPR = FP / (FP + TN)\n",
        " + 임곗값 = 1 -> FPR = 0\n",
        " + 임곗값 = 0 -> FPR = 1\n",
        "\n",
        "=> 임곗값을 1부터 0까지 변화시키면서 FPR 값의 변화에 따른 TPR값 구하는 것이 ROC 곡선\n",
        "\n",
        "(임곗값을 1부터 0까지 거꾸로 변화시키면서 구한 재현율 곡선의 형태와 비슷)\n",
        "\n",
        "* 사이킷런은 ROC 곡선을 구하기 위해 **roc_curve()** API 제공\n",
        "\n",
        ">* 입력 파라미터\n",
        " + y_true : 실제 클래스 값 array (array shape=[데이터 건수])\n",
        " + y_score : predict_proba()의 반환 값 array에서 Positive 칼럼의 예측 확률이 보통 사용됨. array shape=[n_samples]\n",
        ">* 반환 값\n",
        " + fpr = fpr 값을 array로 반환\n",
        " + tpr = tpr 값을 array로 반환\n",
        " + thresholds : threshold 값 array\n"
      ],
      "metadata": {
        "id": "8wFhqqZ6qCCf"
      }
    },
    {
      "cell_type": "code",
      "source": [
        "from sklearn.metrics import roc_curve\n",
        "\n",
        "# 레이블 값이 1일 때의 예측 확률을 추출\n",
        "pred_proba_class1 = lr_clf.predict_proba(X_test)[:,1]\n",
        "\n",
        "fprs, tprs, thresholds = roc_curve(y_test, pred_proba_class1)\n",
        "# 반환된 임곗값 배열 로우가 47건이므로 샘플로 10건만 추출하되, 임곗값을 5 step으로 추출.\n",
        "# thresholds[0]은 max(예측확률)+1로 임의 설정됨. 이를 제외하기 위해 np.arange는 1부터 시작\n",
        "thr_index = np.arange(1, thresholds.shape[0], 5)\n",
        "print('샘플 추출을 위한 임곗값 배열의 index 10개:', thr_index)\n",
        "print('샘플용 10개의 임곗값: ', np.round(thresholds[thr_index],2))\n",
        "\n",
        "# 5 step 단위로 추출된 임곗값에 따른 FPR, TPR 값\n",
        "print('샘플 임곗값별 FPR: ', np.round(fprs[thr_index], 3))\n",
        "print('샘플 임곗값별 TPR: ', np.round(tprs[thr_index], 3))"
      ],
      "metadata": {
        "colab": {
          "base_uri": "https://localhost:8080/"
        },
        "id": "yhB87dE43rLE",
        "outputId": "53ddd150-c827-41b6-af13-34f19e1bbc6e"
      },
      "execution_count": null,
      "outputs": [
        {
          "output_type": "stream",
          "name": "stdout",
          "text": [
            "샘플 추출을 위한 임곗값 배열의 index 10개: [ 1  6 11 16 21 26 31 36 41 46 51]\n",
            "샘플용 10개의 임곗값:  [0.97 0.65 0.63 0.56 0.45 0.4  0.35 0.15 0.13 0.11 0.11]\n",
            "샘플 임곗값별 FPR:  [0.    0.017 0.034 0.076 0.127 0.169 0.203 0.466 0.585 0.686 0.797]\n",
            "샘플 임곗값별 TPR:  [0.033 0.639 0.721 0.754 0.803 0.836 0.885 0.902 0.934 0.967 0.984]\n"
          ]
        }
      ]
    },
    {
      "cell_type": "markdown",
      "source": [
        "=> 임곗값이 1에 가까운 값에서 점점 작아지면서 FPR 점점 커지고 TPR은 가파르게 커짐"
      ],
      "metadata": {
        "id": "3FukcRpU5kNC"
      }
    },
    {
      "cell_type": "markdown",
      "source": [
        "* FPR의 변화에 따른 TPR의 변화를 ROC 곡선으로 시각화"
      ],
      "metadata": {
        "id": "jWfeWzg75tb3"
      }
    },
    {
      "cell_type": "code",
      "source": [
        "def roc_curve_plot(y_test, pred_proba_c1):\n",
        "  # 임곗값에 따른 FPR, TPR 값을 반환받음.\n",
        "  fprs, tprs, thresholds = roc_curve(y_test, pred_proba_c1)\n",
        "  # ROC 곡선을 그래프 곡선으로 그림.\n",
        "  plt.plot(fprs, tprs, label='ROC')\n",
        "  # 가운데 대각선 직선을 그림.\n",
        "  plt.plot([0,1],[0,1],'k-',label='Random')\n",
        "\n",
        "  # FPR X축의 Scale을 0.1 단위로 변경, X, Y축 명 설정 등\n",
        "  start, end = plt.xlim()\n",
        "  plt.xticks(np.round(np.arange(start,end,0.1),2))\n",
        "  plt.xlim(0,1);plt.ylim(0,1)\n",
        "  plt.xlabel('FPR( 1 - Sensitivity )'); plt.ylabel('TPR( Recall )')\n",
        "  plt.legend()\n",
        "\n",
        "roc_curve_plot(y_test, pred_proba[:,1])"
      ],
      "metadata": {
        "colab": {
          "base_uri": "https://localhost:8080/",
          "height": 283
        },
        "id": "1_KoJ0ln5yNA",
        "outputId": "15d048d0-66c5-4fa1-d425-cf6f96a98f55"
      },
      "execution_count": null,
      "outputs": [
        {
          "output_type": "display_data",
          "data": {
            "text/plain": [
              "<Figure size 432x288 with 1 Axes>"
            ],
            "image/png": "[encoded data removed]"
          },
          "metadata": {
            "needs_background": "light"
          }
        }
      ]
    },
    {
      "cell_type": "markdown",
      "source": [
        "일반적으로 ROC 곡선 자체는 FPR과 TPR의 변화 값을 보는 데 이용\n",
        "\n",
        "분류의 성능 지표로 사용되는 것은 = ROC 곡선 면적에 기반한 AUC 값으로 결정\n",
        "\n",
        ">**AUC**(Area Under Curve) 값 : ROC 곡선 밑의 면적 구한 것\n",
        "\n",
        ": 일반적으로 1에 가까울수록 좋은 수치\n",
        "\n",
        ": 가운데 직선에서 멀어지고 왼쪽 상단 모서리 쪽으로 가파르게 곡선이 이동할수록 면적이 1에 가까워지는 좋은 ROC AUC 성능 수치\n",
        "\n",
        ": 보통의 분류는 0.5 이상의 AUC 값(<- 가운데 대각선 직선 = 0.5)"
      ],
      "metadata": {
        "id": "Dz7kzSjN6zlm"
      }
    },
    {
      "cell_type": "code",
      "source": [
        "# y_target, preds ??\n",
        "'''\n",
        "from sklearn.metrics import accuracy_score, confusion_matrix, precision_score\n",
        "from sklearn.metrics import recall_score, f1_score, roc_auc_score\n",
        "import numpy as np\n",
        "\n",
        "print(confusion_matrix(y_target, preds))\n",
        "print(\"정확도:\",np.round(accuracy_score(y_target, preds),4))\n",
        "print(\"정밀도:\",np.round(precision_score(y_target, preds),4))\n",
        "print(\"재현율:\",np.round(recall_score(y_target, preds),4))\n",
        "'''"
      ],
      "metadata": {
        "colab": {
          "base_uri": "https://localhost:8080/",
          "height": 251
        },
        "id": "e6ZBVE8j7qMX",
        "outputId": "2a60f324-ed98-4eda-a9cd-2e69a178cd54"
      },
      "execution_count": null,
      "outputs": [
        {
          "output_type": "error",
          "ename": "NameError",
          "evalue": "ignored",
          "traceback": [
            "\u001b[0;31m---------------------------------------------------------------------------\u001b[0m",
            "\u001b[0;31mNameError\u001b[0m                                 Traceback (most recent call last)",
            "\u001b[0;32m<ipython-input-30-c6fa947a6679>\u001b[0m in \u001b[0;36m<module>\u001b[0;34m\u001b[0m\n\u001b[1;32m      3\u001b[0m \u001b[0;32mimport\u001b[0m \u001b[0mnumpy\u001b[0m \u001b[0;32mas\u001b[0m \u001b[0mnp\u001b[0m\u001b[0;34m\u001b[0m\u001b[0;34m\u001b[0m\u001b[0m\n\u001b[1;32m      4\u001b[0m \u001b[0;34m\u001b[0m\u001b[0m\n\u001b[0;32m----> 5\u001b[0;31m \u001b[0mprint\u001b[0m\u001b[0;34m(\u001b[0m\u001b[0mconfusion_matrix\u001b[0m\u001b[0;34m(\u001b[0m\u001b[0my\u001b[0m\u001b[0;34m,\u001b[0m \u001b[0mpred_proba_class\u001b[0m\u001b[0;34m)\u001b[0m\u001b[0;34m)\u001b[0m\u001b[0;34m\u001b[0m\u001b[0;34m\u001b[0m\u001b[0m\n\u001b[0m\u001b[1;32m      6\u001b[0m \u001b[0mprint\u001b[0m\u001b[0;34m(\u001b[0m\u001b[0;34m\"정확도:\"\u001b[0m\u001b[0;34m,\u001b[0m\u001b[0mnp\u001b[0m\u001b[0;34m.\u001b[0m\u001b[0mround\u001b[0m\u001b[0;34m(\u001b[0m\u001b[0maccuracy_score\u001b[0m\u001b[0;34m(\u001b[0m\u001b[0my_test\u001b[0m\u001b[0;34m,\u001b[0m \u001b[0mpred\u001b[0m\u001b[0;34m)\u001b[0m\u001b[0;34m,\u001b[0m\u001b[0;36m4\u001b[0m\u001b[0;34m)\u001b[0m\u001b[0;34m)\u001b[0m\u001b[0;34m\u001b[0m\u001b[0;34m\u001b[0m\u001b[0m\n\u001b[1;32m      7\u001b[0m \u001b[0mprint\u001b[0m\u001b[0;34m(\u001b[0m\u001b[0;34m\"정밀도:\"\u001b[0m\u001b[0;34m,\u001b[0m\u001b[0mnp\u001b[0m\u001b[0;34m.\u001b[0m\u001b[0mround\u001b[0m\u001b[0;34m(\u001b[0m\u001b[0mprecision_score\u001b[0m\u001b[0;34m(\u001b[0m\u001b[0my_test\u001b[0m\u001b[0;34m,\u001b[0m \u001b[0mpred\u001b[0m\u001b[0;34m)\u001b[0m\u001b[0;34m,\u001b[0m\u001b[0;36m4\u001b[0m\u001b[0;34m)\u001b[0m\u001b[0;34m)\u001b[0m\u001b[0;34m\u001b[0m\u001b[0;34m\u001b[0m\u001b[0m\n",
            "\u001b[0;31mNameError\u001b[0m: name 'pred_proba_class' is not defined"
          ]
        }
      ]
    },
    {
      "cell_type": "code",
      "source": [
        "# 정확도, 정밀도, 재현율, F1 스코어, ROC AUC 값까지 출력\n",
        "from sklearn.metrics import accuracy_score, confusion_matrix, precision_score\n",
        "from sklearn.metrics import recall_score, f1_score, roc_auc_score\n",
        "\n",
        "def get_clf_eval(y_test, pred=None, pred_proba=None):\n",
        "  confusion = confusion_matrix(y_test, pred)\n",
        "  accuracy = accuracy_score(y_test, pred)\n",
        "  precision = precision_score(y_test, pred)\n",
        "  recall = recall_score(y_test, pred)\n",
        "  f1 = f1_score(y_test, pred)\n",
        "  # ROC-AUC 추가\n",
        "  roc_auc = roc_auc_score(y_test, pred_proba)\n",
        "  print('오차 행렬')\n",
        "  print(confusion)\n",
        "  # ROC-AUC print 추가\n",
        "  print('정확도: {0:.4f}, 정밀도: {1:.4f}, 재현율: {2:.4f},\\\n",
        "  F1: {3:.4f}, AUC:{4:.4f}'.format(accuracy, precision, recall, f1, roc_auc))"
      ],
      "metadata": {
        "id": "tMAqN2nzAHPR"
      },
      "execution_count": null,
      "outputs": []
    }
  ]
}