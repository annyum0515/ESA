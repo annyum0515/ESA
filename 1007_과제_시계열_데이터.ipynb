{
  "nbformat": 4,
  "nbformat_minor": 0,
  "metadata": {
    "colab": {
      "provenance": [],
      "collapsed_sections": [],
      "authorship_tag": "ABX9TyPBxNG2h6JPmUA20DjmKxPA",
      "include_colab_link": true
    },
    "kernelspec": {
      "name": "python3",
      "display_name": "Python 3"
    },
    "language_info": {
      "name": "python"
    }
  },
  "cells": [
    {
      "cell_type": "markdown",
      "metadata": {
        "id": "view-in-github",
        "colab_type": "text"
      },
      "source": [
        "<a href=\"https://colab.research.google.com/github/anwishn/ESAA/blob/main/1007_%EA%B3%BC%EC%A0%9C_%EC%8B%9C%EA%B3%84%EC%97%B4_%EB%8D%B0%EC%9D%B4%ED%84%B0.ipynb\" target=\"_parent\"><img src=\"https://colab.research.google.com/assets/colab-badge.svg\" alt=\"Open In Colab\"/></a>"
      ]
    },
    {
      "cell_type": "markdown",
      "source": [
        "두잇 판다스 입문 p.241-242, 256-263"
      ],
      "metadata": {
        "id": "83rMY0acec0i"
      }
    },
    {
      "cell_type": "markdown",
      "source": [
        "# 12. 시계열 데이터"
      ],
      "metadata": {
        "id": "iAOR27pxehhR"
      }
    },
    {
      "cell_type": "markdown",
      "source": [
        "## 12-1 datatime 오브젝트\n",
        "\n",
        "**datetime 라이브러리** : 날짜와 시간을 처리하는 등의 다양한 기능을 제공하는 파이썬 라이브러리\n",
        "\n",
        "* 날짜를 처리하는 date 오브젝트\n",
        "* 시간을 처리하는 time 오브젝트\n",
        "* 날짜와 시간을 모두 처리하는 datetime 오브젝트"
      ],
      "metadata": {
        "id": "wWda42YAesZ5"
      }
    },
    {
      "cell_type": "markdown",
      "source": [
        "#### datetime 오브젝트 사용하기\n",
        "\n",
        "1. datetime 라이브러리 불러오기"
      ],
      "metadata": {
        "id": "FpOcofMpgr2c"
      }
    },
    {
      "cell_type": "code",
      "execution_count": 2,
      "metadata": {
        "id": "4wRldSaSd6t6"
      },
      "outputs": [],
      "source": [
        "from datetime import datetime"
      ]
    },
    {
      "cell_type": "markdown",
      "source": [
        "2. 현재 시간 출력 - **now**, **today** 메서드 사용"
      ],
      "metadata": {
        "id": "Bpz2Wf4Fg1Ej"
      }
    },
    {
      "cell_type": "code",
      "source": [
        "now1 = datetime.now()\n",
        "print(now1)\n",
        "\n",
        "now2 = datetime.today()\n",
        "print(now2)"
      ],
      "metadata": {
        "colab": {
          "base_uri": "https://localhost:8080/"
        },
        "id": "AlBSyoFvg9mk",
        "outputId": "bb807062-ab49-4f5a-cd86-59401ae8c63f"
      },
      "execution_count": 3,
      "outputs": [
        {
          "output_type": "stream",
          "name": "stdout",
          "text": [
            "2022-10-12 07:06:45.597287\n",
            "2022-10-12 07:06:45.597463\n"
          ]
        }
      ]
    },
    {
      "cell_type": "markdown",
      "source": [
        "3. datetime 오브젝트 생성할 때 시간을 직접 입력하여 인자로 전달"
      ],
      "metadata": {
        "id": "czNnzdQ0hH30"
      }
    },
    {
      "cell_type": "code",
      "source": [
        "t1 = datetime.now()      # now 메서드는 밀리초 단위까지 구해\n",
        "t2 = datetime(1970,1,1)\n",
        "t3 = datetime(1970,12,12,13,24,24)\n",
        "\n",
        "print(t1)\n",
        "print(t2)\n",
        "print(t3)"
      ],
      "metadata": {
        "colab": {
          "base_uri": "https://localhost:8080/"
        },
        "id": "fLHubeZDhV6q",
        "outputId": "bdc49e08-2c17-48bf-83f0-a7a811548a0b"
      },
      "execution_count": 4,
      "outputs": [
        {
          "output_type": "stream",
          "name": "stdout",
          "text": [
            "2022-10-12 07:06:45.618880\n",
            "1970-01-01 00:00:00\n",
            "1970-12-12 13:24:24\n"
          ]
        }
      ]
    },
    {
      "cell_type": "markdown",
      "source": [
        "4. datetime 오브젝트 사용 이유 - 시간 계산 가능"
      ],
      "metadata": {
        "id": "82yorFlOhmKd"
      }
    },
    {
      "cell_type": "code",
      "source": [
        "diff1 = t1-t2\n",
        "\n",
        "print(diff1)\n",
        "print(type(diff1))\n",
        "\n",
        "diff2 = t2 - t1\n",
        "\n",
        "print(diff2)\n",
        "print(type(diff2))"
      ],
      "metadata": {
        "colab": {
          "base_uri": "https://localhost:8080/"
        },
        "id": "B0SqxcHLhvoO",
        "outputId": "4ba638e5-eb86-471f-93d7-7d020067c278"
      },
      "execution_count": 5,
      "outputs": [
        {
          "output_type": "stream",
          "name": "stdout",
          "text": [
            "19277 days, 7:06:45.618880\n",
            "<class 'datetime.timedelta'>\n",
            "-19278 days, 16:53:14.381120\n",
            "<class 'datetime.timedelta'>\n"
          ]
        }
      ]
    },
    {
      "cell_type": "markdown",
      "source": [
        "## 12-2 사례별 시계열 데이터 계산하기"
      ],
      "metadata": {
        "id": "FMIITku0lGTU"
      }
    },
    {
      "cell_type": "markdown",
      "source": [
        "#### 테슬라 주식 데이터로 시간 계산하기\n",
        "\n",
        "pandas-datareader 라이브러리 이용해 주식 데이터 불러오기"
      ],
      "metadata": {
        "id": "qwih_nN_lJ4t"
      }
    },
    {
      "cell_type": "code",
      "source": [
        "pip install pandas-datareader"
      ],
      "metadata": {
        "colab": {
          "base_uri": "https://localhost:8080/"
        },
        "id": "ONaODEaKlb9Y",
        "outputId": "ce2660a1-eb40-4a41-ee5c-2785bbd6dc4b"
      },
      "execution_count": 6,
      "outputs": [
        {
          "output_type": "stream",
          "name": "stdout",
          "text": [
            "Looking in indexes: https://pypi.org/simple, https://us-python.pkg.dev/colab-wheels/public/simple/\n",
            "Requirement already satisfied: pandas-datareader in /usr/local/lib/python3.7/dist-packages (0.9.0)\n",
            "Requirement already satisfied: lxml in /usr/local/lib/python3.7/dist-packages (from pandas-datareader) (4.9.1)\n",
            "Requirement already satisfied: pandas>=0.23 in /usr/local/lib/python3.7/dist-packages (from pandas-datareader) (1.3.5)\n",
            "Requirement already satisfied: requests>=2.19.0 in /usr/local/lib/python3.7/dist-packages (from pandas-datareader) (2.23.0)\n",
            "Requirement already satisfied: python-dateutil>=2.7.3 in /usr/local/lib/python3.7/dist-packages (from pandas>=0.23->pandas-datareader) (2.8.2)\n",
            "Requirement already satisfied: numpy>=1.17.3 in /usr/local/lib/python3.7/dist-packages (from pandas>=0.23->pandas-datareader) (1.21.6)\n",
            "Requirement already satisfied: pytz>=2017.3 in /usr/local/lib/python3.7/dist-packages (from pandas>=0.23->pandas-datareader) (2022.4)\n",
            "Requirement already satisfied: six>=1.5 in /usr/local/lib/python3.7/dist-packages (from python-dateutil>=2.7.3->pandas>=0.23->pandas-datareader) (1.15.0)\n",
            "Requirement already satisfied: certifi>=2017.4.17 in /usr/local/lib/python3.7/dist-packages (from requests>=2.19.0->pandas-datareader) (2022.9.24)\n",
            "Requirement already satisfied: chardet<4,>=3.0.2 in /usr/local/lib/python3.7/dist-packages (from requests>=2.19.0->pandas-datareader) (3.0.4)\n",
            "Requirement already satisfied: urllib3!=1.25.0,!=1.25.1,<1.26,>=1.21.1 in /usr/local/lib/python3.7/dist-packages (from requests>=2.19.0->pandas-datareader) (1.24.3)\n",
            "Requirement already satisfied: idna<3,>=2.5 in /usr/local/lib/python3.7/dist-packages (from requests>=2.19.0->pandas-datareader) (2.10)\n"
          ]
        }
      ]
    },
    {
      "cell_type": "markdown",
      "source": [
        "1) 데이터 불러오기 과정 - **get_data_quandl**, **to_csv** 메서드"
      ],
      "metadata": {
        "id": "j8fPYKuw-qql"
      }
    },
    {
      "cell_type": "code",
      "source": [
        "import pandas as pd\n",
        "pd.core.common.is_list_like = pd.api.types.is_list_like\n",
        "import pandas_datareader as pdr\n",
        "\n",
        "# get_data_quandl 메서드에 TSLA 문자열 전달하여 tesla에는 테슬라의 주식 데이터 데이터프레임이 저장\n",
        "tesla = pdr.get_data_quandl('TSLA',api_key = 'NrEBD3N1WJxRzkHoCsCv')\n",
        "\n",
        "# to_csv 메서드를 사용하여 tesla에 저장된 데이터프레임을 파일에 저장\n",
        "tesla.to_csv('/content/sample_data/tesla_stock_quandl.csv')"
      ],
      "metadata": {
        "id": "M9OJNO1MpmIY"
      },
      "execution_count": 7,
      "outputs": []
    },
    {
      "cell_type": "markdown",
      "source": [
        "2) Date열은 문자열로 저장되어있음을 확인"
      ],
      "metadata": {
        "id": "gOGUv9Gx-16e"
      }
    },
    {
      "cell_type": "code",
      "source": [
        "print(tesla.head())"
      ],
      "metadata": {
        "colab": {
          "base_uri": "https://localhost:8080/"
        },
        "id": "MOHbVa8pycpi",
        "outputId": "9a72cefa-137a-4de9-b152-95e6957fbfc3"
      },
      "execution_count": 8,
      "outputs": [
        {
          "output_type": "stream",
          "name": "stdout",
          "text": [
            "              Open    High     Low   Close      Volume  ExDividend  \\\n",
            "Date                                                                 \n",
            "2018-03-27  304.00  304.27  277.18  279.18  13696168.0         0.0   \n",
            "2018-03-26  307.34  307.59  291.36  304.18   8324639.0         0.0   \n",
            "2018-03-23  311.25  311.61  300.45  301.54   6600538.0         0.0   \n",
            "2018-03-22  313.89  318.82  308.18  309.10   4914307.0         0.0   \n",
            "2018-03-21  310.25  322.44  310.19  316.53   5927881.0         0.0   \n",
            "\n",
            "            SplitRatio  AdjOpen  AdjHigh  AdjLow  AdjClose   AdjVolume  \n",
            "Date                                                                    \n",
            "2018-03-27         1.0   304.00   304.27  277.18    279.18  13696168.0  \n",
            "2018-03-26         1.0   307.34   307.59  291.36    304.18   8324639.0  \n",
            "2018-03-23         1.0   311.25   311.61  300.45    301.54   6600538.0  \n",
            "2018-03-22         1.0   313.89   318.82  308.18    309.10   4914307.0  \n",
            "2018-03-21         1.0   310.25   322.44  310.19    316.53   5927881.0  \n"
          ]
        }
      ]
    },
    {
      "cell_type": "markdown",
      "source": [
        "3) Date열을 Datetime 형으로 변환 - read_csv 메서드로 데이터 집합 불러올 때 **parse_dates** 인자에 Date열 전달"
      ],
      "metadata": {
        "id": "S8LwPlmc-5F-"
      }
    },
    {
      "cell_type": "code",
      "source": [
        "# read_csv 메서드로 데이터 집합 불러올 때 parse_dates 인자에 Date열 전달\n",
        "tesla = pd.read_csv('/content/sample_data/tesla_stock_quandl.csv', parse_dates=[0])\n",
        "print(tesla.info())"
      ],
      "metadata": {
        "colab": {
          "base_uri": "https://localhost:8080/"
        },
        "id": "WgCUpzvG0ejC",
        "outputId": "4cc20043-14f5-414e-d691-64a7691d09b0"
      },
      "execution_count": 9,
      "outputs": [
        {
          "output_type": "stream",
          "name": "stdout",
          "text": [
            "<class 'pandas.core.frame.DataFrame'>\n",
            "RangeIndex: 112 entries, 0 to 111\n",
            "Data columns (total 13 columns):\n",
            " #   Column      Non-Null Count  Dtype         \n",
            "---  ------      --------------  -----         \n",
            " 0   Date        112 non-null    datetime64[ns]\n",
            " 1   Open        112 non-null    float64       \n",
            " 2   High        112 non-null    float64       \n",
            " 3   Low         112 non-null    float64       \n",
            " 4   Close       112 non-null    float64       \n",
            " 5   Volume      112 non-null    float64       \n",
            " 6   ExDividend  112 non-null    float64       \n",
            " 7   SplitRatio  112 non-null    float64       \n",
            " 8   AdjOpen     112 non-null    float64       \n",
            " 9   AdjHigh     112 non-null    float64       \n",
            " 10  AdjLow      112 non-null    float64       \n",
            " 11  AdjClose    112 non-null    float64       \n",
            " 12  AdjVolume   112 non-null    float64       \n",
            "dtypes: datetime64[ns](1), float64(12)\n",
            "memory usage: 11.5 KB\n",
            "None\n"
          ]
        }
      ]
    },
    {
      "cell_type": "markdown",
      "source": [
        "4) dt 접근자 사용 가능"
      ],
      "metadata": {
        "id": "isMBJaoC_MMR"
      }
    },
    {
      "cell_type": "code",
      "source": [
        "# 불린 추출로 2010년 6월 데이터만 추출\n",
        "print(tesla.loc[(tesla.Date.dt.year == 2010) & (tesla.Date.dt.month == 6)])"
      ],
      "metadata": {
        "colab": {
          "base_uri": "https://localhost:8080/"
        },
        "id": "VTQ4cVNnzNxj",
        "outputId": "52df0c7f-121e-4a18-e5d4-443172fb82f6"
      },
      "execution_count": 10,
      "outputs": [
        {
          "output_type": "stream",
          "name": "stdout",
          "text": [
            "Empty DataFrame\n",
            "Columns: [Date, Open, High, Low, Close, Volume, ExDividend, SplitRatio, AdjOpen, AdjHigh, AdjLow, AdjClose, AdjVolume]\n",
            "Index: []\n"
          ]
        }
      ]
    },
    {
      "cell_type": "markdown",
      "source": [
        "### datetime 오브젝트와 인덱스 - **DatetimeIndex**\n",
        "\n",
        "datetime 오브젝트를 데이터프레임의 인덱스로 설정하면 원하는 시간의 데이터 바로 추출 가능"
      ],
      "metadata": {
        "id": "6dm7wzsT2X_g"
      }
    },
    {
      "cell_type": "markdown",
      "source": [
        "#### datetime 오브젝트를 인덱스로 설정해 데이터 추출하기"
      ],
      "metadata": {
        "id": "Rzep9Nz-2mMC"
      }
    },
    {
      "cell_type": "code",
      "source": [
        "# Date 열을 tesla 데이터프레임의 인덱스로 지정\n",
        "tesla.index = tesla['Date']\n",
        "print(tesla.index)"
      ],
      "metadata": {
        "colab": {
          "base_uri": "https://localhost:8080/"
        },
        "id": "RnTtIkwL2knL",
        "outputId": "81f15d72-37b9-4260-95a1-f19f77e3d621"
      },
      "execution_count": 11,
      "outputs": [
        {
          "output_type": "stream",
          "name": "stdout",
          "text": [
            "DatetimeIndex(['2018-03-27', '2018-03-26', '2018-03-23', '2018-03-22',\n",
            "               '2018-03-21', '2018-03-20', '2018-03-19', '2018-03-16',\n",
            "               '2018-03-15', '2018-03-14',\n",
            "               ...\n",
            "               '2017-10-26', '2017-10-25', '2017-10-24', '2017-10-23',\n",
            "               '2017-10-20', '2017-10-19', '2017-10-18', '2017-10-17',\n",
            "               '2017-10-16', '2017-10-13'],\n",
            "              dtype='datetime64[ns]', name='Date', length=112, freq=None)\n"
          ]
        }
      ]
    },
    {
      "cell_type": "code",
      "source": [
        "# 2015년 데이터 추출\n",
        "print(tesla['2015'].iloc[:5,:5])"
      ],
      "metadata": {
        "colab": {
          "base_uri": "https://localhost:8080/"
        },
        "id": "H5xk8Oh023mA",
        "outputId": "a2c2b27a-cea4-4408-b9ef-5b9be9451b6a"
      },
      "execution_count": 12,
      "outputs": [
        {
          "output_type": "stream",
          "name": "stdout",
          "text": [
            "Empty DataFrame\n",
            "Columns: [Date, Open, High, Low, Close]\n",
            "Index: []\n"
          ]
        },
        {
          "output_type": "stream",
          "name": "stderr",
          "text": [
            "/usr/local/lib/python3.7/dist-packages/ipykernel_launcher.py:2: FutureWarning: Indexing a DataFrame with a datetimelike index using a single string to slice the rows, like `frame[string]`, is deprecated and will be removed in a future version. Use `frame.loc[string]` instead.\n",
            "  \n"
          ]
        }
      ]
    },
    {
      "cell_type": "code",
      "source": [
        "# 2010년 6월 데이터 추출\n",
        "print(tesla['2010-06'].iloc[:,:5])"
      ],
      "metadata": {
        "colab": {
          "base_uri": "https://localhost:8080/"
        },
        "id": "LrFdQOnZ29VN",
        "outputId": "711ffa5c-0378-44b5-d782-852a1dd723fb"
      },
      "execution_count": 13,
      "outputs": [
        {
          "output_type": "stream",
          "name": "stdout",
          "text": [
            "Empty DataFrame\n",
            "Columns: [Date, Open, High, Low, Close]\n",
            "Index: []\n"
          ]
        },
        {
          "output_type": "stream",
          "name": "stderr",
          "text": [
            "/usr/local/lib/python3.7/dist-packages/ipykernel_launcher.py:2: FutureWarning: Indexing a DataFrame with a datetimelike index using a single string to slice the rows, like `frame[string]`, is deprecated and will be removed in a future version. Use `frame.loc[string]` instead.\n",
            "  \n"
          ]
        }
      ]
    },
    {
      "cell_type": "markdown",
      "source": [
        "### 시간 간격과 인덱스 - **TimedeltaIndex**"
      ],
      "metadata": {
        "id": "VKFKUYD93JBx"
      }
    },
    {
      "cell_type": "markdown",
      "source": [
        "#### 시간 간격을 인덱스로 지정해 데이터 추출하기"
      ],
      "metadata": {
        "id": "JUwrXO774VuS"
      }
    },
    {
      "cell_type": "code",
      "source": [
        "# Date열에서 Date열의 최솟값을 빼면 데이터 수집 이후 시간이 얼마나 흘렀는지 알수 있음\n",
        "tesla['ref_date'] = tesla['Date'] - tesla['Date'].min()\n",
        "print(tesla.head())"
      ],
      "metadata": {
        "colab": {
          "base_uri": "https://localhost:8080/"
        },
        "id": "UYYroLkM4ZQX",
        "outputId": "8bef0e67-3a6a-4856-9be1-2228a62d8bdb"
      },
      "execution_count": 14,
      "outputs": [
        {
          "output_type": "stream",
          "name": "stdout",
          "text": [
            "                 Date    Open    High     Low   Close      Volume  ExDividend  \\\n",
            "Date                                                                            \n",
            "2018-03-27 2018-03-27  304.00  304.27  277.18  279.18  13696168.0         0.0   \n",
            "2018-03-26 2018-03-26  307.34  307.59  291.36  304.18   8324639.0         0.0   \n",
            "2018-03-23 2018-03-23  311.25  311.61  300.45  301.54   6600538.0         0.0   \n",
            "2018-03-22 2018-03-22  313.89  318.82  308.18  309.10   4914307.0         0.0   \n",
            "2018-03-21 2018-03-21  310.25  322.44  310.19  316.53   5927881.0         0.0   \n",
            "\n",
            "            SplitRatio  AdjOpen  AdjHigh  AdjLow  AdjClose   AdjVolume  \\\n",
            "Date                                                                     \n",
            "2018-03-27         1.0   304.00   304.27  277.18    279.18  13696168.0   \n",
            "2018-03-26         1.0   307.34   307.59  291.36    304.18   8324639.0   \n",
            "2018-03-23         1.0   311.25   311.61  300.45    301.54   6600538.0   \n",
            "2018-03-22         1.0   313.89   318.82  308.18    309.10   4914307.0   \n",
            "2018-03-21         1.0   310.25   322.44  310.19    316.53   5927881.0   \n",
            "\n",
            "           ref_date  \n",
            "Date                 \n",
            "2018-03-27 165 days  \n",
            "2018-03-26 164 days  \n",
            "2018-03-23 161 days  \n",
            "2018-03-22 160 days  \n",
            "2018-03-21 159 days  \n"
          ]
        }
      ]
    },
    {
      "cell_type": "code",
      "source": [
        "# ref_date 열(시간 간격)을 인덱스로 지정해 데이터 추출\n",
        "tesla.index = tesla['ref_date']\n",
        "print(tesla.iloc[:5, :5])"
      ],
      "metadata": {
        "colab": {
          "base_uri": "https://localhost:8080/"
        },
        "id": "ewqfqYog4sSW",
        "outputId": "0584d21b-5d06-4ad8-f933-a6682062e9f4"
      },
      "execution_count": 15,
      "outputs": [
        {
          "output_type": "stream",
          "name": "stdout",
          "text": [
            "               Date    Open    High     Low   Close\n",
            "ref_date                                           \n",
            "165 days 2018-03-27  304.00  304.27  277.18  279.18\n",
            "164 days 2018-03-26  307.34  307.59  291.36  304.18\n",
            "161 days 2018-03-23  311.25  311.61  300.45  301.54\n",
            "160 days 2018-03-22  313.89  318.82  308.18  309.10\n",
            "159 days 2018-03-21  310.25  322.44  310.19  316.53\n"
          ]
        }
      ]
    },
    {
      "cell_type": "code",
      "source": [
        "# 데이터 수집 이후 최초 5일의 데이터 추출\n",
        "print(tesla['5 days':].iloc[:5,:5])   # 4days는 데이터가 처음부터 없어 출력x"
      ],
      "metadata": {
        "colab": {
          "base_uri": "https://localhost:8080/"
        },
        "id": "nRFGucqC49to",
        "outputId": "21643e01-12f7-4843-d500-02f3dc23f000"
      },
      "execution_count": 16,
      "outputs": [
        {
          "output_type": "stream",
          "name": "stdout",
          "text": [
            "               Date    Open    High     Low   Close\n",
            "ref_date                                           \n",
            "5 days   2017-10-18  355.97  363.00  354.13  359.65\n",
            "4 days   2017-10-17  350.91  356.22  350.07  355.75\n",
            "3 days   2017-10-16  353.76  354.48  347.16  350.60\n",
            "0 days   2017-10-13  356.98  358.49  353.68  355.57\n"
          ]
        }
      ]
    },
    {
      "cell_type": "markdown",
      "source": [
        "### 시간 범위와 인덱스\n",
        "\n",
        "<u>만약 특정 일에 누락된 데이터가 있는 경우</u> => 임의로 시간 범위를 생성하여 인덱스 지정"
      ],
      "metadata": {
        "id": "z2fBmBXK5Tk4"
      }
    },
    {
      "cell_type": "markdown",
      "source": [
        "#### 시간 범위 생성해 인덱스로 지정하기"
      ],
      "metadata": {
        "id": "2f4YXhBT5fB2"
      }
    },
    {
      "cell_type": "markdown",
      "source": [
        "1) 에볼라 데이터 집합 사용 -> 데이터 누락된 것 확인가능"
      ],
      "metadata": {
        "id": "QJJiktw2_h4C"
      }
    },
    {
      "cell_type": "code",
      "source": [
        "from google.colab import files\n",
        "myfile = files.upload()"
      ],
      "metadata": {
        "colab": {
          "base_uri": "https://localhost:8080/",
          "height": 77
        },
        "id": "5PtvQ4IeBCJJ",
        "outputId": "4808753e-9046-4e04-aa07-47a6540a4405"
      },
      "execution_count": 17,
      "outputs": [
        {
          "output_type": "display_data",
          "data": {
            "text/plain": [
              "<IPython.core.display.HTML object>"
            ],
            "text/html": [
              "\n",
              "     <input type=\"file\" id=\"files-2a90426e-552c-41dc-8e39-281a5eee67bb\" name=\"files[]\" multiple disabled\n",
              "        style=\"border:none\" />\n",
              "     <output id=\"result-2a90426e-552c-41dc-8e39-281a5eee67bb\">\n",
              "      Upload widget is only available when the cell has been executed in the\n",
              "      current browser session. Please rerun this cell to enable.\n",
              "      </output>\n",
              "      <script>// Copyright 2017 Google LLC\n",
              "//\n",
              "// Licensed under the Apache License, Version 2.0 (the \"License\");\n",
              "// you may not use this file except in compliance with the License.\n",
              "// You may obtain a copy of the License at\n",
              "//\n",
              "//      http://www.apache.org/licenses/LICENSE-2.0\n",
              "//\n",
              "// Unless required by applicable law or agreed to in writing, software\n",
              "// distributed under the License is distributed on an \"AS IS\" BASIS,\n",
              "// WITHOUT WARRANTIES OR CONDITIONS OF ANY KIND, either express or implied.\n",
              "// See the License for the specific language governing permissions and\n",
              "// limitations under the License.\n",
              "\n",
              "/**\n",
              " * @fileoverview Helpers for google.colab Python module.\n",
              " */\n",
              "(function(scope) {\n",
              "function span(text, styleAttributes = {}) {\n",
              "  const element = document.createElement('span');\n",
              "  element.textContent = text;\n",
              "  for (const key of Object.keys(styleAttributes)) {\n",
              "    element.style[key] = styleAttributes[key];\n",
              "  }\n",
              "  return element;\n",
              "}\n",
              "\n",
              "// Max number of bytes which will be uploaded at a time.\n",
              "const MAX_PAYLOAD_SIZE = 100 * 1024;\n",
              "\n",
              "function _uploadFiles(inputId, outputId) {\n",
              "  const steps = uploadFilesStep(inputId, outputId);\n",
              "  const outputElement = document.getElementById(outputId);\n",
              "  // Cache steps on the outputElement to make it available for the next call\n",
              "  // to uploadFilesContinue from Python.\n",
              "  outputElement.steps = steps;\n",
              "\n",
              "  return _uploadFilesContinue(outputId);\n",
              "}\n",
              "\n",
              "// This is roughly an async generator (not supported in the browser yet),\n",
              "// where there are multiple asynchronous steps and the Python side is going\n",
              "// to poll for completion of each step.\n",
              "// This uses a Promise to block the python side on completion of each step,\n",
              "// then passes the result of the previous step as the input to the next step.\n",
              "function _uploadFilesContinue(outputId) {\n",
              "  const outputElement = document.getElementById(outputId);\n",
              "  const steps = outputElement.steps;\n",
              "\n",
              "  const next = steps.next(outputElement.lastPromiseValue);\n",
              "  return Promise.resolve(next.value.promise).then((value) => {\n",
              "    // Cache the last promise value to make it available to the next\n",
              "    // step of the generator.\n",
              "    outputElement.lastPromiseValue = value;\n",
              "    return next.value.response;\n",
              "  });\n",
              "}\n",
              "\n",
              "/**\n",
              " * Generator function which is called between each async step of the upload\n",
              " * process.\n",
              " * @param {string} inputId Element ID of the input file picker element.\n",
              " * @param {string} outputId Element ID of the output display.\n",
              " * @return {!Iterable<!Object>} Iterable of next steps.\n",
              " */\n",
              "function* uploadFilesStep(inputId, outputId) {\n",
              "  const inputElement = document.getElementById(inputId);\n",
              "  inputElement.disabled = false;\n",
              "\n",
              "  const outputElement = document.getElementById(outputId);\n",
              "  outputElement.innerHTML = '';\n",
              "\n",
              "  const pickedPromise = new Promise((resolve) => {\n",
              "    inputElement.addEventListener('change', (e) => {\n",
              "      resolve(e.target.files);\n",
              "    });\n",
              "  });\n",
              "\n",
              "  const cancel = document.createElement('button');\n",
              "  inputElement.parentElement.appendChild(cancel);\n",
              "  cancel.textContent = 'Cancel upload';\n",
              "  const cancelPromise = new Promise((resolve) => {\n",
              "    cancel.onclick = () => {\n",
              "      resolve(null);\n",
              "    };\n",
              "  });\n",
              "\n",
              "  // Wait for the user to pick the files.\n",
              "  const files = yield {\n",
              "    promise: Promise.race([pickedPromise, cancelPromise]),\n",
              "    response: {\n",
              "      action: 'starting',\n",
              "    }\n",
              "  };\n",
              "\n",
              "  cancel.remove();\n",
              "\n",
              "  // Disable the input element since further picks are not allowed.\n",
              "  inputElement.disabled = true;\n",
              "\n",
              "  if (!files) {\n",
              "    return {\n",
              "      response: {\n",
              "        action: 'complete',\n",
              "      }\n",
              "    };\n",
              "  }\n",
              "\n",
              "  for (const file of files) {\n",
              "    const li = document.createElement('li');\n",
              "    li.append(span(file.name, {fontWeight: 'bold'}));\n",
              "    li.append(span(\n",
              "        `(${file.type || 'n/a'}) - ${file.size} bytes, ` +\n",
              "        `last modified: ${\n",
              "            file.lastModifiedDate ? file.lastModifiedDate.toLocaleDateString() :\n",
              "                                    'n/a'} - `));\n",
              "    const percent = span('0% done');\n",
              "    li.appendChild(percent);\n",
              "\n",
              "    outputElement.appendChild(li);\n",
              "\n",
              "    const fileDataPromise = new Promise((resolve) => {\n",
              "      const reader = new FileReader();\n",
              "      reader.onload = (e) => {\n",
              "        resolve(e.target.result);\n",
              "      };\n",
              "      reader.readAsArrayBuffer(file);\n",
              "    });\n",
              "    // Wait for the data to be ready.\n",
              "    let fileData = yield {\n",
              "      promise: fileDataPromise,\n",
              "      response: {\n",
              "        action: 'continue',\n",
              "      }\n",
              "    };\n",
              "\n",
              "    // Use a chunked sending to avoid message size limits. See b/62115660.\n",
              "    let position = 0;\n",
              "    do {\n",
              "      const length = Math.min(fileData.byteLength - position, MAX_PAYLOAD_SIZE);\n",
              "      const chunk = new Uint8Array(fileData, position, length);\n",
              "      position += length;\n",
              "\n",
              "      const base64 = btoa(String.fromCharCode.apply(null, chunk));\n",
              "      yield {\n",
              "        response: {\n",
              "          action: 'append',\n",
              "          file: file.name,\n",
              "          data: base64,\n",
              "        },\n",
              "      };\n",
              "\n",
              "      let percentDone = fileData.byteLength === 0 ?\n",
              "          100 :\n",
              "          Math.round((position / fileData.byteLength) * 100);\n",
              "      percent.textContent = `${percentDone}% done`;\n",
              "\n",
              "    } while (position < fileData.byteLength);\n",
              "  }\n",
              "\n",
              "  // All done.\n",
              "  yield {\n",
              "    response: {\n",
              "      action: 'complete',\n",
              "    }\n",
              "  };\n",
              "}\n",
              "\n",
              "scope.google = scope.google || {};\n",
              "scope.google.colab = scope.google.colab || {};\n",
              "scope.google.colab._files = {\n",
              "  _uploadFiles,\n",
              "  _uploadFilesContinue,\n",
              "};\n",
              "})(self);\n",
              "</script> "
            ]
          },
          "metadata": {}
        },
        {
          "output_type": "stream",
          "name": "stdout",
          "text": [
            "Saving country_timeseries.csv to country_timeseries.csv\n"
          ]
        }
      ]
    },
    {
      "cell_type": "code",
      "source": [
        "ebola = pd.read_csv('country_timeseries.csv', parse_dates=[0])\n",
        "print(ebola.iloc[:5,:5])\n",
        "print(ebola.iloc[-5:,:5])"
      ],
      "metadata": {
        "colab": {
          "base_uri": "https://localhost:8080/"
        },
        "id": "ssHJILWM5h9v",
        "outputId": "c1618b54-91f2-4208-c017-31fa1ba47d42"
      },
      "execution_count": 18,
      "outputs": [
        {
          "output_type": "stream",
          "name": "stdout",
          "text": [
            "        Date  Day  Cases_Guinea  Cases_Liberia  Cases_SierraLeone\n",
            "0 2015-01-05  289        2776.0            NaN            10030.0\n",
            "1 2015-01-04  288        2775.0            NaN             9780.0\n",
            "2 2015-01-03  287        2769.0         8166.0             9722.0\n",
            "3 2015-01-02  286           NaN         8157.0                NaN\n",
            "4 2014-12-31  284        2730.0         8115.0             9633.0\n",
            "          Date  Day  Cases_Guinea  Cases_Liberia  Cases_SierraLeone\n",
            "117 2014-03-27    5         103.0            8.0                6.0\n",
            "118 2014-03-26    4          86.0            NaN                NaN\n",
            "119 2014-03-25    3          86.0            NaN                NaN\n",
            "120 2014-03-24    2          86.0            NaN                NaN\n",
            "121 2014-03-22    0          49.0            NaN                NaN\n"
          ]
        }
      ]
    },
    {
      "cell_type": "markdown",
      "source": [
        "2) **date_range** 메서드 사용 -> 시간 인덱스 DatetimeIndex 생성"
      ],
      "metadata": {
        "id": "TwAM6GNP_fpv"
      }
    },
    {
      "cell_type": "code",
      "source": [
        "head_range = pd.date_range(start='2014-12-31', end='2015-01-05')\n",
        "print(head_range)"
      ],
      "metadata": {
        "colab": {
          "base_uri": "https://localhost:8080/"
        },
        "id": "FhATsHk-7fye",
        "outputId": "765cc815-e55c-4ff2-8250-a61e016bca1b"
      },
      "execution_count": 19,
      "outputs": [
        {
          "output_type": "stream",
          "name": "stdout",
          "text": [
            "DatetimeIndex(['2014-12-31', '2015-01-01', '2015-01-02', '2015-01-03',\n",
            "               '2015-01-04', '2015-01-05'],\n",
            "              dtype='datetime64[ns]', freq='D')\n"
          ]
        }
      ]
    },
    {
      "cell_type": "markdown",
      "source": [
        "3) 원본 데이터 손상 방지 위해 앞쪽 5개 데이터 추출해 새로운 데이터프레임 만든 것\n",
        "\n",
        "Date 열을 인덱스로 먼저 지정하지 않으면 오류 발생 -> 반드시 Date열을 인덱스로 지정한 뒤 시간 범위를 인덱스로 지정"
      ],
      "metadata": {
        "id": "0uNQUnHB_m1R"
      }
    },
    {
      "cell_type": "code",
      "source": [
        "ebola_5 = ebola.head()\n",
        "ebola_5.index = ebola_5['Date']\n",
        "ebola_5.reindex(head_range) \n",
        "print(ebola_5.iloc[:5,:5])"
      ],
      "metadata": {
        "colab": {
          "base_uri": "https://localhost:8080/"
        },
        "id": "eXkn4kIn78sU",
        "outputId": "3d082a76-c491-44f5-a247-0ed0c0a24fe6"
      },
      "execution_count": 20,
      "outputs": [
        {
          "output_type": "stream",
          "name": "stdout",
          "text": [
            "                 Date  Day  Cases_Guinea  Cases_Liberia  Cases_SierraLeone\n",
            "Date                                                                      \n",
            "2015-01-05 2015-01-05  289        2776.0            NaN            10030.0\n",
            "2015-01-04 2015-01-04  288        2775.0            NaN             9780.0\n",
            "2015-01-03 2015-01-03  287        2769.0         8166.0             9722.0\n",
            "2015-01-02 2015-01-02  286           NaN         8157.0                NaN\n",
            "2014-12-31 2014-12-31  284        2730.0         8115.0             9633.0\n"
          ]
        }
      ]
    },
    {
      "cell_type": "markdown",
      "source": [
        "#### 시간 범위의 주기 설정하기\n",
        "\n",
        "시간 범위를 인덱스로 지정하면 DatetimeIndex 자료형 만들어진다.\n",
        "\n",
        "그 속에 포함된 freq 속성값 지정하면 시간 간격 조절해 DatetimeIndex 만들 수 있다.\n",
        "\n",
        "* freq 속성값으로 사용할 수 있는 시간 주기\n",
        ">* B : 평일만 포함\n",
        ">* C : 사용자가 정의한 평일만 포함\n",
        ">* D : 달력 일자 단위\n",
        ">* W : 주간 단위\n",
        ">* M : 월 마지막 날만 포함\n",
        ">* SM : 15일과 월 마지막 날만 포함\n",
        ">* BM : M주기의 값이 휴일이면 제외하고 평일만 포함\n",
        ">* CBM : BM에 사용자 정의 평일을 적용\n",
        ">* MS : 월 시작일만 포함\n",
        ">* SMS : 월 시작일과 15일만 포함\n",
        ">* BMS : MS 주기의 값이 휴일이면 제외하고 평일만 포함\n",
        ">* CBMS : BMS에 사용자 정의 평일을 적용\n",
        ">* Q : 3,6,9,12월 분기 마지막 날만 포함\n",
        ">* BQ : 3,6,9,12월 분기 마지막 날이 휴일이면 제외하고 평일만 포함\n",
        ">* QS : 3,6,9,12월 분기 시작일만 포함\n",
        ">* BQS : 3,6,9,12월 분기 시작일이 휴일이면 제외하고 평일만 포함\n",
        ">* A : 년의 마지막 날만 포함\n",
        ">* BA : 년의 마지막 날이 휴일이면 제외하고 평일만 포함\n",
        ">* AS : 년의 시작일만 포함\n",
        ">* BAS : 년의 시작일이 휴일이면 제외하고 평일만 포함\n",
        ">* BH : 평일을 시간 단위로 포함(09:00~16:00)\n",
        ">* H : 시간 단위로 포함(00:00~00:00)\n",
        ">* T : 분 단위 포함\n",
        ">* S : 초 단위 포함\n",
        ">* L : 밀리초 단위 포함\n",
        ">* U : 마이크로초 단위 포함\n",
        ">* N : 나노초 단위 포함"
      ],
      "metadata": {
        "id": "_XyXXGA18gyJ"
      }
    },
    {
      "cell_type": "code",
      "source": [
        "print(pd.date_range('2017-01-01','2017-01-07',freq='B'))"
      ],
      "metadata": {
        "colab": {
          "base_uri": "https://localhost:8080/"
        },
        "id": "m2eBtc8PAmDG",
        "outputId": "d590fbff-77c0-428c-d22c-9264958b152c"
      },
      "execution_count": 21,
      "outputs": [
        {
          "output_type": "stream",
          "name": "stdout",
          "text": [
            "DatetimeIndex(['2017-01-02', '2017-01-03', '2017-01-04', '2017-01-05',\n",
            "               '2017-01-06'],\n",
            "              dtype='datetime64[ns]', freq='B')\n"
          ]
        }
      ]
    }
  ]
}