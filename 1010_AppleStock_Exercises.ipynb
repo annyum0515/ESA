{
  "nbformat": 4,
  "nbformat_minor": 0,
  "metadata": {
    "anaconda-cloud": {},
    "kernelspec": {
      "display_name": "Python [default]",
      "language": "python",
      "name": "python2"
    },
    "language_info": {
      "codemirror_mode": {
        "name": "ipython",
        "version": 2
      },
      "file_extension": ".py",
      "mimetype": "text/x-python",
      "name": "python",
      "nbconvert_exporter": "python",
      "pygments_lexer": "ipython2",
      "version": "2.7.12"
    },
    "colab": {
      "provenance": [],
      "collapsed_sections": [],
      "include_colab_link": true
    }
  },
  "cells": [
    {
      "cell_type": "markdown",
      "metadata": {
        "id": "view-in-github",
        "colab_type": "text"
      },
      "source": [
        "<a href=\"https://colab.research.google.com/github/anwishn/ESAA/blob/main/1010_AppleStock_Exercises.ipynb\" target=\"_parent\"><img src=\"https://colab.research.google.com/assets/colab-badge.svg\" alt=\"Open In Colab\"/></a>"
      ]
    },
    {
      "cell_type": "markdown",
      "metadata": {
        "id": "on6xgUECVXIz"
      },
      "source": [
        "# Apple Stock"
      ]
    },
    {
      "cell_type": "markdown",
      "metadata": {
        "id": "yRb05F3RVXJI"
      },
      "source": [
        "### Introduction:\n",
        "\n",
        "We are going to use Apple's stock price.\n",
        "\n",
        "\n",
        "### Step 1. Import the necessary libraries"
      ]
    },
    {
      "cell_type": "code",
      "metadata": {
        "id": "4g8N0RkRVXJN"
      },
      "source": [
        "import pandas as pd\n",
        "import numpy as np"
      ],
      "execution_count": 53,
      "outputs": []
    },
    {
      "cell_type": "markdown",
      "metadata": {
        "id": "PadQE1mnVXJS"
      },
      "source": [
        "### Step 2. Import the dataset from this [address](https://raw.githubusercontent.com/guipsamora/pandas_exercises/master/09_Time_Series/Apple_Stock/appl_1980_2014.csv)"
      ]
    },
    {
      "cell_type": "code",
      "metadata": {
        "collapsed": true,
        "id": "jFE0126tVXJU"
      },
      "source": [
        "data = pd.read_csv('https://raw.githubusercontent.com/guipsamora/pandas_exercises/master/09_Time_Series/Apple_Stock/appl_1980_2014.csv',sep=',')"
      ],
      "execution_count": 54,
      "outputs": []
    },
    {
      "cell_type": "markdown",
      "metadata": {
        "id": "0szUfJRXVXJY"
      },
      "source": [
        "### Step 3. Assign it to a variable apple"
      ]
    },
    {
      "cell_type": "code",
      "metadata": {
        "id": "-OGkJEZNVXJa"
      },
      "source": [
        "apple = pd.read_csv('https://raw.githubusercontent.com/guipsamora/pandas_exercises/master/09_Time_Series/Apple_Stock/appl_1980_2014.csv',sep=',')"
      ],
      "execution_count": 55,
      "outputs": []
    },
    {
      "cell_type": "markdown",
      "metadata": {
        "id": "TBxUymvFVXJc"
      },
      "source": [
        "### Step 4.  Check out the type of the columns"
      ]
    },
    {
      "cell_type": "code",
      "metadata": {
        "id": "hh_Qct_DVXJg",
        "colab": {
          "base_uri": "https://localhost:8080/"
        },
        "outputId": "edbb0501-5f70-4542-efd6-4176e14bcf20"
      },
      "source": [
        "apple.info()"
      ],
      "execution_count": 56,
      "outputs": [
        {
          "output_type": "stream",
          "name": "stdout",
          "text": [
            "<class 'pandas.core.frame.DataFrame'>\n",
            "RangeIndex: 8465 entries, 0 to 8464\n",
            "Data columns (total 7 columns):\n",
            " #   Column     Non-Null Count  Dtype  \n",
            "---  ------     --------------  -----  \n",
            " 0   Date       8465 non-null   object \n",
            " 1   Open       8465 non-null   float64\n",
            " 2   High       8465 non-null   float64\n",
            " 3   Low        8465 non-null   float64\n",
            " 4   Close      8465 non-null   float64\n",
            " 5   Volume     8465 non-null   int64  \n",
            " 6   Adj Close  8465 non-null   float64\n",
            "dtypes: float64(5), int64(1), object(1)\n",
            "memory usage: 463.1+ KB\n"
          ]
        }
      ]
    },
    {
      "cell_type": "markdown",
      "metadata": {
        "id": "gSo835mZVXJj"
      },
      "source": [
        "### Step 5. Transform the Date column as a datetime type"
      ]
    },
    {
      "cell_type": "code",
      "metadata": {
        "id": "TZHt_GTCVXJm",
        "colab": {
          "base_uri": "https://localhost:8080/"
        },
        "outputId": "0b7f2f0b-dd9c-4969-9a1e-56e719304ec0"
      },
      "source": [
        "apple = pd.read_csv('https://raw.githubusercontent.com/guipsamora/pandas_exercises/master/09_Time_Series/Apple_Stock/appl_1980_2014.csv',sep=',',parse_dates=[0])\n",
        "print(apple.info())"
      ],
      "execution_count": 57,
      "outputs": [
        {
          "output_type": "stream",
          "name": "stdout",
          "text": [
            "<class 'pandas.core.frame.DataFrame'>\n",
            "RangeIndex: 8465 entries, 0 to 8464\n",
            "Data columns (total 7 columns):\n",
            " #   Column     Non-Null Count  Dtype         \n",
            "---  ------     --------------  -----         \n",
            " 0   Date       8465 non-null   datetime64[ns]\n",
            " 1   Open       8465 non-null   float64       \n",
            " 2   High       8465 non-null   float64       \n",
            " 3   Low        8465 non-null   float64       \n",
            " 4   Close      8465 non-null   float64       \n",
            " 5   Volume     8465 non-null   int64         \n",
            " 6   Adj Close  8465 non-null   float64       \n",
            "dtypes: datetime64[ns](1), float64(5), int64(1)\n",
            "memory usage: 463.1 KB\n",
            "None\n"
          ]
        }
      ]
    },
    {
      "cell_type": "markdown",
      "metadata": {
        "id": "KnpuOPx1VXJn"
      },
      "source": [
        "### Step 6.  Set the date as the index"
      ]
    },
    {
      "cell_type": "code",
      "metadata": {
        "id": "0w3vVnNTVXJp",
        "colab": {
          "base_uri": "https://localhost:8080/"
        },
        "outputId": "bd94b214-dafa-4ae4-8c18-2afb97fdc507"
      },
      "source": [
        "apple.index = apple['Date']\n",
        "print(apple.index)"
      ],
      "execution_count": 58,
      "outputs": [
        {
          "output_type": "stream",
          "name": "stdout",
          "text": [
            "DatetimeIndex(['2014-07-08', '2014-07-07', '2014-07-03', '2014-07-02',\n",
            "               '2014-07-01', '2014-06-30', '2014-06-27', '2014-06-26',\n",
            "               '2014-06-25', '2014-06-24',\n",
            "               ...\n",
            "               '1980-12-26', '1980-12-24', '1980-12-23', '1980-12-22',\n",
            "               '1980-12-19', '1980-12-18', '1980-12-17', '1980-12-16',\n",
            "               '1980-12-15', '1980-12-12'],\n",
            "              dtype='datetime64[ns]', name='Date', length=8465, freq=None)\n"
          ]
        }
      ]
    },
    {
      "cell_type": "markdown",
      "metadata": {
        "id": "gTAynxAuVXJq"
      },
      "source": [
        "### Step 7.  Is there any duplicate dates?"
      ]
    },
    {
      "cell_type": "code",
      "metadata": {
        "id": "X7CMs_b0VXJs",
        "colab": {
          "base_uri": "https://localhost:8080/"
        },
        "outputId": "e34ab712-34be-4b79-ca13-b82f1734af89"
      },
      "source": [
        "apple.index[apple.duplicated('Date')]"
      ],
      "execution_count": 59,
      "outputs": [
        {
          "output_type": "execute_result",
          "data": {
            "text/plain": [
              "DatetimeIndex([], dtype='datetime64[ns]', name='Date', freq=None)"
            ]
          },
          "metadata": {},
          "execution_count": 59
        }
      ]
    },
    {
      "cell_type": "code",
      "source": [
        "apple['Date'].is_unique"
      ],
      "metadata": {
        "colab": {
          "base_uri": "https://localhost:8080/"
        },
        "id": "3iPyn07sTvqR",
        "outputId": "54f62f2b-a544-4353-f8d1-05c5c6b2f8ca"
      },
      "execution_count": 60,
      "outputs": [
        {
          "output_type": "execute_result",
          "data": {
            "text/plain": [
              "True"
            ]
          },
          "metadata": {},
          "execution_count": 60
        }
      ]
    },
    {
      "cell_type": "markdown",
      "metadata": {
        "id": "hwzw_ul_VXJt"
      },
      "source": [
        "### Step 8.  Ops...it seems the index is from the most recent date. Make the first entry the oldest date."
      ]
    },
    {
      "cell_type": "code",
      "metadata": {
        "id": "4-JjpkhjVXJv",
        "colab": {
          "base_uri": "https://localhost:8080/"
        },
        "outputId": "f116aa5a-87fb-445a-9af3-c0be5ec4b350"
      },
      "source": [
        "apple.index = apple.index.sort_values()\n",
        "print(apple.index)"
      ],
      "execution_count": 61,
      "outputs": [
        {
          "output_type": "stream",
          "name": "stdout",
          "text": [
            "DatetimeIndex(['1980-12-12', '1980-12-15', '1980-12-16', '1980-12-17',\n",
            "               '1980-12-18', '1980-12-19', '1980-12-22', '1980-12-23',\n",
            "               '1980-12-24', '1980-12-26',\n",
            "               ...\n",
            "               '2014-06-24', '2014-06-25', '2014-06-26', '2014-06-27',\n",
            "               '2014-06-30', '2014-07-01', '2014-07-02', '2014-07-03',\n",
            "               '2014-07-07', '2014-07-08'],\n",
            "              dtype='datetime64[ns]', name='Date', length=8465, freq=None)\n"
          ]
        }
      ]
    },
    {
      "cell_type": "code",
      "source": [
        "apple.sort_index\n",
        "print(apple.index)"
      ],
      "metadata": {
        "colab": {
          "base_uri": "https://localhost:8080/"
        },
        "id": "TEKNJI50cPs2",
        "outputId": "9c33f11b-7884-49b1-b7da-ee66079d6803"
      },
      "execution_count": 62,
      "outputs": [
        {
          "output_type": "stream",
          "name": "stdout",
          "text": [
            "DatetimeIndex(['1980-12-12', '1980-12-15', '1980-12-16', '1980-12-17',\n",
            "               '1980-12-18', '1980-12-19', '1980-12-22', '1980-12-23',\n",
            "               '1980-12-24', '1980-12-26',\n",
            "               ...\n",
            "               '2014-06-24', '2014-06-25', '2014-06-26', '2014-06-27',\n",
            "               '2014-06-30', '2014-07-01', '2014-07-02', '2014-07-03',\n",
            "               '2014-07-07', '2014-07-08'],\n",
            "              dtype='datetime64[ns]', name='Date', length=8465, freq=None)\n"
          ]
        }
      ]
    },
    {
      "cell_type": "markdown",
      "metadata": {
        "id": "eRY2W2hfVXJv"
      },
      "source": [
        "### Step 9. Get the last business day of each month"
      ]
    },
    {
      "cell_type": "code",
      "metadata": {
        "id": "APU643vIVXJx",
        "colab": {
          "base_uri": "https://localhost:8080/"
        },
        "outputId": "097e097f-b6d4-4038-9d6d-d8aa37d96d72"
      },
      "source": [
        "# 이렇게 하면 이 기간 안에 마지막 비즈니스 날짜만 추출돼 # 오류?\n",
        "print(pd.date_range('1980-12-12','2014-07-08', freq='BM'))\n",
        "print(pd.date_range(start=apple.index.min(), end=apple.index.max(), freq='BM'))"
      ],
      "execution_count": 63,
      "outputs": [
        {
          "output_type": "stream",
          "name": "stdout",
          "text": [
            "DatetimeIndex(['1980-12-31', '1981-01-30', '1981-02-27', '1981-03-31',\n",
            "               '1981-04-30', '1981-05-29', '1981-06-30', '1981-07-31',\n",
            "               '1981-08-31', '1981-09-30',\n",
            "               ...\n",
            "               '2013-09-30', '2013-10-31', '2013-11-29', '2013-12-31',\n",
            "               '2014-01-31', '2014-02-28', '2014-03-31', '2014-04-30',\n",
            "               '2014-05-30', '2014-06-30'],\n",
            "              dtype='datetime64[ns]', length=403, freq='BM')\n",
            "DatetimeIndex(['1980-12-31', '1981-01-30', '1981-02-27', '1981-03-31',\n",
            "               '1981-04-30', '1981-05-29', '1981-06-30', '1981-07-31',\n",
            "               '1981-08-31', '1981-09-30',\n",
            "               ...\n",
            "               '2013-09-30', '2013-10-31', '2013-11-29', '2013-12-31',\n",
            "               '2014-01-31', '2014-02-28', '2014-03-31', '2014-04-30',\n",
            "               '2014-05-30', '2014-06-30'],\n",
            "              dtype='datetime64[ns]', length=403, freq='BM')\n"
          ]
        }
      ]
    },
    {
      "cell_type": "code",
      "source": [
        "apple['year'] = apple.Date.dt.year\n",
        "apple['month'] = apple.Date.dt.month\n",
        "apple.head()"
      ],
      "metadata": {
        "colab": {
          "base_uri": "https://localhost:8080/",
          "height": 237
        },
        "id": "1Apb6TfqeLtW",
        "outputId": "a702809f-9eb9-494b-c5f9-a3c678d0d12a"
      },
      "execution_count": 64,
      "outputs": [
        {
          "output_type": "execute_result",
          "data": {
            "text/plain": [
              "                 Date   Open   High    Low  Close    Volume  Adj Close  year  \\\n",
              "Date                                                                           \n",
              "1980-12-12 2014-07-08  96.27  96.80  93.92  95.35  65130000      95.35  2014   \n",
              "1980-12-15 2014-07-07  94.14  95.99  94.10  95.97  56305400      95.97  2014   \n",
              "1980-12-16 2014-07-03  93.67  94.10  93.20  94.03  22891800      94.03  2014   \n",
              "1980-12-17 2014-07-02  93.87  94.06  93.09  93.48  28420900      93.48  2014   \n",
              "1980-12-18 2014-07-01  93.52  94.07  93.13  93.52  38170200      93.52  2014   \n",
              "\n",
              "            month  \n",
              "Date               \n",
              "1980-12-12      7  \n",
              "1980-12-15      7  \n",
              "1980-12-16      7  \n",
              "1980-12-17      7  \n",
              "1980-12-18      7  "
            ],
            "text/html": [
              "\n",
              "  <div id=\"df-a159c4e9-5898-4a1e-a887-7deabe92dcde\">\n",
              "    <div class=\"colab-df-container\">\n",
              "      <div>\n",
              "<style scoped>\n",
              "    .dataframe tbody tr th:only-of-type {\n",
              "        vertical-align: middle;\n",
              "    }\n",
              "\n",
              "    .dataframe tbody tr th {\n",
              "        vertical-align: top;\n",
              "    }\n",
              "\n",
              "    .dataframe thead th {\n",
              "        text-align: right;\n",
              "    }\n",
              "</style>\n",
              "<table border=\"1\" class=\"dataframe\">\n",
              "  <thead>\n",
              "    <tr style=\"text-align: right;\">\n",
              "      <th></th>\n",
              "      <th>Date</th>\n",
              "      <th>Open</th>\n",
              "      <th>High</th>\n",
              "      <th>Low</th>\n",
              "      <th>Close</th>\n",
              "      <th>Volume</th>\n",
              "      <th>Adj Close</th>\n",
              "      <th>year</th>\n",
              "      <th>month</th>\n",
              "    </tr>\n",
              "    <tr>\n",
              "      <th>Date</th>\n",
              "      <th></th>\n",
              "      <th></th>\n",
              "      <th></th>\n",
              "      <th></th>\n",
              "      <th></th>\n",
              "      <th></th>\n",
              "      <th></th>\n",
              "      <th></th>\n",
              "      <th></th>\n",
              "    </tr>\n",
              "  </thead>\n",
              "  <tbody>\n",
              "    <tr>\n",
              "      <th>1980-12-12</th>\n",
              "      <td>2014-07-08</td>\n",
              "      <td>96.27</td>\n",
              "      <td>96.80</td>\n",
              "      <td>93.92</td>\n",
              "      <td>95.35</td>\n",
              "      <td>65130000</td>\n",
              "      <td>95.35</td>\n",
              "      <td>2014</td>\n",
              "      <td>7</td>\n",
              "    </tr>\n",
              "    <tr>\n",
              "      <th>1980-12-15</th>\n",
              "      <td>2014-07-07</td>\n",
              "      <td>94.14</td>\n",
              "      <td>95.99</td>\n",
              "      <td>94.10</td>\n",
              "      <td>95.97</td>\n",
              "      <td>56305400</td>\n",
              "      <td>95.97</td>\n",
              "      <td>2014</td>\n",
              "      <td>7</td>\n",
              "    </tr>\n",
              "    <tr>\n",
              "      <th>1980-12-16</th>\n",
              "      <td>2014-07-03</td>\n",
              "      <td>93.67</td>\n",
              "      <td>94.10</td>\n",
              "      <td>93.20</td>\n",
              "      <td>94.03</td>\n",
              "      <td>22891800</td>\n",
              "      <td>94.03</td>\n",
              "      <td>2014</td>\n",
              "      <td>7</td>\n",
              "    </tr>\n",
              "    <tr>\n",
              "      <th>1980-12-17</th>\n",
              "      <td>2014-07-02</td>\n",
              "      <td>93.87</td>\n",
              "      <td>94.06</td>\n",
              "      <td>93.09</td>\n",
              "      <td>93.48</td>\n",
              "      <td>28420900</td>\n",
              "      <td>93.48</td>\n",
              "      <td>2014</td>\n",
              "      <td>7</td>\n",
              "    </tr>\n",
              "    <tr>\n",
              "      <th>1980-12-18</th>\n",
              "      <td>2014-07-01</td>\n",
              "      <td>93.52</td>\n",
              "      <td>94.07</td>\n",
              "      <td>93.13</td>\n",
              "      <td>93.52</td>\n",
              "      <td>38170200</td>\n",
              "      <td>93.52</td>\n",
              "      <td>2014</td>\n",
              "      <td>7</td>\n",
              "    </tr>\n",
              "  </tbody>\n",
              "</table>\n",
              "</div>\n",
              "      <button class=\"colab-df-convert\" onclick=\"convertToInteractive('df-a159c4e9-5898-4a1e-a887-7deabe92dcde')\"\n",
              "              title=\"Convert this dataframe to an interactive table.\"\n",
              "              style=\"display:none;\">\n",
              "        \n",
              "  <svg xmlns=\"http://www.w3.org/2000/svg\" height=\"24px\"viewBox=\"0 0 24 24\"\n",
              "       width=\"24px\">\n",
              "    <path d=\"M0 0h24v24H0V0z\" fill=\"none\"/>\n",
              "    <path d=\"M18.56 5.44l.94 2.06.94-2.06 2.06-.94-2.06-.94-.94-2.06-.94 2.06-2.06.94zm-11 1L8.5 8.5l.94-2.06 2.06-.94-2.06-.94L8.5 2.5l-.94 2.06-2.06.94zm10 10l.94 2.06.94-2.06 2.06-.94-2.06-.94-.94-2.06-.94 2.06-2.06.94z\"/><path d=\"M17.41 7.96l-1.37-1.37c-.4-.4-.92-.59-1.43-.59-.52 0-1.04.2-1.43.59L10.3 9.45l-7.72 7.72c-.78.78-.78 2.05 0 2.83L4 21.41c.39.39.9.59 1.41.59.51 0 1.02-.2 1.41-.59l7.78-7.78 2.81-2.81c.8-.78.8-2.07 0-2.86zM5.41 20L4 18.59l7.72-7.72 1.47 1.35L5.41 20z\"/>\n",
              "  </svg>\n",
              "      </button>\n",
              "      \n",
              "  <style>\n",
              "    .colab-df-container {\n",
              "      display:flex;\n",
              "      flex-wrap:wrap;\n",
              "      gap: 12px;\n",
              "    }\n",
              "\n",
              "    .colab-df-convert {\n",
              "      background-color: #E8F0FE;\n",
              "      border: none;\n",
              "      border-radius: 50%;\n",
              "      cursor: pointer;\n",
              "      display: none;\n",
              "      fill: #1967D2;\n",
              "      height: 32px;\n",
              "      padding: 0 0 0 0;\n",
              "      width: 32px;\n",
              "    }\n",
              "\n",
              "    .colab-df-convert:hover {\n",
              "      background-color: #E2EBFA;\n",
              "      box-shadow: 0px 1px 2px rgba(60, 64, 67, 0.3), 0px 1px 3px 1px rgba(60, 64, 67, 0.15);\n",
              "      fill: #174EA6;\n",
              "    }\n",
              "\n",
              "    [theme=dark] .colab-df-convert {\n",
              "      background-color: #3B4455;\n",
              "      fill: #D2E3FC;\n",
              "    }\n",
              "\n",
              "    [theme=dark] .colab-df-convert:hover {\n",
              "      background-color: #434B5C;\n",
              "      box-shadow: 0px 1px 3px 1px rgba(0, 0, 0, 0.15);\n",
              "      filter: drop-shadow(0px 1px 2px rgba(0, 0, 0, 0.3));\n",
              "      fill: #FFFFFF;\n",
              "    }\n",
              "  </style>\n",
              "\n",
              "      <script>\n",
              "        const buttonEl =\n",
              "          document.querySelector('#df-a159c4e9-5898-4a1e-a887-7deabe92dcde button.colab-df-convert');\n",
              "        buttonEl.style.display =\n",
              "          google.colab.kernel.accessAllowed ? 'block' : 'none';\n",
              "\n",
              "        async function convertToInteractive(key) {\n",
              "          const element = document.querySelector('#df-a159c4e9-5898-4a1e-a887-7deabe92dcde');\n",
              "          const dataTable =\n",
              "            await google.colab.kernel.invokeFunction('convertToInteractive',\n",
              "                                                     [key], {});\n",
              "          if (!dataTable) return;\n",
              "\n",
              "          const docLinkHtml = 'Like what you see? Visit the ' +\n",
              "            '<a target=\"_blank\" href=https://colab.research.google.com/notebooks/data_table.ipynb>data table notebook</a>'\n",
              "            + ' to learn more about interactive tables.';\n",
              "          element.innerHTML = '';\n",
              "          dataTable['output_type'] = 'display_data';\n",
              "          await google.colab.output.renderOutput(dataTable, element);\n",
              "          const docLink = document.createElement('div');\n",
              "          docLink.innerHTML = docLinkHtml;\n",
              "          element.appendChild(docLink);\n",
              "        }\n",
              "      </script>\n",
              "    </div>\n",
              "  </div>\n",
              "  "
            ]
          },
          "metadata": {},
          "execution_count": 64
        }
      ]
    },
    {
      "cell_type": "code",
      "source": [
        "last_month = apple.drop_duplicates(subset =['year','month'], keep='first')\n",
        "last_month"
      ],
      "metadata": {
        "colab": {
          "base_uri": "https://localhost:8080/",
          "height": 455
        },
        "id": "CmwfJfUQeNb0",
        "outputId": "377a2b7b-b513-486a-cc36-6d5eeb552aac"
      },
      "execution_count": 74,
      "outputs": [
        {
          "output_type": "execute_result",
          "data": {
            "text/plain": [
              "                 Date    Open    High     Low   Close     Volume  Adj Close  \\\n",
              "ref_date                                                                      \n",
              "12261 days 2014-07-08   96.27   96.80   93.92   95.35   65130000      95.35   \n",
              "12253 days 2014-06-30   92.10   93.73   92.09   92.93   49482300      92.93   \n",
              "12222 days 2014-05-30  637.98  644.17  628.90  633.00  141005200      90.43   \n",
              "12192 days 2014-04-30  592.64  599.43  589.80  590.09  114160200      83.83   \n",
              "12162 days 2014-03-31  539.23  540.81  535.93  536.74   42167300      76.25   \n",
              "...               ...     ...     ...     ...     ...        ...        ...   \n",
              "139 days   1981-04-30   28.38   28.62   28.38   28.38    3152800       0.44   \n",
              "109 days   1981-03-31   24.75   24.75   24.50   24.50    3998400       0.38   \n",
              "77 days    1981-02-27   26.50   26.75   26.50   26.50    3690400       0.41   \n",
              "49 days    1981-01-30   28.50   28.50   28.25   28.25   11547200       0.44   \n",
              "19 days    1980-12-31   34.25   34.25   34.13   34.13    8937600       0.53   \n",
              "\n",
              "            year  month   ref_date  \n",
              "ref_date                            \n",
              "12261 days  2014      7 12261 days  \n",
              "12253 days  2014      6 12253 days  \n",
              "12222 days  2014      5 12222 days  \n",
              "12192 days  2014      4 12192 days  \n",
              "12162 days  2014      3 12162 days  \n",
              "...          ...    ...        ...  \n",
              "139 days    1981      4   139 days  \n",
              "109 days    1981      3   109 days  \n",
              "77 days     1981      2    77 days  \n",
              "49 days     1981      1    49 days  \n",
              "19 days     1980     12    19 days  \n",
              "\n",
              "[404 rows x 10 columns]"
            ],
            "text/html": [
              "\n",
              "  <div id=\"df-c729d162-408f-41e7-a398-13bcb8d23e5d\">\n",
              "    <div class=\"colab-df-container\">\n",
              "      <div>\n",
              "<style scoped>\n",
              "    .dataframe tbody tr th:only-of-type {\n",
              "        vertical-align: middle;\n",
              "    }\n",
              "\n",
              "    .dataframe tbody tr th {\n",
              "        vertical-align: top;\n",
              "    }\n",
              "\n",
              "    .dataframe thead th {\n",
              "        text-align: right;\n",
              "    }\n",
              "</style>\n",
              "<table border=\"1\" class=\"dataframe\">\n",
              "  <thead>\n",
              "    <tr style=\"text-align: right;\">\n",
              "      <th></th>\n",
              "      <th>Date</th>\n",
              "      <th>Open</th>\n",
              "      <th>High</th>\n",
              "      <th>Low</th>\n",
              "      <th>Close</th>\n",
              "      <th>Volume</th>\n",
              "      <th>Adj Close</th>\n",
              "      <th>year</th>\n",
              "      <th>month</th>\n",
              "      <th>ref_date</th>\n",
              "    </tr>\n",
              "    <tr>\n",
              "      <th>ref_date</th>\n",
              "      <th></th>\n",
              "      <th></th>\n",
              "      <th></th>\n",
              "      <th></th>\n",
              "      <th></th>\n",
              "      <th></th>\n",
              "      <th></th>\n",
              "      <th></th>\n",
              "      <th></th>\n",
              "      <th></th>\n",
              "    </tr>\n",
              "  </thead>\n",
              "  <tbody>\n",
              "    <tr>\n",
              "      <th>12261 days</th>\n",
              "      <td>2014-07-08</td>\n",
              "      <td>96.27</td>\n",
              "      <td>96.80</td>\n",
              "      <td>93.92</td>\n",
              "      <td>95.35</td>\n",
              "      <td>65130000</td>\n",
              "      <td>95.35</td>\n",
              "      <td>2014</td>\n",
              "      <td>7</td>\n",
              "      <td>12261 days</td>\n",
              "    </tr>\n",
              "    <tr>\n",
              "      <th>12253 days</th>\n",
              "      <td>2014-06-30</td>\n",
              "      <td>92.10</td>\n",
              "      <td>93.73</td>\n",
              "      <td>92.09</td>\n",
              "      <td>92.93</td>\n",
              "      <td>49482300</td>\n",
              "      <td>92.93</td>\n",
              "      <td>2014</td>\n",
              "      <td>6</td>\n",
              "      <td>12253 days</td>\n",
              "    </tr>\n",
              "    <tr>\n",
              "      <th>12222 days</th>\n",
              "      <td>2014-05-30</td>\n",
              "      <td>637.98</td>\n",
              "      <td>644.17</td>\n",
              "      <td>628.90</td>\n",
              "      <td>633.00</td>\n",
              "      <td>141005200</td>\n",
              "      <td>90.43</td>\n",
              "      <td>2014</td>\n",
              "      <td>5</td>\n",
              "      <td>12222 days</td>\n",
              "    </tr>\n",
              "    <tr>\n",
              "      <th>12192 days</th>\n",
              "      <td>2014-04-30</td>\n",
              "      <td>592.64</td>\n",
              "      <td>599.43</td>\n",
              "      <td>589.80</td>\n",
              "      <td>590.09</td>\n",
              "      <td>114160200</td>\n",
              "      <td>83.83</td>\n",
              "      <td>2014</td>\n",
              "      <td>4</td>\n",
              "      <td>12192 days</td>\n",
              "    </tr>\n",
              "    <tr>\n",
              "      <th>12162 days</th>\n",
              "      <td>2014-03-31</td>\n",
              "      <td>539.23</td>\n",
              "      <td>540.81</td>\n",
              "      <td>535.93</td>\n",
              "      <td>536.74</td>\n",
              "      <td>42167300</td>\n",
              "      <td>76.25</td>\n",
              "      <td>2014</td>\n",
              "      <td>3</td>\n",
              "      <td>12162 days</td>\n",
              "    </tr>\n",
              "    <tr>\n",
              "      <th>...</th>\n",
              "      <td>...</td>\n",
              "      <td>...</td>\n",
              "      <td>...</td>\n",
              "      <td>...</td>\n",
              "      <td>...</td>\n",
              "      <td>...</td>\n",
              "      <td>...</td>\n",
              "      <td>...</td>\n",
              "      <td>...</td>\n",
              "      <td>...</td>\n",
              "    </tr>\n",
              "    <tr>\n",
              "      <th>139 days</th>\n",
              "      <td>1981-04-30</td>\n",
              "      <td>28.38</td>\n",
              "      <td>28.62</td>\n",
              "      <td>28.38</td>\n",
              "      <td>28.38</td>\n",
              "      <td>3152800</td>\n",
              "      <td>0.44</td>\n",
              "      <td>1981</td>\n",
              "      <td>4</td>\n",
              "      <td>139 days</td>\n",
              "    </tr>\n",
              "    <tr>\n",
              "      <th>109 days</th>\n",
              "      <td>1981-03-31</td>\n",
              "      <td>24.75</td>\n",
              "      <td>24.75</td>\n",
              "      <td>24.50</td>\n",
              "      <td>24.50</td>\n",
              "      <td>3998400</td>\n",
              "      <td>0.38</td>\n",
              "      <td>1981</td>\n",
              "      <td>3</td>\n",
              "      <td>109 days</td>\n",
              "    </tr>\n",
              "    <tr>\n",
              "      <th>77 days</th>\n",
              "      <td>1981-02-27</td>\n",
              "      <td>26.50</td>\n",
              "      <td>26.75</td>\n",
              "      <td>26.50</td>\n",
              "      <td>26.50</td>\n",
              "      <td>3690400</td>\n",
              "      <td>0.41</td>\n",
              "      <td>1981</td>\n",
              "      <td>2</td>\n",
              "      <td>77 days</td>\n",
              "    </tr>\n",
              "    <tr>\n",
              "      <th>49 days</th>\n",
              "      <td>1981-01-30</td>\n",
              "      <td>28.50</td>\n",
              "      <td>28.50</td>\n",
              "      <td>28.25</td>\n",
              "      <td>28.25</td>\n",
              "      <td>11547200</td>\n",
              "      <td>0.44</td>\n",
              "      <td>1981</td>\n",
              "      <td>1</td>\n",
              "      <td>49 days</td>\n",
              "    </tr>\n",
              "    <tr>\n",
              "      <th>19 days</th>\n",
              "      <td>1980-12-31</td>\n",
              "      <td>34.25</td>\n",
              "      <td>34.25</td>\n",
              "      <td>34.13</td>\n",
              "      <td>34.13</td>\n",
              "      <td>8937600</td>\n",
              "      <td>0.53</td>\n",
              "      <td>1980</td>\n",
              "      <td>12</td>\n",
              "      <td>19 days</td>\n",
              "    </tr>\n",
              "  </tbody>\n",
              "</table>\n",
              "<p>404 rows × 10 columns</p>\n",
              "</div>\n",
              "      <button class=\"colab-df-convert\" onclick=\"convertToInteractive('df-c729d162-408f-41e7-a398-13bcb8d23e5d')\"\n",
              "              title=\"Convert this dataframe to an interactive table.\"\n",
              "              style=\"display:none;\">\n",
              "        \n",
              "  <svg xmlns=\"http://www.w3.org/2000/svg\" height=\"24px\"viewBox=\"0 0 24 24\"\n",
              "       width=\"24px\">\n",
              "    <path d=\"M0 0h24v24H0V0z\" fill=\"none\"/>\n",
              "    <path d=\"M18.56 5.44l.94 2.06.94-2.06 2.06-.94-2.06-.94-.94-2.06-.94 2.06-2.06.94zm-11 1L8.5 8.5l.94-2.06 2.06-.94-2.06-.94L8.5 2.5l-.94 2.06-2.06.94zm10 10l.94 2.06.94-2.06 2.06-.94-2.06-.94-.94-2.06-.94 2.06-2.06.94z\"/><path d=\"M17.41 7.96l-1.37-1.37c-.4-.4-.92-.59-1.43-.59-.52 0-1.04.2-1.43.59L10.3 9.45l-7.72 7.72c-.78.78-.78 2.05 0 2.83L4 21.41c.39.39.9.59 1.41.59.51 0 1.02-.2 1.41-.59l7.78-7.78 2.81-2.81c.8-.78.8-2.07 0-2.86zM5.41 20L4 18.59l7.72-7.72 1.47 1.35L5.41 20z\"/>\n",
              "  </svg>\n",
              "      </button>\n",
              "      \n",
              "  <style>\n",
              "    .colab-df-container {\n",
              "      display:flex;\n",
              "      flex-wrap:wrap;\n",
              "      gap: 12px;\n",
              "    }\n",
              "\n",
              "    .colab-df-convert {\n",
              "      background-color: #E8F0FE;\n",
              "      border: none;\n",
              "      border-radius: 50%;\n",
              "      cursor: pointer;\n",
              "      display: none;\n",
              "      fill: #1967D2;\n",
              "      height: 32px;\n",
              "      padding: 0 0 0 0;\n",
              "      width: 32px;\n",
              "    }\n",
              "\n",
              "    .colab-df-convert:hover {\n",
              "      background-color: #E2EBFA;\n",
              "      box-shadow: 0px 1px 2px rgba(60, 64, 67, 0.3), 0px 1px 3px 1px rgba(60, 64, 67, 0.15);\n",
              "      fill: #174EA6;\n",
              "    }\n",
              "\n",
              "    [theme=dark] .colab-df-convert {\n",
              "      background-color: #3B4455;\n",
              "      fill: #D2E3FC;\n",
              "    }\n",
              "\n",
              "    [theme=dark] .colab-df-convert:hover {\n",
              "      background-color: #434B5C;\n",
              "      box-shadow: 0px 1px 3px 1px rgba(0, 0, 0, 0.15);\n",
              "      filter: drop-shadow(0px 1px 2px rgba(0, 0, 0, 0.3));\n",
              "      fill: #FFFFFF;\n",
              "    }\n",
              "  </style>\n",
              "\n",
              "      <script>\n",
              "        const buttonEl =\n",
              "          document.querySelector('#df-c729d162-408f-41e7-a398-13bcb8d23e5d button.colab-df-convert');\n",
              "        buttonEl.style.display =\n",
              "          google.colab.kernel.accessAllowed ? 'block' : 'none';\n",
              "\n",
              "        async function convertToInteractive(key) {\n",
              "          const element = document.querySelector('#df-c729d162-408f-41e7-a398-13bcb8d23e5d');\n",
              "          const dataTable =\n",
              "            await google.colab.kernel.invokeFunction('convertToInteractive',\n",
              "                                                     [key], {});\n",
              "          if (!dataTable) return;\n",
              "\n",
              "          const docLinkHtml = 'Like what you see? Visit the ' +\n",
              "            '<a target=\"_blank\" href=https://colab.research.google.com/notebooks/data_table.ipynb>data table notebook</a>'\n",
              "            + ' to learn more about interactive tables.';\n",
              "          element.innerHTML = '';\n",
              "          dataTable['output_type'] = 'display_data';\n",
              "          await google.colab.output.renderOutput(dataTable, element);\n",
              "          const docLink = document.createElement('div');\n",
              "          docLink.innerHTML = docLinkHtml;\n",
              "          element.appendChild(docLink);\n",
              "        }\n",
              "      </script>\n",
              "    </div>\n",
              "  </div>\n",
              "  "
            ]
          },
          "metadata": {},
          "execution_count": 74
        }
      ]
    },
    {
      "cell_type": "markdown",
      "metadata": {
        "id": "a9O6hmadVXJy"
      },
      "source": [
        "### Step 10.  What is the difference in days between the first day and the oldest"
      ]
    },
    {
      "cell_type": "code",
      "metadata": {
        "id": "HMGS16w9VXJy",
        "colab": {
          "base_uri": "https://localhost:8080/"
        },
        "outputId": "0da7901b-b269-4216-d563-8975236c4c0e"
      },
      "source": [
        "diff1 = apple.index[0]-apple.index[-1]\n",
        "print(diff1)\n",
        "\n",
        "diff2 = apple.index[-1]-apple.index[0]\n",
        "print(diff2)"
      ],
      "execution_count": 66,
      "outputs": [
        {
          "output_type": "stream",
          "name": "stdout",
          "text": [
            "-12261 days +00:00:00\n",
            "12261 days 00:00:00\n"
          ]
        }
      ]
    },
    {
      "cell_type": "markdown",
      "metadata": {
        "id": "Ey0zVGV5VXJz"
      },
      "source": [
        "### Step 11.  How many months in the data we have?"
      ]
    },
    {
      "cell_type": "code",
      "metadata": {
        "id": "Pxkdp6j-VXJz",
        "colab": {
          "base_uri": "https://localhost:8080/"
        },
        "outputId": "ea4f60e8-b63d-4d89-b962-c7faa8097900"
      },
      "source": [
        "len(head_range)"
      ],
      "execution_count": 67,
      "outputs": [
        {
          "output_type": "execute_result",
          "data": {
            "text/plain": [
              "403"
            ]
          },
          "metadata": {},
          "execution_count": 67
        }
      ]
    },
    {
      "cell_type": "markdown",
      "metadata": {
        "id": "zXIBNkMFVXJ0"
      },
      "source": [
        "### Step 12. Plot the 'Adj Close' value. Set the size of the figure to 13.5 x 9 inches"
      ]
    },
    {
      "cell_type": "code",
      "metadata": {
        "id": "bvsp15_IVXJ1",
        "colab": {
          "base_uri": "https://localhost:8080/",
          "height": 556
        },
        "outputId": "610fa7d8-ea25-4289-920e-fea0a7dd36fa"
      },
      "source": [
        "%matplotlib inline\n",
        "import matplotlib.pyplot as plt\n",
        "\n",
        "fig = plt.figure(figsize=(13.5,9))\n",
        "axes1 = fig.add_subplot(1,1,1)\n",
        "axes1.plot(apple['Adj Close'])"
      ],
      "execution_count": 68,
      "outputs": [
        {
          "output_type": "execute_result",
          "data": {
            "text/plain": [
              "[<matplotlib.lines.Line2D at 0x7fd158dd4b50>]"
            ]
          },
          "metadata": {},
          "execution_count": 68
        },
        {
          "output_type": "display_data",
          "data": {
            "text/plain": [
              "<Figure size 972x648 with 1 Axes>"
            ],
            "image/png": "[encoded data removed]"
          },
          "metadata": {
            "needs_background": "light"
          }
        }
      ]
    },
    {
      "cell_type": "markdown",
      "metadata": {
        "id": "HkbV1u8eVXJ1"
      },
      "source": [
        "### BONUS: Create your own question and answer it."
      ]
    },
    {
      "cell_type": "markdown",
      "source": [
        "Q. 시간 간격을 인덱스로 지정하여 최초 5일의 데이터를 추출하시오."
      ],
      "metadata": {
        "id": "D-mG1FjodK_s"
      }
    },
    {
      "cell_type": "code",
      "source": [
        "apple['ref_date'] = apple['Date'] - apple['Date'].min()\n",
        "apple.index = apple['ref_date']\n",
        "print(apple['5 days':].iloc[:5,:5])"
      ],
      "metadata": {
        "colab": {
          "base_uri": "https://localhost:8080/"
        },
        "id": "DzQA0VLvc817",
        "outputId": "097641ae-bb10-4fc7-e4b4-3908a403c79c"
      },
      "execution_count": 69,
      "outputs": [
        {
          "output_type": "stream",
          "name": "stdout",
          "text": [
            "               Date   Open   High    Low  Close\n",
            "ref_date                                       \n",
            "5 days   1980-12-17  25.87  26.00  25.87  25.87\n",
            "4 days   1980-12-16  25.37  25.37  25.25  25.25\n",
            "3 days   1980-12-15  27.38  27.38  27.25  27.25\n",
            "0 days   1980-12-12  28.75  28.87  28.75  28.75\n"
          ]
        }
      ]
    }
  ]
}