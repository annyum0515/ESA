{
  "nbformat": 4,
  "nbformat_minor": 0,
  "metadata": {
    "colab": {
      "provenance": [],
      "collapsed_sections": [],
      "authorship_tag": "ABX9TyMYrgNoZ3e//dVF87z1BlXC",
      "include_colab_link": true
    },
    "kernelspec": {
      "name": "python3",
      "display_name": "Python 3"
    },
    "language_info": {
      "name": "python"
    }
  },
  "cells": [
    {
      "cell_type": "markdown",
      "metadata": {
        "id": "view-in-github",
        "colab_type": "text"
      },
      "source": [
        "<a href=\"https://colab.research.google.com/github/anwishn/ESAA/blob/main/0905_%EA%B3%BC%EC%A0%9C_%ED%8C%8C%EC%9D%B4%EC%8D%AC%EB%A8%B8%EC%8B%A0%EB%9F%AC%EB%8B%9D%EC%99%84%EB%B2%BD%EA%B0%80%EC%9D%B4%EB%93%9C_p_1_38.ipynb\" target=\"_parent\"><img src=\"https://colab.research.google.com/assets/colab-badge.svg\" alt=\"Open In Colab\"/></a>"
      ]
    },
    {
      "cell_type": "markdown",
      "source": [
        "# 1단원. 파이썬 기반의 머신러닝과 생태계 이해"
      ],
      "metadata": {
        "id": "B9YkEYRLibEn"
      }
    },
    {
      "cell_type": "markdown",
      "source": [
        "## 01. 머신러닝의 개념\n",
        "\n",
        "\n",
        "---\n",
        "\n",
        "\n",
        "**머신러닝(Machine Learning)** : 데이터를 기반으로 패턴을 학습하고 결과를 예측하는 알고리즘 방법\n",
        "\n",
        "-> 데이터를 기반으로 숨겨진 패턴을 스스로 인지하고 신뢰도 있는 예측 결과 도출\n",
        "\n",
        "*   머신러닝의 분류\n",
        "\n",
        " + 지도학습(Supervised Learning)\n",
        " : <u>분류(Classification), 회귀(Regression)</u>, 추천 시스템, 시각/음성 감지/인지, 텍스트 분석, NLP\n",
        " + 비지도학습(Un-supervised Learning)\n",
        " : 클러스터링, 차원 축소\n",
        " + 강화학습(Reinforcement Learning)\n",
        "\n",
        "*   데이터 전쟁\n",
        "\n",
        " 데이터 & 머신러닝 알고리즘 모두 중요한 요소\n",
        " but 머신러닝은 데이터에 의존적 => 최적의 데이터 더 중요\n",
        "\n",
        "\n",
        "*   파이썬과 R 기반의 머신러닝 비교\n",
        "\n",
        " >+ R : 통계 전용 프로그램 언어 / 다양하고 많은 통계 패키지 보유\n",
        " >+ Python : 다양한 영역에서 사용되는 개발 전문 프로그램 언어\n",
        "  \n",
        "  + 파이썬이 R에 비해 뛰어난 점은?\n",
        "  \n",
        "      - 쉽고 뛰어난 개발 생산성 + 많은 라이브러리 + 뛰어난 확장성, 유연성, 호환성 + 다양한 애플리케이션 개발 가능 + 다양한 기업 환경으로의 확산 가능\n"
      ],
      "metadata": {
        "id": "J550pl4CafF_"
      }
    },
    {
      "cell_type": "markdown",
      "source": [
        "## 02. 파이썬 머신러닝 생태계를 구성하는 주요 패키지\n",
        "\n",
        "\n",
        "\n",
        "---\n",
        "\n",
        "\n",
        "\n",
        "* 머신러닝 패키지 : 사이킷런(Scikit-Learn)\n",
        "\n",
        "* 행렬/선형대수/통계 패키지 : 넘파이(NumPy)\n",
        "\n",
        "* 데이터 핸들링 : 판다스(Pandas)\n",
        "\n",
        "* 시각화 : 맷플롯립(Matplotlib), 시본(Seaborn)\n",
        "\n",
        "* 여러 서드파티 라이브러리\n"
      ],
      "metadata": {
        "id": "ncKfdTKviesy"
      }
    },
    {
      "cell_type": "markdown",
      "source": [
        "## 03. 넘파이\n",
        "\n",
        "\n",
        "---\n",
        "\n",
        "\n",
        "**NumPy**(Numerical Python) : 파이썬에서 선형대수 기반의 프로그램을 쉽게 만들 수 있도록 지원하는 대표적인 패키지\n",
        "\n",
        "* 빠른 배열 연산 속도 보장\n",
        "\n",
        "* C/C++과 같은 저수준 언어 기반의 호환 API 제공 (수행 성능이 중요한 부분은 C/C++기반 코드, 넘파이에서 이를 호출하는 방식)\n",
        "\n",
        "* 다양한 데이터 핸들링 기능 제공(물론 판다스의 편리성 못 미침)\n"
      ],
      "metadata": {
        "id": "sjz8yQbwijkI"
      }
    },
    {
      "cell_type": "markdown",
      "source": [
        ">### 넘파이 ndarray 개요\n",
        ">* <u>import numpy as np</u> (넘파이 모듈 임포트)\n",
        ">* 넘파이의 기반 데이터 타임 = ndarray\n",
        "\n",
        "**array()** 함수 : 다양한 인자를 입력 받아 ndarray로 변환\n",
        "\n",
        "**shape** 변수 : ndarray의 크기(행과 열의 수)를 튜플 형태로 가져 -> 배열의 차원까지 알 수 있어\n",
        "\n",
        "**ndim** : ndarray의 차원"
      ],
      "metadata": {
        "id": "xZ2W-dteWU7N"
      }
    },
    {
      "cell_type": "code",
      "source": [
        "import numpy as np\n",
        "\n",
        "array1 = np.array([1,2,3])\n",
        "print('array1 type:',type(array1))\n",
        "print('array1 array 형태:',array1.shape)\n",
        "\n",
        "array2 = np.array([[1,2,3],\n",
        "                   [2,3,4]])\n",
        "print('array2 type:',type(array2))\n",
        "print('array2 array 형태:',array2.shape)\n",
        "\n",
        "array3 = np.array([[1,2,3]])\n",
        "print('array3 type:',type(array3))\n",
        "print('array3 array 형태:',array3.shape)\n",
        "\n",
        "print('array1: {:0}차원, array2: {:1}차원, array3: {:2}차원'.format(array1.ndim,array2.ndim,array3.ndim))"
      ],
      "metadata": {
        "colab": {
          "base_uri": "https://localhost:8080/"
        },
        "id": "nEC4rnBGNkx7",
        "outputId": "444876bc-369b-4988-d85d-ccc94cd29912"
      },
      "execution_count": null,
      "outputs": [
        {
          "output_type": "stream",
          "name": "stdout",
          "text": [
            "array1 type: <class 'numpy.ndarray'>\n",
            "array1 array 형태: (3,)\n",
            "array2 type: <class 'numpy.ndarray'>\n",
            "array2 array 형태: (2, 3)\n",
            "array3 type: <class 'numpy.ndarray'>\n",
            "array3 array 형태: (1, 3)\n",
            "array1: 1차원, array2: 2차원, array3:  2차원\n"
          ]
        }
      ]
    },
    {
      "cell_type": "markdown",
      "source": [
        ">### ndarray의 데이터 타입\n",
        ">* 데이터값은 숫자 값, 문자열 값, 불 값 등이 모두 가능\n",
        ">* ndarray내의 데이터 타입은 그 연산의 특성상 같은 데이터 타입만 가능\n",
        "\n",
        "**dtype** 속성 : ndarray 내의 데이터 타입 확인\n"
      ],
      "metadata": {
        "id": "2xBucCBeSn98"
      }
    },
    {
      "cell_type": "code",
      "source": [
        "list1 = [1,2,3]\n",
        "print(type(list1))\n",
        "array1=np.array(list1)\n",
        "print(type(array1))\n",
        "print(array1,array1.dtype)"
      ],
      "metadata": {
        "colab": {
          "base_uri": "https://localhost:8080/"
        },
        "id": "sMtl7qc0P4fA",
        "outputId": "83922404-d997-4083-d8b5-ad6ca8c103d8"
      },
      "execution_count": null,
      "outputs": [
        {
          "output_type": "stream",
          "name": "stdout",
          "text": [
            "<class 'list'>\n",
            "<class 'numpy.ndarray'>\n",
            "[1 2 3] int64\n"
          ]
        }
      ]
    },
    {
      "cell_type": "markdown",
      "source": [
        "* ndarray 내에 다른 데이터 유형이 섞여 있는 경우 => 데이터 타입이 더 큰 데이터 타입으로 형 변환"
      ],
      "metadata": {
        "id": "EBX7YTeGTg70"
      }
    },
    {
      "cell_type": "code",
      "source": [
        "list2 = [1,2,'test']\n",
        "array2 = np.array(list2)\n",
        "print(array2,array2.dtype)  # int형이 문자열 값으로 변환\n",
        "\n",
        "list3 = [1,2,3.0]\n",
        "array3 = np.array(list3)\n",
        "print(array3,array3.dtype)  # int형이 float형으로 변환"
      ],
      "metadata": {
        "colab": {
          "base_uri": "https://localhost:8080/"
        },
        "id": "AcruouoMTfNt",
        "outputId": "bfc8f4ca-5476-4fcb-ff7d-3048da0fd15b"
      },
      "execution_count": null,
      "outputs": [
        {
          "output_type": "stream",
          "name": "stdout",
          "text": [
            "['1' '2' 'test'] <U21\n",
            "[1. 2. 3.] float64\n"
          ]
        }
      ]
    },
    {
      "cell_type": "markdown",
      "source": [
        " **astype()** 메서드 : ndarray 내 데이터값의 타입 변경\n",
        "\n",
        "  + 대용량 데이터의 ndarray를 만들 때 사용되는 메모리를 더 절약해야 할 때 보통 이용"
      ],
      "metadata": {
        "id": "-RDu2Tf_U8W5"
      }
    },
    {
      "cell_type": "code",
      "source": [
        "array_int = np.array([1,2,3])\n",
        "array_float = array_int.astype('float64')\n",
        "print(array_float, array_float.dtype)\n",
        "\n",
        "array_int1 = array_float.astype('int32')\n",
        "print(array_int1,array_int1.dtype)\n",
        "\n",
        "array_float1 = np.array([1.1,2.1,3.1])\n",
        "array_int2 = array_float1.astype('int32')\n",
        "print(array_int2,array_int2.dtype)"
      ],
      "metadata": {
        "colab": {
          "base_uri": "https://localhost:8080/"
        },
        "id": "wLM0AKtWVcfg",
        "outputId": "379f0d83-dc01-4032-e007-f5a4c27ac1b4"
      },
      "execution_count": null,
      "outputs": [
        {
          "output_type": "stream",
          "name": "stdout",
          "text": [
            "[1. 2. 3.] float64\n",
            "[1 2 3] int32\n",
            "[1 2 3] int32\n"
          ]
        }
      ]
    },
    {
      "cell_type": "markdown",
      "source": [
        ">### ndarray를 편리하게 생성하기 - arange, zeros, ones\n",
        ">* 테스트용으로 데이터를 만들거나 대규모의 데이터를 일괄적으로 초기화해야 할 경우에 사용\n",
        "\n",
        "**arrange()** ≒ range()\n",
        "\n",
        " : array를 range()로 표현하는 것, 0부터 함수 인자 값 -1까지의 값을 순차적으로 ndarry의 데이터값으로 변환\n"
      ],
      "metadata": {
        "id": "6xKuKzgOWIEU"
      }
    },
    {
      "cell_type": "code",
      "source": [
        "sequence_array = np.arange(10)   # default는 stop값 but start값도 부여 가능\n",
        "print(sequence_array)\n",
        "print(sequence_array.dtype,sequence_array.shape)"
      ],
      "metadata": {
        "colab": {
          "base_uri": "https://localhost:8080/"
        },
        "id": "J2ilaVZuXVdq",
        "outputId": "26f2e180-c1b2-41a4-ccd1-9257dc0f96f1"
      },
      "execution_count": null,
      "outputs": [
        {
          "output_type": "stream",
          "name": "stdout",
          "text": [
            "[0 1 2 3 4 5 6 7 8 9]\n",
            "int64 (10,)\n"
          ]
        }
      ]
    },
    {
      "cell_type": "markdown",
      "source": [
        "**zeros()** : 튜플 형태의 shape값을 입력 => 모든 값을 0으로 채운 해당 shape를 가진 ndarray를 반환\n",
        "\n",
        "**ones()** : 튜플 형태의 shape값을 입력 => 모든 값을 1로 채운 해당 shape를 가진 ndarray를 반환 "
      ],
      "metadata": {
        "id": "XFcZy_TxZhvh"
      }
    },
    {
      "cell_type": "code",
      "source": [
        "zero_array = np.zeros((3,2), dtype='int32')\n",
        "print(zero_array)\n",
        "print(zero_array.dtype,zero_array.shape)\n",
        "\n",
        "one_array = np.ones((3,2))                 # dtype 정해주지 않으면 default로 float64형의 데이터로 채워\n",
        "print(one_array)\n",
        "print(one_array.dtype, one_array.shape)"
      ],
      "metadata": {
        "colab": {
          "base_uri": "https://localhost:8080/"
        },
        "id": "2pGKjy_CZ8qm",
        "outputId": "2d3a4c64-56f1-4cf0-f1d8-f9e3a10ad25b"
      },
      "execution_count": null,
      "outputs": [
        {
          "output_type": "stream",
          "name": "stdout",
          "text": [
            "[[0 0]\n",
            " [0 0]\n",
            " [0 0]]\n",
            "int32 (3, 2)\n",
            "[[1. 1.]\n",
            " [1. 1.]\n",
            " [1. 1.]]\n",
            "float64 (3, 2)\n"
          ]
        }
      ]
    },
    {
      "cell_type": "markdown",
      "source": [
        "> ### ndarray의 차원과 크기를 변경하는 reshape()\n",
        ">**reshape()** 메서드 : ndarray를 특정 차원 및 크기로 변환\n",
        ">* 변환을 원하는 크기를 함수 인자로 부여"
      ],
      "metadata": {
        "id": "0a82QbJbZ6WH"
      }
    },
    {
      "cell_type": "code",
      "source": [
        "array1 = np.arange(10)\n",
        "print('array1:\\n',array1)\n",
        "\n",
        "array2 = array1.reshape(2,5)   # 2row 5col\n",
        "print('array2:\\n',array2)\n",
        "\n",
        "array3 = array1.reshape(5,2)   # 5row 2col\n",
        "print('array3:\\n',array3)"
      ],
      "metadata": {
        "colab": {
          "base_uri": "https://localhost:8080/"
        },
        "id": "ZrDtN1usaraP",
        "outputId": "15a05dd7-0945-4a23-d113-1c1aae98b782"
      },
      "execution_count": null,
      "outputs": [
        {
          "output_type": "stream",
          "name": "stdout",
          "text": [
            "array1:\n",
            " [0 1 2 3 4 5 6 7 8 9]\n",
            "array2:\n",
            " [[0 1 2 3 4]\n",
            " [5 6 7 8 9]]\n",
            "array3:\n",
            " [[0 1]\n",
            " [2 3]\n",
            " [4 5]\n",
            " [6 7]\n",
            " [8 9]]\n"
          ]
        }
      ]
    },
    {
      "cell_type": "markdown",
      "source": [
        "* 지정된 사이즈로 변경이 불가능하면 오류 발생"
      ],
      "metadata": {
        "id": "ALTzSSKkbLr0"
      }
    },
    {
      "cell_type": "code",
      "source": [
        "array1.reshape(4,3)"
      ],
      "metadata": {
        "colab": {
          "base_uri": "https://localhost:8080/",
          "height": 176
        },
        "id": "xFdgkljdbQBF",
        "outputId": "1cf7fc91-64e1-42a1-8d48-1d65bd2b6481"
      },
      "execution_count": null,
      "outputs": [
        {
          "output_type": "error",
          "ename": "ValueError",
          "evalue": "ignored",
          "traceback": [
            "\u001b[0;31m---------------------------------------------------------------------------\u001b[0m",
            "\u001b[0;31mValueError\u001b[0m                                Traceback (most recent call last)",
            "\u001b[0;32m<ipython-input-13-a40469ec5825>\u001b[0m in \u001b[0;36m<module>\u001b[0;34m\u001b[0m\n\u001b[0;32m----> 1\u001b[0;31m \u001b[0marray1\u001b[0m\u001b[0;34m.\u001b[0m\u001b[0mreshape\u001b[0m\u001b[0;34m(\u001b[0m\u001b[0;36m4\u001b[0m\u001b[0;34m,\u001b[0m\u001b[0;36m3\u001b[0m\u001b[0;34m)\u001b[0m\u001b[0;34m\u001b[0m\u001b[0;34m\u001b[0m\u001b[0m\n\u001b[0m",
            "\u001b[0;31mValueError\u001b[0m: cannot reshape array of size 10 into shape (4,3)"
          ]
        }
      ]
    },
    {
      "cell_type": "markdown",
      "source": [
        "* 인자로 -1을 적용하는 경우 : 원래 ndarray와 호환되는 새로운 shape로 변환"
      ],
      "metadata": {
        "id": "4Nvj1m3FbdS3"
      }
    },
    {
      "cell_type": "code",
      "source": [
        "array1 = np.arange(10)\n",
        "print(array1)\n",
        "array2 = array1.reshape(-1,5)       #5col에 맞는 row를 자동으로 새롭게 생성해 변환하라\n",
        "print('array2 shape:',array2.shape)\n",
        "array3 = array1.reshape(5,-1)       #5row에 맞는 col를 자동으로 새롭게 생성해 변환하라\n",
        "print('array3 shape:',array3.shape)"
      ],
      "metadata": {
        "colab": {
          "base_uri": "https://localhost:8080/"
        },
        "id": "ddm_rRjQb0c6",
        "outputId": "865f91bc-8768-4138-faff-9dfd8b119fcd"
      },
      "execution_count": null,
      "outputs": [
        {
          "output_type": "stream",
          "name": "stdout",
          "text": [
            "[0 1 2 3 4 5 6 7 8 9]\n",
            "array2 shape: (2, 5)\n",
            "array3 shape: (5, 2)\n"
          ]
        }
      ]
    },
    {
      "cell_type": "markdown",
      "source": [
        "* -1을 사용하더라도 호환될 수 없는 형태는 변환x"
      ],
      "metadata": {
        "id": "r2MMqhJics-O"
      }
    },
    {
      "cell_type": "code",
      "source": [
        "array1 = np.arange(10)\n",
        "array4 = array1.reshape(-1,4)"
      ],
      "metadata": {
        "colab": {
          "base_uri": "https://localhost:8080/",
          "height": 194
        },
        "id": "ItcNlpFwckV4",
        "outputId": "b7ae16e0-341c-4303-9f1a-241f68b36669"
      },
      "execution_count": null,
      "outputs": [
        {
          "output_type": "error",
          "ename": "ValueError",
          "evalue": "ignored",
          "traceback": [
            "\u001b[0;31m---------------------------------------------------------------------------\u001b[0m",
            "\u001b[0;31mValueError\u001b[0m                                Traceback (most recent call last)",
            "\u001b[0;32m<ipython-input-15-07da9760475e>\u001b[0m in \u001b[0;36m<module>\u001b[0;34m\u001b[0m\n\u001b[1;32m      1\u001b[0m \u001b[0marray1\u001b[0m \u001b[0;34m=\u001b[0m \u001b[0mnp\u001b[0m\u001b[0;34m.\u001b[0m\u001b[0marange\u001b[0m\u001b[0;34m(\u001b[0m\u001b[0;36m10\u001b[0m\u001b[0;34m)\u001b[0m\u001b[0;34m\u001b[0m\u001b[0;34m\u001b[0m\u001b[0m\n\u001b[0;32m----> 2\u001b[0;31m \u001b[0marray4\u001b[0m \u001b[0;34m=\u001b[0m \u001b[0marray1\u001b[0m\u001b[0;34m.\u001b[0m\u001b[0mreshape\u001b[0m\u001b[0;34m(\u001b[0m\u001b[0;34m-\u001b[0m\u001b[0;36m1\u001b[0m\u001b[0;34m,\u001b[0m\u001b[0;36m4\u001b[0m\u001b[0;34m)\u001b[0m\u001b[0;34m\u001b[0m\u001b[0;34m\u001b[0m\u001b[0m\n\u001b[0m",
            "\u001b[0;31mValueError\u001b[0m: cannot reshape array of size 10 into shape (4)"
          ]
        }
      ]
    },
    {
      "cell_type": "markdown",
      "source": [
        "* -1인자는 reshape(-1,1)와 같은 형태로 자주 사용\n",
        "\n",
        "     -> 여러개의 row를 가지되 반드시 1개의 col을 가진 ndarray로 변환됨을 보장 -> 결합할 때 형태 통일"
      ],
      "metadata": {
        "id": "kEy716b1dTQ5"
      }
    },
    {
      "cell_type": "code",
      "source": [
        "array1 = np.arange(8)\n",
        "array3d = array1.reshape((2,2,2))\n",
        "print('array3d:\\n',array3d.tolist())       # tolist()메서드 : 리스트 자료형으로 변환\n",
        "\n",
        "# 3차원 ndarray를 2차원 ndarray로 변환\n",
        "array5 = array3d.reshape(-1,1)\n",
        "print('array5:\\n',array5.tolist())\n",
        "print('array5 shape:',array5.shape)\n",
        "\n",
        "# 1차원 ndarray를 2차원 ndarray로 변환\n",
        "array6 = array1.reshape(-1,1)\n",
        "print('array6:\\n',array6.tolist())\n",
        "print('array6 shape:',array6.shape)"
      ],
      "metadata": {
        "colab": {
          "base_uri": "https://localhost:8080/"
        },
        "id": "AmrEDo1Dd8wc",
        "outputId": "18251662-295d-42e0-bb4c-0a6f8b667e88"
      },
      "execution_count": null,
      "outputs": [
        {
          "output_type": "stream",
          "name": "stdout",
          "text": [
            "array3d:\n",
            " [[[0, 1], [2, 3]], [[4, 5], [6, 7]]]\n",
            "array5:\n",
            " [[0], [1], [2], [3], [4], [5], [6], [7]]\n",
            "array5 shape: (8, 1)\n",
            "array6:\n",
            " [[0], [1], [2], [3], [4], [5], [6], [7]]\n",
            "array6 shape: (8, 1)\n"
          ]
        }
      ]
    },
    {
      "cell_type": "markdown",
      "source": [
        "> ### 넘파이의 ndarray의 데이터 세트 선택하기 - **인덱싱(indexing)**\n",
        ">1. 특정한 데이터만 추출 : 원하는 위치의 인덱스 값 지정 -> 해당 위치의 데이터 반환\n",
        "> 2. 슬라이싱(Slicing) : 연속된 인덱스상의 ndarray를 추출하는 방식, 시작 인덱스:종료 인덱스 = 시작 인덱스에서 종료 인덱스-1 위치에 있는 데이터의 ndarray를 반환\n",
        ">3. 팬시 인덱싱(Fancy Indexing) : 일정한 인덱싱 집합을 리스트 또는 ndarray 형태로 지정 -> 해당 위치에 있는 데이터의 ndarray 반환\n",
        ">4. 불린 인덱싱(Boolean Indexing) : 특정 조건에 해당하는지 여부인 True/False 값 인덱싱 집합을 기반으로 True에 해당하는 인덱스 위치에 있는 데이터의 ndarray 반환"
      ],
      "metadata": {
        "id": "aKmNtXUDfO0U"
      }
    },
    {
      "cell_type": "markdown",
      "source": [
        ">#### 단일 값 추출\n",
        "\n"
      ],
      "metadata": {
        "id": "jiz_KQrPgKZ8"
      }
    },
    {
      "cell_type": "code",
      "source": [
        "# 1부터 9까지의 1차원 ndarray 생성\n",
        "array1 = np.arange(start=1,stop=10)\n",
        "print('array1:',array1)\n",
        "\n",
        "# index는 0부터 시작하므로 array1[2]는 3번째 index 위치의 데이터값을 의미\n",
        "value = array1[2]\n",
        "print('value:',value)\n",
        "print(type(value))\n",
        "\n",
        "# 마이너스 기호 이용하여 맨 뒤에서부터 데이터 추출 가능\n",
        "print('맨 뒤의 값:',array1[-1],', 맨 뒤에서 두 번째 값:',array1[-2])\n",
        "\n",
        "# ndarray 내의 데이터값도 수정 가능\n",
        "array1[0] = 9\n",
        "array1[8] = 0\n",
        "print('array1:',array1)"
      ],
      "metadata": {
        "colab": {
          "base_uri": "https://localhost:8080/"
        },
        "id": "oQmL2Y5HgalR",
        "outputId": "e15741ca-94ab-4af0-cbcd-cff898427b0e"
      },
      "execution_count": null,
      "outputs": [
        {
          "output_type": "stream",
          "name": "stdout",
          "text": [
            "array1: [1 2 3 4 5 6 7 8 9]\n",
            "value: 3\n",
            "<class 'numpy.int64'>\n",
            "맨 뒤의 값: 9 , 맨 뒤에서 두 번째 값: 8\n",
            "array1: [9 2 3 4 5 6 7 8 0]\n"
          ]
        }
      ]
    },
    {
      "cell_type": "markdown",
      "source": [
        "* 다차원 ndarry에서 단일 값 추출 - 2차원의 경우 row와 col 위치의 인덱스를 통해 접근\n",
        "\n",
        "   **row,col은 넘파이에서 사용x -> axis 0, axis 1이라 사용**\n",
        "\n",
        "    <u>axis 0이 row 방향 축, axis 1이 col 방향 축</u>"
      ],
      "metadata": {
        "id": "cvMtaeIbhT_B"
      }
    },
    {
      "cell_type": "code",
      "source": [
        "array1d = np.arange(start=1,stop=10)\n",
        "array2d = array1d.reshape(3,3)\n",
        "print(array2d)\n",
        "\n",
        "print('(row=0, col=0) index 가리키는 값:',array2d[0,0])\n",
        "print('(row=0, col=1) index 가리키는 값:',array2d[0,1])\n",
        "print('(row=1, col=0) index 가리키는 값:',array2d[1,0])\n",
        "print('(row=2, col=2) index 가리키는 값:',array2d[2,2])"
      ],
      "metadata": {
        "colab": {
          "base_uri": "https://localhost:8080/"
        },
        "id": "q6r0i7yXiYZX",
        "outputId": "3069e250-4b51-49c3-e9c0-09cd10418603"
      },
      "execution_count": null,
      "outputs": [
        {
          "output_type": "stream",
          "name": "stdout",
          "text": [
            "[[1 2 3]\n",
            " [4 5 6]\n",
            " [7 8 9]]\n",
            "(row=0, col=0) index 가리키는 값: 1\n",
            "(row=0, col=1) index 가리키는 값: 2\n",
            "(row=1, col=0) index 가리키는 값: 4\n",
            "(row=2, col=2) index 가리키는 값: 9\n"
          ]
        }
      ]
    },
    {
      "cell_type": "markdown",
      "source": [
        "> #### 슬라이싱\n",
        "\n",
        "* \":\" 기호 이용\n",
        "\n",
        "* 단일 데이터값 추출을 제외하고 슬라이싱, 팬시 인덱싱, 불린 인덱싱으로 추출된 데이터 세트 모두 ndarray 타입"
      ],
      "metadata": {
        "id": "0zqNuhhYjzM7"
      }
    },
    {
      "cell_type": "code",
      "source": [
        "array1 = np.arange(start=1, stop=10)\n",
        "array3 = array1[0:3]\n",
        "print(array3)\n",
        "print(type(array3))"
      ],
      "metadata": {
        "colab": {
          "base_uri": "https://localhost:8080/"
        },
        "id": "hlc-D63okLn3",
        "outputId": "cb691deb-3b60-4349-f352-be61b064ec7d"
      },
      "execution_count": null,
      "outputs": [
        {
          "output_type": "stream",
          "name": "stdout",
          "text": [
            "[1 2 3]\n",
            "<class 'numpy.ndarray'>\n"
          ]
        }
      ]
    },
    {
      "cell_type": "markdown",
      "source": [
        "* \":\"사이의 시작, 종료 인덱스는 생략 가능\n",
        "\n",
        "    시작 인덱스 생략 -> 처음 인덱스인 0으로 간주\n",
        "\n",
        "    종료 인덱스 생략 -> 맨 마지막 인덱스로 간주\n",
        "\n",
        "    시작/종료 인덱스 생략 -> 맨 처음/맨 마지막 인덱스로 간주"
      ],
      "metadata": {
        "id": "MpHQjO5Wkgun"
      }
    },
    {
      "cell_type": "code",
      "source": [
        "array1 = np.arange(start=1,stop=10)\n",
        "array4 = array1[:3]\n",
        "print(array4)\n",
        "\n",
        "array5 = array1[3:]\n",
        "print(array5)\n",
        "\n",
        "array6 = array1[:]\n",
        "print(array6)"
      ],
      "metadata": {
        "colab": {
          "base_uri": "https://localhost:8080/"
        },
        "id": "RMIwD0umk8nX",
        "outputId": "76f5c5d3-06ad-485e-a214-f41da7402816"
      },
      "execution_count": null,
      "outputs": [
        {
          "output_type": "stream",
          "name": "stdout",
          "text": [
            "[1 2 3]\n",
            "[4 5 6 7 8 9]\n",
            "[1 2 3 4 5 6 7 8 9]\n"
          ]
        }
      ]
    },
    {
      "cell_type": "markdown",
      "source": [
        "* 2차원 ndarray에서의 슬라이싱 - 1차원과 유사, row와 col인덱스를 지칭하는 부분만 차이"
      ],
      "metadata": {
        "id": "sKbO0T7nlN9W"
      }
    },
    {
      "cell_type": "code",
      "source": [
        "array1d = np.arange(start=1,stop=10)\n",
        "array2d = array1d.reshape(3,3)\n",
        "print('array2d:\\n',array2d)\n",
        "\n",
        "print('array2d[0:2, 0:2] \\n', array2d[0:2,0:2])\n",
        "print('array2d[1:3, 0:3] \\n', array2d[1:3,0:3])\n",
        "print('array2d[1:3, :] \\n', array2d[1:3,:])\n",
        "print('array2d[:, :] \\n', array2d[:,:])\n",
        "print('array2d[:2, 1:] \\n', array2d[:2,1:])\n",
        "print('array2d[:2, 0] \\n', array2d[:2,0])"
      ],
      "metadata": {
        "colab": {
          "base_uri": "https://localhost:8080/"
        },
        "id": "VKSDXDZ8lZ2h",
        "outputId": "6b4e69c8-d384-407f-b6d2-7a322f6ffe22"
      },
      "execution_count": null,
      "outputs": [
        {
          "output_type": "stream",
          "name": "stdout",
          "text": [
            "array2d:\n",
            " [[1 2 3]\n",
            " [4 5 6]\n",
            " [7 8 9]]\n",
            "array2d[0:2, 0:2] \n",
            " [[1 2]\n",
            " [4 5]]\n",
            "array2d[1:3, 0:3] \n",
            " [[4 5 6]\n",
            " [7 8 9]]\n",
            "array2d[1:3, :] \n",
            " [[4 5 6]\n",
            " [7 8 9]]\n",
            "array2d[:, :] \n",
            " [[1 2 3]\n",
            " [4 5 6]\n",
            " [7 8 9]]\n",
            "array2d[:2, 1:] \n",
            " [[2 3]\n",
            " [5 6]]\n",
            "array2d[:2, 0] \n",
            " [1 4]\n"
          ]
        }
      ]
    },
    {
      "cell_type": "markdown",
      "source": [
        "* 2차원 ndarray에서 뒤에 오는 인덱스 없애면 1차원 ndarray 반환 / 3차원 ndarray에서 뒤에 오는 인덱스 없애면 2차원 ndarray 반환"
      ],
      "metadata": {
        "id": "T5iA9pI3mYye"
      }
    },
    {
      "cell_type": "code",
      "source": [
        "print(array2d[0])   # axis 0(row축)의 첫 번째 row ndarray 반환\n",
        "print(array2d[1])   # axis 0(row축)의 두 번째 row ndarray 반환\n",
        "print('array2d[0] shape:',array2d[0].shape,'array2d[1] shape:',array2d[1].shape)"
      ],
      "metadata": {
        "colab": {
          "base_uri": "https://localhost:8080/"
        },
        "id": "77AfWggImsRM",
        "outputId": "392ff16f-3ca6-4f72-da5f-858e3b61ffce"
      },
      "execution_count": null,
      "outputs": [
        {
          "output_type": "stream",
          "name": "stdout",
          "text": [
            "[1 2 3]\n",
            "[4 5 6]\n",
            "array2d[0] shape: (3,) array2d[1] shape: (3,)\n"
          ]
        }
      ]
    },
    {
      "cell_type": "markdown",
      "source": [
        ">#### 팬시 인덱싱\n",
        "\n",
        "* 리스트나 ndarray로 인덱스 집합을 지정 -> 해당 위치의 인덱스에 해당하는 ndarray를 반환"
      ],
      "metadata": {
        "id": "gW6fzfIfnLXi"
      }
    },
    {
      "cell_type": "code",
      "source": [
        "array1d = np.arange(start=1,stop=10)\n",
        "array2d= array1.reshape(3,3)\n",
        "\n",
        "array3 = array2d[[0,1],2]\n",
        "print('array2d[[0,1], 2] => ',array3.tolist())\n",
        "\n",
        "array4 = array2d[[0,1],0:2]\n",
        "print('array2d[[0,1], 0:2] => ',array4.tolist())\n",
        "\n",
        "array5 = array2d[[0,1]]\n",
        "print('array2d[[0,1]] => ',array5.tolist())"
      ],
      "metadata": {
        "colab": {
          "base_uri": "https://localhost:8080/"
        },
        "id": "uzV3lx1zngny",
        "outputId": "dcfbad42-fcf5-4d6f-aa05-0fc523f02b8c"
      },
      "execution_count": null,
      "outputs": [
        {
          "output_type": "stream",
          "name": "stdout",
          "text": [
            "array2d[[0,1], 2] =>  [3, 6]\n",
            "array2d[[0,1], 0:2] =>  [[1, 2], [4, 5]]\n",
            "array2d[[0,1]] =>  [[1, 2, 3], [4, 5, 6]]\n"
          ]
        }
      ]
    },
    {
      "cell_type": "markdown",
      "source": [
        "> #### 불린 인덱싱\n",
        "\n",
        "* 조건 필터링과 검색 동시에 가능\n",
        "\n",
        "* ndarray의 인덱스를 지정하는 [ ] 내에 조건문을 그대로 기재 => True 값에 해당하는 index 값만 저장 => 저장된 index 값으로 데이터 조회"
      ],
      "metadata": {
        "id": "Dugs0kCjoMe2"
      }
    },
    {
      "cell_type": "code",
      "source": [
        "array1d = np.arange(start=1,stop=10)\n",
        "# []안에 array1d > 5 Boolean indexing을 적용\n",
        "array3 = array1d[array1d>5]\n",
        "print('array1d > 5 불린 인덱싱 결과 값:',array3)"
      ],
      "metadata": {
        "colab": {
          "base_uri": "https://localhost:8080/"
        },
        "id": "HMSxiRnMokMr",
        "outputId": "d91b71ec-dbef-42ba-bea1-570703d73ff1"
      },
      "execution_count": null,
      "outputs": [
        {
          "output_type": "stream",
          "name": "stdout",
          "text": [
            "array1d > 5 불린 인덱싱 결과 값: [6 7 8 9]\n"
          ]
        }
      ]
    },
    {
      "cell_type": "code",
      "source": [
        "array1d > 5\n",
        "\n",
        "boolean_indexes = np.array([False, False, False, False, False,  True,  True,  True,  True])\n",
        "array3 = array1d[boolean_indexes]\n",
        "print('불린 인덱스로 필터링 결과 :',array3)\n",
        "\n",
        "indexes = np.array([5,6,7,8])\n",
        "array4 = array1d[indexes]\n",
        "print('일반 인덱스로 필터링 결과 :',array4)"
      ],
      "metadata": {
        "colab": {
          "base_uri": "https://localhost:8080/"
        },
        "id": "OxTsffTmo2sY",
        "outputId": "176618cb-06c4-4c08-f9a1-85b26ec0e10a"
      },
      "execution_count": null,
      "outputs": [
        {
          "output_type": "stream",
          "name": "stdout",
          "text": [
            "불린 인덱스로 필터링 결과 : [6 7 8 9]\n",
            "일반 인덱스로 필터링 결과 : [6 7 8 9]\n"
          ]
        }
      ]
    },
    {
      "cell_type": "markdown",
      "source": [
        "### 행렬의 정렬 - sort()와 argsort()"
      ],
      "metadata": {
        "id": "-nj90IbyqBAp"
      }
    },
    {
      "cell_type": "markdown",
      "source": [
        ">#### 행렬 정렬\n",
        ">* **np.sort()** : 넘파이에서 sort() 호출\n",
        ">  + <u>원 행렬은 그대로 유지</u> 한 채 원 행렬의 정렬된 행렬 반환\n",
        ">* **ndarray.sort()** : 행렬 자체에서 sort() 호출\n",
        ">  + <u>원 행렬 자체를 정렬</u> 한 형태로 변환하며 반환 값은 None"
      ],
      "metadata": {
        "id": "AItmYAs3q4bi"
      }
    },
    {
      "cell_type": "code",
      "source": [
        "org_array = np.array([3,1,9,5])\n",
        "print('원본 행렬:',org_array)\n",
        "\n",
        "# np.sort()로 정렬\n",
        "sort_array1 = np.sort(org_array)\n",
        "print('np.sort() 호출 후 반환된 정렬 행렬:',sort_array1)\n",
        "print('np.sort() 호출 후 원본 행렬:',org_array)\n",
        "\n",
        "# ndarray.sort()로 정렬\n",
        "sort_array2 = org_array.sort()\n",
        "print('org_array.sort() 호출 후 반환된 행렬:',sort_array2)\n",
        "print('org_array.sort() 호출 후 원본 행렬:',org_array)"
      ],
      "metadata": {
        "colab": {
          "base_uri": "https://localhost:8080/"
        },
        "id": "Hz4C-mFTrpEW",
        "outputId": "b08bf1be-2fa6-4bbe-b603-114af505f26a"
      },
      "execution_count": null,
      "outputs": [
        {
          "output_type": "stream",
          "name": "stdout",
          "text": [
            "원본 행렬: [3 1 9 5]\n",
            "np.sort() 호출 후 반환된 정렬 행렬: [1 3 5 9]\n",
            "np.sort() 호출 후 원본 행렬: [3 1 9 5]\n",
            "org_array.sort() 호출 후 반환된 행렬: None\n",
            "org_array.sort() 호출 후 원본 행렬: [1 3 5 9]\n"
          ]
        }
      ]
    },
    {
      "cell_type": "markdown",
      "source": [
        "* 기본적으로 오름차순 정렬 -> 내림차순 정렬 np.sort()[::-1] "
      ],
      "metadata": {
        "id": "UBoF2FBrsyXc"
      }
    },
    {
      "cell_type": "code",
      "source": [
        "sort_array1_desc = np.sort(org_array)[::-1]\n",
        "print('내림차순으로 정렬:',sort_array1_desc)"
      ],
      "metadata": {
        "colab": {
          "base_uri": "https://localhost:8080/"
        },
        "id": "MmaF4R8irqXH",
        "outputId": "02b2ea3e-ca6c-4758-dd65-af35445b7198"
      },
      "execution_count": null,
      "outputs": [
        {
          "output_type": "stream",
          "name": "stdout",
          "text": [
            "내림차순으로 정렬: [9 5 3 1]\n"
          ]
        }
      ]
    },
    {
      "cell_type": "markdown",
      "source": [
        "* 2차원 이상의 행렬 정렬 -> axis 축 값 설정 -> 로우 방향 또는 칼럼 방향으로 정렬 수행"
      ],
      "metadata": {
        "id": "lmjyRefqtJ0v"
      }
    },
    {
      "cell_type": "code",
      "source": [
        "array2d = np.array([[8,12],\n",
        "                    [7,1]])\n",
        "sort_array2d_axis0 = np.sort(array2d,axis=0)\n",
        "print('로우 방향으로 정렬:\\n', sort_array2d_axis0)\n",
        "\n",
        "sort_array2d_axis1 = np.sort(array2d,axis=1)\n",
        "print('칼럼 방향으로 정렬:\\n',sort_array2d_axis1)"
      ],
      "metadata": {
        "colab": {
          "base_uri": "https://localhost:8080/"
        },
        "id": "WtzvDzaGtTNG",
        "outputId": "f025e399-b995-4071-e4b1-8ac10082dd86"
      },
      "execution_count": null,
      "outputs": [
        {
          "output_type": "stream",
          "name": "stdout",
          "text": [
            "로우 방향으로 정렬:\n",
            " [[ 7  1]\n",
            " [ 8 12]]\n",
            "칼럼 방향으로 정렬:\n",
            " [[ 8 12]\n",
            " [ 1  7]]\n"
          ]
        }
      ]
    },
    {
      "cell_type": "markdown",
      "source": [
        ">#### 정렬된 행렬의 인덱스 반환하기\n",
        ">**np.argsort()** : 정렬된 행렬의 인덱스를 ndarray 형으로 반환"
      ],
      "metadata": {
        "id": "URE9lf7KuGEN"
      }
    },
    {
      "cell_type": "code",
      "source": [
        "org_array = np.array([3,1,9,5])\n",
        "sort_indices = np.argsort(org_array)\n",
        "print(type(sort_indices))\n",
        "print('행렬 정렬 시 원본 행렬의 인덱스:',sort_indices)"
      ],
      "metadata": {
        "colab": {
          "base_uri": "https://localhost:8080/"
        },
        "id": "gVeyXJFVujBR",
        "outputId": "699d4faa-d0c2-4265-9a99-e581052b5c1d"
      },
      "execution_count": null,
      "outputs": [
        {
          "output_type": "stream",
          "name": "stdout",
          "text": [
            "<class 'numpy.ndarray'>\n",
            "행렬 정렬 시 원본 행렬의 인덱스: [1 0 3 2]\n"
          ]
        }
      ]
    },
    {
      "cell_type": "markdown",
      "source": [
        "* 내림차순 정렬 시에 원본 행렬의 인덱스 구하기 -> [::-1] 적용"
      ],
      "metadata": {
        "id": "eCXxqlaUvDKB"
      }
    },
    {
      "cell_type": "code",
      "source": [
        "org_array = np.array([3,1,9,5])\n",
        "sort_indices_desc = np.argsort(org_array)[::-1]\n",
        "print('행렬 내림차순 정렬 시 원본 행렬의 인덱스:',sort_indices_desc)"
      ],
      "metadata": {
        "colab": {
          "base_uri": "https://localhost:8080/"
        },
        "id": "J5Qf9X_XvK0D",
        "outputId": "4384ae4b-b7d8-4f06-840a-6e61544fa696"
      },
      "execution_count": null,
      "outputs": [
        {
          "output_type": "stream",
          "name": "stdout",
          "text": [
            "행렬 내림차순 정렬 시 원본 행렬의 인덱스: [2 3 0 1]\n"
          ]
        }
      ]
    },
    {
      "cell_type": "markdown",
      "source": [
        "* 넘파이에서 활용도 높다"
      ],
      "metadata": {
        "id": "rvHsDHLlvhpN"
      }
    },
    {
      "cell_type": "code",
      "source": [
        "name_array = np.array(['John','Mike','Sarah','Kate','Samuel'])\n",
        "score_array = np.array([78,95,84,98,88])\n",
        "\n",
        "sort_indices_asc = np.argsort(score_array)\n",
        "print('성적 오름차순 정렬 시 score_array의 인덱스:',sort_indices_asc)\n",
        "print('성적 오름차순으로 name_array의 이름 출력:', name_array[sort_indices_asc])"
      ],
      "metadata": {
        "colab": {
          "base_uri": "https://localhost:8080/"
        },
        "id": "A3nIqE6dvplR",
        "outputId": "8b401e67-9a3b-4f69-8d17-0a0f3c4e4b66"
      },
      "execution_count": null,
      "outputs": [
        {
          "output_type": "stream",
          "name": "stdout",
          "text": [
            "성적 오름차순 정렬 시 score_array의 인덱스: [0 2 4 1 3]\n",
            "성적 오름차순으로 name_array의 이름 출력: ['John' 'Sarah' 'Samuel' 'Mike' 'Kate']\n"
          ]
        }
      ]
    },
    {
      "cell_type": "markdown",
      "source": [
        "### 선형대수 연산 - 행렬 내적과 전치 행렬 구하기"
      ],
      "metadata": {
        "id": "APjkIN3hwHRF"
      }
    },
    {
      "cell_type": "markdown",
      "source": [
        ">#### 행렬 내적(행렬 곱)\n",
        ">**np.dot()** 이용"
      ],
      "metadata": {
        "id": "6RJco2ubwW3Y"
      }
    },
    {
      "cell_type": "code",
      "source": [
        "A = np.array([[1,2,3],\n",
        "             [4,5,6]])\n",
        "B = np.array([[7,8],\n",
        "             [9,10],\n",
        "             [11,12]])\n",
        "\n",
        "dot_product = np.dot(A,B)\n",
        "print('행렬 내적 결과:\\n',dot_product)"
      ],
      "metadata": {
        "colab": {
          "base_uri": "https://localhost:8080/"
        },
        "id": "Tpa0sssywkKo",
        "outputId": "7c026548-a293-4460-bc43-4f5e41e55eea"
      },
      "execution_count": null,
      "outputs": [
        {
          "output_type": "stream",
          "name": "stdout",
          "text": [
            "행렬 내적 결과:\n",
            " [[ 58  64]\n",
            " [139 154]]\n"
          ]
        }
      ]
    },
    {
      "cell_type": "markdown",
      "source": [
        ">#### 전치 행렬 : 원 행렬에서 행과 열 위치를 교환한 원소로 구성한 행렬\n",
        ">**np.transpose()** 이용"
      ],
      "metadata": {
        "id": "fRY3z7MRwarN"
      }
    },
    {
      "cell_type": "code",
      "source": [
        "A = np.array([[1,2],\n",
        "              [3,4]])\n",
        "transpose_mat = np.transpose(A)\n",
        "print('A의 전치 행렬:\\n',transpose_mat)"
      ],
      "metadata": {
        "colab": {
          "base_uri": "https://localhost:8080/"
        },
        "id": "D782nqrlxe6q",
        "outputId": "fc5a1bc9-c3d7-45ac-a44c-b7b033bf1411"
      },
      "execution_count": null,
      "outputs": [
        {
          "output_type": "stream",
          "name": "stdout",
          "text": [
            "A의 전치 행렬:\n",
            " [[1 3]\n",
            " [2 4]]\n"
          ]
        }
      ]
    }
  ]
}