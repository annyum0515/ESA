{
  "nbformat": 4,
  "nbformat_minor": 0,
  "metadata": {
    "colab": {
      "provenance": [],
      "collapsed_sections": [],
      "authorship_tag": "ABX9TyOooJu35Ob8woV4rLa6bnmy",
      "include_colab_link": true
    },
    "kernelspec": {
      "name": "python3",
      "display_name": "Python 3"
    },
    "language_info": {
      "name": "python"
    }
  },
  "cells": [
    {
      "cell_type": "markdown",
      "metadata": {
        "id": "view-in-github",
        "colab_type": "text"
      },
      "source": [
        "<a href=\"https://colab.research.google.com/github/anwishn/ESAA/blob/main/1007_%EA%B3%BC%EC%A0%9C_%EC%8B%9C%EA%B3%84%EC%97%B4_%EB%8D%B0%EC%9D%B4%ED%84%B0.ipynb\" target=\"_parent\"><img src=\"https://colab.research.google.com/assets/colab-badge.svg\" alt=\"Open In Colab\"/></a>"
      ]
    },
    {
      "cell_type": "markdown",
      "source": [
        "두잇 판다스 입문 p.241-242, 256-263"
      ],
      "metadata": {
        "id": "83rMY0acec0i"
      }
    },
    {
      "cell_type": "markdown",
      "source": [
        "# 12. 시계열 데이터"
      ],
      "metadata": {
        "id": "iAOR27pxehhR"
      }
    },
    {
      "cell_type": "markdown",
      "source": [
        "## 12-1 datatime 오브젝트\n",
        "\n",
        "**datetime 라이브러리** : 날짜와 시간을 처리하는 등의 다양한 기능을 제공하는 파이썬 라이브러리\n",
        "\n",
        "* 날짜를 처리하는 date 오브젝트\n",
        "* 시간을 처리하는 time 오브젝트\n",
        "* 날짜와 시간을 모두 처리하는 datetime 오브젝트"
      ],
      "metadata": {
        "id": "wWda42YAesZ5"
      }
    },
    {
      "cell_type": "markdown",
      "source": [
        "#### datetime 오브젝트 사용하기\n",
        "\n",
        "1. datetime 라이브러리 불러오기"
      ],
      "metadata": {
        "id": "FpOcofMpgr2c"
      }
    },
    {
      "cell_type": "code",
      "execution_count": 28,
      "metadata": {
        "id": "4wRldSaSd6t6"
      },
      "outputs": [],
      "source": [
        "from datetime import datetime"
      ]
    },
    {
      "cell_type": "markdown",
      "source": [
        "2. 현재 시간 출력 - **now**, **today** 메서드 사용"
      ],
      "metadata": {
        "id": "Bpz2Wf4Fg1Ej"
      }
    },
    {
      "cell_type": "code",
      "source": [
        "now1 = datetime.now()\n",
        "print(now1)\n",
        "\n",
        "now2 = datetime.today()\n",
        "print(now2)"
      ],
      "metadata": {
        "colab": {
          "base_uri": "https://localhost:8080/"
        },
        "id": "AlBSyoFvg9mk",
        "outputId": "5341fecc-8019-4e53-a22e-a9516f3b1015"
      },
      "execution_count": 29,
      "outputs": [
        {
          "output_type": "stream",
          "name": "stdout",
          "text": [
            "2022-10-09 13:01:25.344741\n",
            "2022-10-09 13:01:25.346381\n"
          ]
        }
      ]
    },
    {
      "cell_type": "markdown",
      "source": [
        "3. datetime 오브젝트 생성할 때 시간을 직접 입력하여 인자로 전달"
      ],
      "metadata": {
        "id": "czNnzdQ0hH30"
      }
    },
    {
      "cell_type": "code",
      "source": [
        "t1 = datetime.now()      # now 메서드는 밀리초 단위까지 구해\n",
        "t2 = datetime(1970,1,1)\n",
        "t3 = datetime(1970,12,12,13,24,24)\n",
        "\n",
        "print(t1)\n",
        "print(t2)\n",
        "print(t3)"
      ],
      "metadata": {
        "colab": {
          "base_uri": "https://localhost:8080/"
        },
        "id": "fLHubeZDhV6q",
        "outputId": "ed2205eb-04f9-4b67-e7a7-e9c19c0a55c5"
      },
      "execution_count": 30,
      "outputs": [
        {
          "output_type": "stream",
          "name": "stdout",
          "text": [
            "2022-10-09 13:01:25.366078\n",
            "1970-01-01 00:00:00\n",
            "1970-12-12 13:24:24\n"
          ]
        }
      ]
    },
    {
      "cell_type": "markdown",
      "source": [
        "4. datetime 오브젝트 사용 이유 - 시간 계산 가능"
      ],
      "metadata": {
        "id": "82yorFlOhmKd"
      }
    },
    {
      "cell_type": "code",
      "source": [
        "diff1 = t1-t2\n",
        "\n",
        "print(diff1)\n",
        "print(type(diff1))\n",
        "\n",
        "diff2 = t2 - t1\n",
        "\n",
        "print(diff2)\n",
        "print(type(diff2))"
      ],
      "metadata": {
        "colab": {
          "base_uri": "https://localhost:8080/"
        },
        "id": "B0SqxcHLhvoO",
        "outputId": "9ddfd28f-27fd-4578-d739-cdc839610c8e"
      },
      "execution_count": 31,
      "outputs": [
        {
          "output_type": "stream",
          "name": "stdout",
          "text": [
            "19274 days, 13:01:25.366078\n",
            "<class 'datetime.timedelta'>\n",
            "-19275 days, 10:58:34.633922\n",
            "<class 'datetime.timedelta'>\n"
          ]
        }
      ]
    },
    {
      "cell_type": "markdown",
      "source": [
        "## 12-2 사례별 시계열 데이터 계산하기"
      ],
      "metadata": {
        "id": "FMIITku0lGTU"
      }
    },
    {
      "cell_type": "markdown",
      "source": [
        "#### 테슬라 주식 데이터로 시간 계산하기\n",
        "\n",
        "pandas-datareader 라이브러리 이용해 주식 데이터 불러오기"
      ],
      "metadata": {
        "id": "qwih_nN_lJ4t"
      }
    },
    {
      "cell_type": "code",
      "source": [
        "pip install pandas-datareader"
      ],
      "metadata": {
        "colab": {
          "base_uri": "https://localhost:8080/"
        },
        "id": "ONaODEaKlb9Y",
        "outputId": "02883bd8-b9b7-4483-e89c-2064acfbdec0"
      },
      "execution_count": 32,
      "outputs": [
        {
          "output_type": "stream",
          "name": "stdout",
          "text": [
            "Looking in indexes: https://pypi.org/simple, https://us-python.pkg.dev/colab-wheels/public/simple/\n",
            "Requirement already satisfied: pandas-datareader in /usr/local/lib/python3.7/dist-packages (0.9.0)\n",
            "Requirement already satisfied: requests>=2.19.0 in /usr/local/lib/python3.7/dist-packages (from pandas-datareader) (2.23.0)\n",
            "Requirement already satisfied: pandas>=0.23 in /usr/local/lib/python3.7/dist-packages (from pandas-datareader) (1.3.5)\n",
            "Requirement already satisfied: lxml in /usr/local/lib/python3.7/dist-packages (from pandas-datareader) (4.9.1)\n",
            "Requirement already satisfied: python-dateutil>=2.7.3 in /usr/local/lib/python3.7/dist-packages (from pandas>=0.23->pandas-datareader) (2.8.2)\n",
            "Requirement already satisfied: numpy>=1.17.3 in /usr/local/lib/python3.7/dist-packages (from pandas>=0.23->pandas-datareader) (1.21.6)\n",
            "Requirement already satisfied: pytz>=2017.3 in /usr/local/lib/python3.7/dist-packages (from pandas>=0.23->pandas-datareader) (2022.4)\n",
            "Requirement already satisfied: six>=1.5 in /usr/local/lib/python3.7/dist-packages (from python-dateutil>=2.7.3->pandas>=0.23->pandas-datareader) (1.15.0)\n",
            "Requirement already satisfied: idna<3,>=2.5 in /usr/local/lib/python3.7/dist-packages (from requests>=2.19.0->pandas-datareader) (2.10)\n",
            "Requirement already satisfied: chardet<4,>=3.0.2 in /usr/local/lib/python3.7/dist-packages (from requests>=2.19.0->pandas-datareader) (3.0.4)\n",
            "Requirement already satisfied: certifi>=2017.4.17 in /usr/local/lib/python3.7/dist-packages (from requests>=2.19.0->pandas-datareader) (2022.9.24)\n",
            "Requirement already satisfied: urllib3!=1.25.0,!=1.25.1,<1.26,>=1.21.1 in /usr/local/lib/python3.7/dist-packages (from requests>=2.19.0->pandas-datareader) (1.24.3)\n"
          ]
        }
      ]
    },
    {
      "cell_type": "markdown",
      "source": [
        "1) 데이터 불러오기 과정 - **get_data_quandl**, **to_csv** 메서드"
      ],
      "metadata": {
        "id": "j8fPYKuw-qql"
      }
    },
    {
      "cell_type": "code",
      "source": [
        "import pandas as pd\n",
        "pd.core.common.is_list_like = pd.api.types.is_list_like\n",
        "import pandas_datareader as pdr\n",
        "\n",
        "# get_data_quandl 메서드에 TSLA 문자열 전달하여 tesla에는 테슬라의 주식 데이터 데이터프레임이 저장\n",
        "tesla = pdr.get_data_quandl('TSLA',api_key = 'NrEBD3N1WJxRzkHoCsCv')\n",
        "\n",
        "# to_csv 메서드를 사용하여 tesla에 저장된 데이터프레임을 파일에 저장\n",
        "tesla.to_csv('/content/sample_data/tesla_stock_quandl.csv')"
      ],
      "metadata": {
        "id": "M9OJNO1MpmIY"
      },
      "execution_count": 33,
      "outputs": []
    },
    {
      "cell_type": "markdown",
      "source": [
        "2) Date열은 문자열로 저장되어있음을 확인"
      ],
      "metadata": {
        "id": "gOGUv9Gx-16e"
      }
    },
    {
      "cell_type": "code",
      "source": [
        "print(tesla.head())"
      ],
      "metadata": {
        "colab": {
          "base_uri": "https://localhost:8080/"
        },
        "id": "MOHbVa8pycpi",
        "outputId": "2e6f284f-eafb-40c2-9ed5-a4cfc7eadf75"
      },
      "execution_count": 34,
      "outputs": [
        {
          "output_type": "stream",
          "name": "stdout",
          "text": [
            "              Open    High     Low   Close      Volume  ExDividend  \\\n",
            "Date                                                                 \n",
            "2018-03-27  304.00  304.27  277.18  279.18  13696168.0         0.0   \n",
            "2018-03-26  307.34  307.59  291.36  304.18   8324639.0         0.0   \n",
            "2018-03-23  311.25  311.61  300.45  301.54   6600538.0         0.0   \n",
            "2018-03-22  313.89  318.82  308.18  309.10   4914307.0         0.0   \n",
            "2018-03-21  310.25  322.44  310.19  316.53   5927881.0         0.0   \n",
            "\n",
            "            SplitRatio  AdjOpen  AdjHigh  AdjLow  AdjClose   AdjVolume  \n",
            "Date                                                                    \n",
            "2018-03-27         1.0   304.00   304.27  277.18    279.18  13696168.0  \n",
            "2018-03-26         1.0   307.34   307.59  291.36    304.18   8324639.0  \n",
            "2018-03-23         1.0   311.25   311.61  300.45    301.54   6600538.0  \n",
            "2018-03-22         1.0   313.89   318.82  308.18    309.10   4914307.0  \n",
            "2018-03-21         1.0   310.25   322.44  310.19    316.53   5927881.0  \n"
          ]
        }
      ]
    },
    {
      "cell_type": "markdown",
      "source": [
        "3) Date열을 Datetime 형으로 변환 - read_csv 메서드로 데이터 집합 불러올 때 **parse_dates** 인자에 Date열 전달"
      ],
      "metadata": {
        "id": "S8LwPlmc-5F-"
      }
    },
    {
      "cell_type": "code",
      "source": [
        "# read_csv 메서드로 데이터 집합 불러올 때 parse_dates 인자에 Date열 전달\n",
        "tesla = pd.read_csv('/content/sample_data/tesla_stock_quandl.csv', parse_dates=[0])\n",
        "print(tesla.info())"
      ],
      "metadata": {
        "colab": {
          "base_uri": "https://localhost:8080/"
        },
        "id": "WgCUpzvG0ejC",
        "outputId": "a8d5357a-f10b-4113-817d-d1edc7aa62a8"
      },
      "execution_count": 35,
      "outputs": [
        {
          "output_type": "stream",
          "name": "stdout",
          "text": [
            "<class 'pandas.core.frame.DataFrame'>\n",
            "RangeIndex: 115 entries, 0 to 114\n",
            "Data columns (total 13 columns):\n",
            " #   Column      Non-Null Count  Dtype         \n",
            "---  ------      --------------  -----         \n",
            " 0   Date        115 non-null    datetime64[ns]\n",
            " 1   Open        115 non-null    float64       \n",
            " 2   High        115 non-null    float64       \n",
            " 3   Low         115 non-null    float64       \n",
            " 4   Close       115 non-null    float64       \n",
            " 5   Volume      115 non-null    float64       \n",
            " 6   ExDividend  115 non-null    float64       \n",
            " 7   SplitRatio  115 non-null    float64       \n",
            " 8   AdjOpen     115 non-null    float64       \n",
            " 9   AdjHigh     115 non-null    float64       \n",
            " 10  AdjLow      115 non-null    float64       \n",
            " 11  AdjClose    115 non-null    float64       \n",
            " 12  AdjVolume   115 non-null    float64       \n",
            "dtypes: datetime64[ns](1), float64(12)\n",
            "memory usage: 11.8 KB\n",
            "None\n"
          ]
        }
      ]
    },
    {
      "cell_type": "markdown",
      "source": [
        "4) dt 접근자 사용 가능"
      ],
      "metadata": {
        "id": "isMBJaoC_MMR"
      }
    },
    {
      "cell_type": "code",
      "source": [
        "# 불린 추출로 2010년 6월 데이터만 추출\n",
        "print(tesla.loc[(tesla.Date.dt.year == 2010) & (tesla.Date.dt.month == 6)])"
      ],
      "metadata": {
        "colab": {
          "base_uri": "https://localhost:8080/"
        },
        "id": "VTQ4cVNnzNxj",
        "outputId": "63cfa73d-43d1-43a3-ca49-f40b22d93614"
      },
      "execution_count": 36,
      "outputs": [
        {
          "output_type": "stream",
          "name": "stdout",
          "text": [
            "Empty DataFrame\n",
            "Columns: [Date, Open, High, Low, Close, Volume, ExDividend, SplitRatio, AdjOpen, AdjHigh, AdjLow, AdjClose, AdjVolume]\n",
            "Index: []\n"
          ]
        }
      ]
    },
    {
      "cell_type": "markdown",
      "source": [
        "### datetime 오브젝트와 인덱스 - **DatetimeIndex**\n",
        "\n",
        "datetime 오브젝트를 데이터프레임의 인덱스로 설정하면 원하는 시간의 데이터 바로 추출 가능"
      ],
      "metadata": {
        "id": "6dm7wzsT2X_g"
      }
    },
    {
      "cell_type": "markdown",
      "source": [
        "#### datetime 오브젝트를 인덱스로 설정해 데이터 추출하기"
      ],
      "metadata": {
        "id": "Rzep9Nz-2mMC"
      }
    },
    {
      "cell_type": "code",
      "source": [
        "# Date 열을 tesla 데이터프레임의 인덱스로 지정\n",
        "tesla.index = tesla['Date']\n",
        "print(tesla.index)"
      ],
      "metadata": {
        "colab": {
          "base_uri": "https://localhost:8080/"
        },
        "id": "RnTtIkwL2knL",
        "outputId": "d9662f09-642c-4b63-b8a4-fbe5adfd98fc"
      },
      "execution_count": 37,
      "outputs": [
        {
          "output_type": "stream",
          "name": "stdout",
          "text": [
            "DatetimeIndex(['2018-03-27', '2018-03-26', '2018-03-23', '2018-03-22',\n",
            "               '2018-03-21', '2018-03-20', '2018-03-19', '2018-03-16',\n",
            "               '2018-03-15', '2018-03-14',\n",
            "               ...\n",
            "               '2017-10-23', '2017-10-20', '2017-10-19', '2017-10-18',\n",
            "               '2017-10-17', '2017-10-16', '2017-10-13', '2017-10-12',\n",
            "               '2017-10-11', '2017-10-10'],\n",
            "              dtype='datetime64[ns]', name='Date', length=115, freq=None)\n"
          ]
        }
      ]
    },
    {
      "cell_type": "code",
      "source": [
        "# 2015년 데이터 추출\n",
        "print(tesla['2015'].iloc[:5,:5])"
      ],
      "metadata": {
        "colab": {
          "base_uri": "https://localhost:8080/"
        },
        "id": "H5xk8Oh023mA",
        "outputId": "c4bb65fc-b9b8-43ab-dc2d-7b22239571a1"
      },
      "execution_count": 38,
      "outputs": [
        {
          "output_type": "stream",
          "name": "stdout",
          "text": [
            "Empty DataFrame\n",
            "Columns: [Date, Open, High, Low, Close]\n",
            "Index: []\n"
          ]
        },
        {
          "output_type": "stream",
          "name": "stderr",
          "text": [
            "/usr/local/lib/python3.7/dist-packages/ipykernel_launcher.py:2: FutureWarning: Indexing a DataFrame with a datetimelike index using a single string to slice the rows, like `frame[string]`, is deprecated and will be removed in a future version. Use `frame.loc[string]` instead.\n",
            "  \n"
          ]
        }
      ]
    },
    {
      "cell_type": "code",
      "source": [
        "# 2010년 6월 데이터 추출\n",
        "print(tesla['2010-06'].iloc[:,:5])"
      ],
      "metadata": {
        "colab": {
          "base_uri": "https://localhost:8080/"
        },
        "id": "LrFdQOnZ29VN",
        "outputId": "83d2b347-472e-460b-ad24-51f149b5dea1"
      },
      "execution_count": 39,
      "outputs": [
        {
          "output_type": "stream",
          "name": "stdout",
          "text": [
            "Empty DataFrame\n",
            "Columns: [Date, Open, High, Low, Close]\n",
            "Index: []\n"
          ]
        },
        {
          "output_type": "stream",
          "name": "stderr",
          "text": [
            "/usr/local/lib/python3.7/dist-packages/ipykernel_launcher.py:2: FutureWarning: Indexing a DataFrame with a datetimelike index using a single string to slice the rows, like `frame[string]`, is deprecated and will be removed in a future version. Use `frame.loc[string]` instead.\n",
            "  \n"
          ]
        }
      ]
    },
    {
      "cell_type": "markdown",
      "source": [
        "### 시간 간격과 인덱스 - **TimedeltaIndex**"
      ],
      "metadata": {
        "id": "VKFKUYD93JBx"
      }
    },
    {
      "cell_type": "markdown",
      "source": [
        "#### 시간 간격을 인덱스로 지정해 데이터 추출하기"
      ],
      "metadata": {
        "id": "JUwrXO774VuS"
      }
    },
    {
      "cell_type": "code",
      "source": [
        "# Date열에서 Date열의 최솟값을 빼면 데이터 수집 이후 시간이 얼마나 흘렀는지 알수 있음\n",
        "tesla['ref_date'] = tesla['Date'] - tesla['Date'].min()\n",
        "print(tesla.head())"
      ],
      "metadata": {
        "colab": {
          "base_uri": "https://localhost:8080/"
        },
        "id": "UYYroLkM4ZQX",
        "outputId": "e764ea9a-1313-45cc-f3c9-a80a1712704f"
      },
      "execution_count": 40,
      "outputs": [
        {
          "output_type": "stream",
          "name": "stdout",
          "text": [
            "                 Date    Open    High     Low   Close      Volume  ExDividend  \\\n",
            "Date                                                                            \n",
            "2018-03-27 2018-03-27  304.00  304.27  277.18  279.18  13696168.0         0.0   \n",
            "2018-03-26 2018-03-26  307.34  307.59  291.36  304.18   8324639.0         0.0   \n",
            "2018-03-23 2018-03-23  311.25  311.61  300.45  301.54   6600538.0         0.0   \n",
            "2018-03-22 2018-03-22  313.89  318.82  308.18  309.10   4914307.0         0.0   \n",
            "2018-03-21 2018-03-21  310.25  322.44  310.19  316.53   5927881.0         0.0   \n",
            "\n",
            "            SplitRatio  AdjOpen  AdjHigh  AdjLow  AdjClose   AdjVolume  \\\n",
            "Date                                                                     \n",
            "2018-03-27         1.0   304.00   304.27  277.18    279.18  13696168.0   \n",
            "2018-03-26         1.0   307.34   307.59  291.36    304.18   8324639.0   \n",
            "2018-03-23         1.0   311.25   311.61  300.45    301.54   6600538.0   \n",
            "2018-03-22         1.0   313.89   318.82  308.18    309.10   4914307.0   \n",
            "2018-03-21         1.0   310.25   322.44  310.19    316.53   5927881.0   \n",
            "\n",
            "           ref_date  \n",
            "Date                 \n",
            "2018-03-27 168 days  \n",
            "2018-03-26 167 days  \n",
            "2018-03-23 164 days  \n",
            "2018-03-22 163 days  \n",
            "2018-03-21 162 days  \n"
          ]
        }
      ]
    },
    {
      "cell_type": "code",
      "source": [
        "# ref_date 열(시간 간격)을 인덱스로 지정해 데이터 추출\n",
        "tesla.index = tesla['ref_date']\n",
        "print(tesla.iloc[:5, :5])"
      ],
      "metadata": {
        "colab": {
          "base_uri": "https://localhost:8080/"
        },
        "id": "ewqfqYog4sSW",
        "outputId": "a20a9ab6-75de-45ec-bb71-d8352d479556"
      },
      "execution_count": 41,
      "outputs": [
        {
          "output_type": "stream",
          "name": "stdout",
          "text": [
            "               Date    Open    High     Low   Close\n",
            "ref_date                                           \n",
            "168 days 2018-03-27  304.00  304.27  277.18  279.18\n",
            "167 days 2018-03-26  307.34  307.59  291.36  304.18\n",
            "164 days 2018-03-23  311.25  311.61  300.45  301.54\n",
            "163 days 2018-03-22  313.89  318.82  308.18  309.10\n",
            "162 days 2018-03-21  310.25  322.44  310.19  316.53\n"
          ]
        }
      ]
    },
    {
      "cell_type": "code",
      "source": [
        "# 데이터 수집 이후 최초 5일의 데이터 추출\n",
        "print(tesla['5 days':].iloc[:5,:5])   # 4days는 데이터가 처음부터 없어 출력x"
      ],
      "metadata": {
        "colab": {
          "base_uri": "https://localhost:8080/"
        },
        "id": "nRFGucqC49to",
        "outputId": "544fd917-a23b-4013-e799-f51ab253ba83"
      },
      "execution_count": 42,
      "outputs": [
        {
          "output_type": "stream",
          "name": "stdout",
          "text": [
            "               Date    Open    High       Low   Close\n",
            "ref_date                                             \n",
            "3 days   2017-10-13  356.98  358.49  353.6800  355.57\n",
            "2 days   2017-10-12  352.95  359.78  352.6400  355.68\n",
            "1 days   2017-10-11  353.89  357.60  351.1500  354.60\n",
            "0 days   2017-10-10  346.80  355.63  345.5305  355.59\n"
          ]
        }
      ]
    },
    {
      "cell_type": "markdown",
      "source": [
        "### 시간 범위와 인덱스\n",
        "\n",
        "<u>만약 특정 일에 누락된 데이터가 있는 경우</u> => 임의로 시간 범위를 생성하여 인덱스 지정"
      ],
      "metadata": {
        "id": "z2fBmBXK5Tk4"
      }
    },
    {
      "cell_type": "markdown",
      "source": [
        "#### 시간 범위 생성해 인덱스로 지정하기"
      ],
      "metadata": {
        "id": "2f4YXhBT5fB2"
      }
    },
    {
      "cell_type": "markdown",
      "source": [
        "1) 에볼라 데이터 집합 사용 -> 데이터 누락된 것 확인가능"
      ],
      "metadata": {
        "id": "QJJiktw2_h4C"
      }
    },
    {
      "cell_type": "code",
      "source": [
        "ebola = pd.read_csv('/content/sample_data/country_timeseries.csv', parse_dates=[0])\n",
        "print(ebola.iloc[:5,:5])\n",
        "print(ebola.iloc[-5:,:5])"
      ],
      "metadata": {
        "colab": {
          "base_uri": "https://localhost:8080/"
        },
        "id": "ssHJILWM5h9v",
        "outputId": "ab2db57a-d08c-470c-ba6e-ef4ad2420d55"
      },
      "execution_count": 48,
      "outputs": [
        {
          "output_type": "stream",
          "name": "stdout",
          "text": [
            "        Date  Day  Cases_Guinea  Cases_Liberia  Cases_SierraLeone\n",
            "0 2015-01-05  289        2776.0            NaN            10030.0\n",
            "1 2015-01-04  288        2775.0            NaN             9780.0\n",
            "2 2015-01-03  287        2769.0         8166.0             9722.0\n",
            "3 2015-01-02  286           NaN         8157.0                NaN\n",
            "4 2014-12-31  284        2730.0         8115.0             9633.0\n",
            "          Date  Day  Cases_Guinea  Cases_Liberia  Cases_SierraLeone\n",
            "117 2014-03-27    5         103.0            8.0                6.0\n",
            "118 2014-03-26    4          86.0            NaN                NaN\n",
            "119 2014-03-25    3          86.0            NaN                NaN\n",
            "120 2014-03-24    2          86.0            NaN                NaN\n",
            "121 2014-03-22    0          49.0            NaN                NaN\n"
          ]
        }
      ]
    },
    {
      "cell_type": "markdown",
      "source": [
        "2) **date_range** 메서드 사용 -> 시간 인덱스 DatetimeIndex 생성"
      ],
      "metadata": {
        "id": "TwAM6GNP_fpv"
      }
    },
    {
      "cell_type": "code",
      "source": [
        "head_range = pd.date_range(start='2014-12-31', end='2015-01-05')\n",
        "print(head_range)"
      ],
      "metadata": {
        "colab": {
          "base_uri": "https://localhost:8080/"
        },
        "id": "FhATsHk-7fye",
        "outputId": "ca9f4a3d-21fa-411c-926f-e9cc5ad2f156"
      },
      "execution_count": 49,
      "outputs": [
        {
          "output_type": "stream",
          "name": "stdout",
          "text": [
            "DatetimeIndex(['2014-12-31', '2015-01-01', '2015-01-02', '2015-01-03',\n",
            "               '2015-01-04', '2015-01-05'],\n",
            "              dtype='datetime64[ns]', freq='D')\n"
          ]
        }
      ]
    },
    {
      "cell_type": "markdown",
      "source": [
        "3) 원본 데이터 손상 방지 위해 앞쪽 5개 데이터 추출해 새로운 데이터프레임 만든 것\n",
        "\n",
        "Date 열을 인덱스로 먼저 지정하지 않으면 오류 발생 -> 반드시 Date열을 인덱스로 지정한 뒤 시간 범위를 인덱스로 지정"
      ],
      "metadata": {
        "id": "0uNQUnHB_m1R"
      }
    },
    {
      "cell_type": "code",
      "source": [
        "ebola_5 = ebola.head()\n",
        "ebola_5.index = ebola_5['Date']\n",
        "ebola_5.reindex(head_range) \n",
        "print(ebola_5.iloc[:5,:5])"
      ],
      "metadata": {
        "colab": {
          "base_uri": "https://localhost:8080/"
        },
        "id": "eXkn4kIn78sU",
        "outputId": "282d8ead-6e35-4c0f-970f-b08ac10fe42a"
      },
      "execution_count": 50,
      "outputs": [
        {
          "output_type": "stream",
          "name": "stdout",
          "text": [
            "                 Date  Day  Cases_Guinea  Cases_Liberia  Cases_SierraLeone\n",
            "Date                                                                      \n",
            "2015-01-05 2015-01-05  289        2776.0            NaN            10030.0\n",
            "2015-01-04 2015-01-04  288        2775.0            NaN             9780.0\n",
            "2015-01-03 2015-01-03  287        2769.0         8166.0             9722.0\n",
            "2015-01-02 2015-01-02  286           NaN         8157.0                NaN\n",
            "2014-12-31 2014-12-31  284        2730.0         8115.0             9633.0\n"
          ]
        }
      ]
    },
    {
      "cell_type": "markdown",
      "source": [
        "#### 시간 범위의 주기 설정하기\n",
        "\n",
        "시간 범위를 인덱스로 지정하면 DatetimeIndex 자료형 만들어진다.\n",
        "\n",
        "그 속에 포함된 freq 속성값 지정하면 시간 간격 조절해 DatetimeIndex 만들 수 있다.\n",
        "\n",
        "* freq 속성값으로 사용할 수 있는 시간 주기\n",
        ">* B : 평일만 포함\n",
        ">* C : 사용자가 정의한 평일만 포함\n",
        ">* D : 달력 일자 단위\n",
        ">* W : 주간 단위\n",
        ">* M : 월 마지막 날만 포함\n",
        ">* SM : 15일과 월 마지막 날만 포함\n",
        ">* BM : M주기의 값이 휴일이면 제외하고 평일만 포함\n",
        ">* CBM : BM에 사용자 정의 평일을 적용\n",
        ">* MS : 월 시작일만 포함\n",
        ">* SMS : 월 시작일과 15일만 포함\n",
        ">* BMS : MS 주기의 값이 휴일이면 제외하고 평일만 포함\n",
        ">* CBMS : BMS에 사용자 정의 평일을 적용\n",
        ">* Q : 3,6,9,12월 분기 마지막 날만 포함\n",
        ">* BQ : 3,6,9,12월 분기 마지막 날이 휴일이면 제외하고 평일만 포함\n",
        ">* QS : 3,6,9,12월 분기 시작일만 포함\n",
        ">* BQS : 3,6,9,12월 분기 시작일이 휴일이면 제외하고 평일만 포함\n",
        ">* A : 년의 마지막 날만 포함\n",
        ">* BA : 년의 마지막 날이 휴일이면 제외하고 평일만 포함\n",
        ">* AS : 년의 시작일만 포함\n",
        ">* BAS : 년의 시작일이 휴일이면 제외하고 평일만 포함\n",
        ">* BH : 평일을 시간 단위로 포함(09:00~16:00)\n",
        ">* H : 시간 단위로 포함(00:00~00:00)\n",
        ">* T : 분 단위 포함\n",
        ">* S : 초 단위 포함\n",
        ">* L : 밀리초 단위 포함\n",
        ">* U : 마이크로초 단위 포함\n",
        ">* N : 나노초 단위 포함"
      ],
      "metadata": {
        "id": "_XyXXGA18gyJ"
      }
    }
  ]
}